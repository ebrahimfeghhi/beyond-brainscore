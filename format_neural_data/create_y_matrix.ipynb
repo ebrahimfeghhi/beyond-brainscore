{
 "cells": [
  {
   "cell_type": "code",
   "execution_count": 7,
   "metadata": {},
   "outputs": [],
   "source": [
    "import numpy as np\n",
    "import pandas as pd\n",
    "import xarray as xr"
   ]
  },
  {
   "cell_type": "code",
   "execution_count": 8,
   "metadata": {},
   "outputs": [],
   "source": [
    "nc_file = '/data/LLMs/data_processed/pereira/dataset/pereira_all.nc'\n",
    "pereira_data = xr.open_dataset(nc_file)"
   ]
  },
  {
   "cell_type": "code",
   "execution_count": 9,
   "metadata": {},
   "outputs": [],
   "source": [
    "reordered_idxs = np.load('/data/LLMs/data_processed/pereira/dataset/reordered_idxs.npy') # just reorders the neural data to be in line with data labels and X"
   ]
  },
  {
   "cell_type": "markdown",
   "metadata": {},
   "source": [
    "y_ordered = np.load('/data/LLMs/data_processed/pereira/dataset/y_pereira_both.npy')"
   ]
  },
  {
   "cell_type": "code",
   "execution_count": 10,
   "metadata": {},
   "outputs": [],
   "source": [
    "y_all = pereira_data.data[reordered_idxs]\n",
    "subjects_all = pereira_data.subject\n",
    "networks_all = pereira_data.atlas\n",
    "col_to_coord1 = pereira_data.col_to_coord_1\n",
    "col_to_coord2 = pereira_data.col_to_coord_2\n",
    "col_to_coord3 = pereira_data.col_to_coord_3\n",
    "lang_indices = np.squeeze(np.array(pereira_data['atlas']) == 'language')\n",
    "y_all_lang = pereira_data.data[reordered_idxs][:, lang_indices]"
   ]
  },
  {
   "cell_type": "code",
   "execution_count": null,
   "metadata": {},
   "outputs": [],
   "source": [
    "np.save('/data/LLMs/data_processed/pereira/dataset/subjects_complete', np.array(pereira_data['subject']))\n",
    "np.save('/data/LLMs/data_processed/pereira/dataset/network_complete', np.array(pereira_data['atlas']))\n",
    "np.save('/data/LLMs/data_processed/pereira/dataset/subjects_complete_lang', np.array(pereira_data['subject'])[lang_indices])\n",
    "np.save('/data/LLMs/data_processed/pereira/dataset/network_complete_lang', np.array(pereira_data['atlas'])[lang_indices])"
   ]
  },
  {
   "cell_type": "code",
   "execution_count": 20,
   "metadata": {},
   "outputs": [],
   "source": [
    "y_all_243 = y_all[:243]\n",
    "\n",
    "y_all_384 = y_all[243:]\n",
    "\n",
    "#nan_indices_384 = np.where(np.isnan(y_all_384[0]))[0]\n",
    "\n",
    "# Find indices in y_all_243 where values are not NaN based\n",
    "# Do this more efficiently by just looking for rows where the first entry\n",
    "non_nan_indices_243 = np.where(~np.isnan(y_all_243[0]))[0]\n",
    "\n",
    "# Find indices in y_all_384 where values are not NaN\n",
    "non_nan_indices_384 = np.where(~np.isnan(y_all_384[0]))[0]\n",
    "\n",
    "y_all_243_lang = y_all_lang[:243]\n",
    "\n",
    "y_all_384_lang = y_all_lang[243:]\n",
    "\n",
    "#nan_indices_384 = np.where(np.isnan(y_all_384[0]))[0]\n",
    "\n",
    "# Find indices in y_all_243 where values are not NaN based\n",
    "# Do this more efficiently by just looking for rows where the first entry\n",
    "non_nan_indices_243_lang = np.where(~np.isnan(y_all_243_lang[0]))[0]\n",
    "\n",
    "# Find indices in y_all_384 where values are not NaN\n",
    "non_nan_indices_384_lang = np.where(~np.isnan(y_all_384_lang[0]))[0]\n",
    "\n",
    "np.save('/data/LLMs/data_processed/pereira/dataset/non_nan_indices_243', non_nan_indices_243)\n",
    "np.save('/data/LLMs/data_processed/pereira/dataset/non_nan_indices_384', non_nan_indices_384)\n",
    "np.save('/data/LLMs/data_processed/pereira/dataset/non_nan_indices_243_lang', non_nan_indices_243_lang)\n",
    "np.save('/data/LLMs/data_processed/pereira/dataset/non_nan_indices_384_lang', non_nan_indices_384_lang)"
   ]
  },
  {
   "cell_type": "code",
   "execution_count": 22,
   "metadata": {},
   "outputs": [],
   "source": [
    "y_all_243 = np.array(y_all[:243])\n",
    "nan_indices = np.where(np.isnan(y_all_243[0]))[0]\n",
    "cleaned_array_243 = np.array(np.delete(y_all_243, nan_indices, axis=1))\n",
    "subjects_all_243 = np.array(np.delete(subjects_all, nan_indices))\n",
    "networks_all_243 = np.array(np.delete(networks_all, nan_indices))\n",
    "col_to_coord1_243 = np.array(np.delete(col_to_coord1, nan_indices))\n",
    "col_to_coord2_243 = np.array(np.delete(col_to_coord2, nan_indices))\n",
    "col_to_coord3_243 = np.array(np.delete(col_to_coord3, nan_indices))\n",
    "y_all_384 = np.array(y_all[243:])\n",
    "nan_indices = np.array(np.where(np.isnan(y_all_384[0]))[0])\n",
    "cleaned_array_384 = np.array(np.delete(y_all_384, nan_indices, axis=1))\n",
    "subjects_all_384 = np.array(np.delete(subjects_all, nan_indices))\n",
    "networks_all_384 = np.array(np.delete(networks_all, nan_indices))\n",
    "col_to_coord1_384 = np.array(np.delete(col_to_coord1, nan_indices))\n",
    "col_to_coord2_384 = np.array(np.delete(col_to_coord2, nan_indices))\n",
    "col_to_coord3_384 = np.array(np.delete(col_to_coord3, nan_indices))"
   ]
  },
  {
   "cell_type": "code",
   "execution_count": 23,
   "metadata": {},
   "outputs": [],
   "source": [
    "np.save('/data/LLMs/data_processed/pereira/dataset/y_pereira_243.npy', cleaned_array_243)\n",
    "np.save('/data/LLMs/data_processed/pereira/dataset/subjects_243.npy', subjects_all_243)\n",
    "np.save('/data/LLMs/data_processed/pereira/dataset/networks_243.npy', networks_all_243)\n",
    "np.save('/data/LLMs/data_processed/pereira/dataset/col_to_coord_1_243.npy', col_to_coord1_243)\n",
    "np.save('/data/LLMs/data_processed/pereira/dataset/col_to_coord_2_243.npy', col_to_coord2_243)\n",
    "np.save('/data/LLMs/data_processed/pereira/dataset/col_to_coord_3_243.npy', col_to_coord3_243)\n",
    "\n",
    "\n",
    "np.save('/data/LLMs/data_processed/pereira/dataset/y_pereira_384.npy', cleaned_array_384)\n",
    "np.save('/data/LLMs/data_processed/pereira/dataset/subjects_384.npy', subjects_all_384)\n",
    "np.save('/data/LLMs/data_processed/pereira/dataset/networks_384.npy', networks_all_384)\n",
    "np.save('/data/LLMs/data_processed/pereira/dataset/col_to_coord_1_384.npy', col_to_coord1_384)\n",
    "np.save('/data/LLMs/data_processed/pereira/dataset/col_to_coord_2_384.npy', col_to_coord2_384)\n",
    "np.save('/data/LLMs/data_processed/pereira/dataset/col_to_coord_3_384.npy', col_to_coord3_384)"
   ]
  },
  {
   "cell_type": "code",
   "execution_count": 34,
   "metadata": {},
   "outputs": [],
   "source": [
    "lang_indices_243 = np.argwhere(networks_all_243=='language').squeeze()\n",
    "lang_indices_384 = np.argwhere(networks_all_384=='language').squeeze()\n",
    "\n",
    "np.save('/data/LLMs/data_processed/pereira/dataset/y_pereira_243_lang.npy', cleaned_array_243[:, lang_indices_243])\n",
    "np.save('/data/LLMs/data_processed/pereira/dataset/subjects_243_lang.npy', subjects_all_243[lang_indices_243])\n",
    "np.save('/data/LLMs/data_processed/pereira/dataset/networks_243_lang.npy', networks_all_243[lang_indices_243])\n",
    "np.save('/data/LLMs/data_processed/pereira/dataset/col_to_coord_1_243_lang.npy', col_to_coord1_243[lang_indices_243])\n",
    "np.save('/data/LLMs/data_processed/pereira/dataset/col_to_coord_2_243_lang.npy', col_to_coord2_243[lang_indices_243])\n",
    "np.save('/data/LLMs/data_processed/pereira/dataset/col_to_coord_3_243_lang.npy', col_to_coord3_243[lang_indices_243])\n",
    "\n",
    "\n",
    "np.save('/data/LLMs/data_processed/pereira/dataset/y_pereira_384_lang.npy', cleaned_array_384[:, lang_indices_384])\n",
    "np.save('/data/LLMs/data_processed/pereira/dataset/subjects_384_lang.npy', subjects_all_384[lang_indices_384])\n",
    "np.save('/data/LLMs/data_processed/pereira/dataset/networks_384_lang.npy', networks_all_384[lang_indices_384])\n",
    "np.save('/data/LLMs/data_processed/pereira/dataset/col_to_coord_1_384_lang.npy', col_to_coord1_384[lang_indices_384])\n",
    "np.save('/data/LLMs/data_processed/pereira/dataset/col_to_coord_2_384_lang.npy', col_to_coord2_384[lang_indices_384])\n",
    "np.save('/data/LLMs/data_processed/pereira/dataset/col_to_coord_3_384_lang.npy', col_to_coord3_384[lang_indices_384])\n",
    "\n"
   ]
  },
  {
   "cell_type": "code",
   "execution_count": null,
   "metadata": {},
   "outputs": [],
   "source": [
    "nc_file = '/data/LLMs/data_processed/fedorenko/dataset/fedorenko.nc'\n",
    "fed_data = xr.open_dataset(nc_file)\n",
    "y = np.save('/data/LLMs/data_processed/fedorenko/dataset/y_fedorenko', fed_data.data)\n"
   ]
  },
  {
   "cell_type": "code",
   "execution_count": null,
   "metadata": {},
   "outputs": [],
   "source": [
    "nc_file = '/data/LLMs/data_processed/blank/dataset/blank.nc'\n",
    "blank_data = xr.open_dataset(nc_file)\n",
    "y = np.save('/data/LLMs/data_processed/fedorenko/dataset/y_blank', blank_data.data)"
   ]
  }
 ],
 "metadata": {
  "kernelspec": {
   "display_name": "llama",
   "language": "python",
   "name": "python3"
  },
  "language_info": {
   "codemirror_mode": {
    "name": "ipython",
    "version": 3
   },
   "file_extension": ".py",
   "mimetype": "text/x-python",
   "name": "python",
   "nbconvert_exporter": "python",
   "pygments_lexer": "ipython3",
   "version": "3.11.13"
  },
  "orig_nbformat": 4
 },
 "nbformat": 4,
 "nbformat_minor": 2
}
