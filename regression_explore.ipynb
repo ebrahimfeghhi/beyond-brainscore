{
 "cells": [
  {
   "cell_type": "code",
   "execution_count": 29,
   "metadata": {},
   "outputs": [],
   "source": [
    "# Generate example data\n",
    "import numpy as np\n",
    "from sklearn.linear_model import LinearRegression\n",
    "from sklearn.metrics import r2_score\n",
    "from scipy.stats import pearsonr"
   ]
  },
  {
   "cell_type": "code",
   "execution_count": 18,
   "metadata": {},
   "outputs": [
    {
     "name": "stdout",
     "output_type": "stream",
     "text": [
      "0.9868523821370109\n"
     ]
    }
   ],
   "source": [
    "np.random.seed(0)\n",
    "X = np.random.rand(100)  # 1D array with 100 random values for X\n",
    "y = 3 * X + np.random.normal(0, 0.1, 100)  # y = 3*X + some noise\n",
    "\n",
    "# Reshape X for linear regression (scikit-learn expects 2D input for features)\n",
    "X = X.reshape(-1, 1)\n",
    "\n",
    "# Fit linear regression model\n",
    "model = LinearRegression()\n",
    "model.fit(X, y)\n",
    "\n",
    "# Predict y values\n",
    "y_pred = model.predict(X)\n",
    "\n",
    "# Calculate R^2 score\n",
    "r2 = r2_score(y, y_pred)\n",
    "\n",
    "print(r2)"
   ]
  },
  {
   "cell_type": "code",
   "execution_count": 26,
   "metadata": {},
   "outputs": [
    {
     "name": "stdout",
     "output_type": "stream",
     "text": [
      "0.9355189329041746 0.8751956738221653 0.8751956738221657\n"
     ]
    }
   ],
   "source": [
    "import numpy as np\n",
    "from sklearn.linear_model import LinearRegression\n",
    "from sklearn.metrics import r2_score\n",
    "\n",
    "# Generate example data with 5 variables\n",
    "np.random.seed(0)\n",
    "X = np.random.rand(100, 5)  # 100 samples, 5 features\n",
    "true_coefficients = np.array([2, -1, 3, 0.5, -2])  # Coefficients for each feature\n",
    "\n",
    "# Generate y with a linear relationship to X plus some noise\n",
    "y = X.dot(true_coefficients) + np.random.normal(0, 0.5, 100)\n",
    "\n",
    "# Fit linear regression model\n",
    "model = LinearRegression()\n",
    "model.fit(X, y)\n",
    "\n",
    "# Predict y values\n",
    "y_pred = model.predict(X)\n",
    "\n",
    "# Calculate R^2 score\n",
    "r2 = r2_score(y, y_pred)\n",
    "\n",
    "# Calculate R^2 score\n",
    "r, _ = pearsonr(y, y_pred)\n",
    "print(r, r2, r**2)"
   ]
  },
  {
   "cell_type": "code",
   "execution_count": 44,
   "metadata": {},
   "outputs": [
    {
     "name": "stdout",
     "output_type": "stream",
     "text": [
      "-0.10958864279182445 0.07851768970036267 0.006165027595882439\n"
     ]
    }
   ],
   "source": [
    "import numpy as np\n",
    "from sklearn.linear_model import LinearRegression\n",
    "from sklearn.metrics import r2_score\n",
    "from sklearn.model_selection import train_test_split\n",
    "\n",
    "# Generate example data with 5 variables\n",
    "np.random.seed(0)\n",
    "feats = 300\n",
    "X = np.random.rand(100, feats)  # 100 samples, 5 features\n",
    "true_coefficients = np.random.randint(-20, 20, feats)\n",
    "\n",
    "# Generate y with a linear relationship to X plus some noise\n",
    "y = X.dot(true_coefficients) + np.random.normal(0, 40, 100)\n",
    "\n",
    "# Split the data into training and testing sets (80% train, 20% test)\n",
    "X_train, X_test, y_train, y_test = train_test_split(X, y, test_size=0.2, random_state=0)\n",
    "\n",
    "# Fit linear regression model on the training set\n",
    "model = LinearRegression()\n",
    "model.fit(X_train, y_train)\n",
    "\n",
    "# Predict y values for the test set\n",
    "y_test_pred = model.predict(X_test)\n",
    "\n",
    "# Calculate R^2 score on the test set\n",
    "r2_test = r2_score(y_test, y_test_pred)\n",
    "\n",
    "r_test, _ = pearsonr(y_test, y_test_pred)\n",
    "\n",
    "print(r2_test, r_test, r_test**2)\n"
   ]
  },
  {
   "cell_type": "code",
   "execution_count": 56,
   "metadata": {},
   "outputs": [
    {
     "name": "stdout",
     "output_type": "stream",
     "text": [
      "Best alpha: 10000000000.0\n",
      "Best R^2 score on the test set: -0.0309398388213582\n",
      "Best Pearson correlation coefficient: -0.13554758988685145\n",
      "Best Pearson r^2: 0.018373149124134073\n"
     ]
    }
   ],
   "source": [
    "import numpy as np\n",
    "from sklearn.linear_model import Ridge\n",
    "from sklearn.metrics import r2_score\n",
    "from sklearn.model_selection import train_test_split\n",
    "from scipy.stats import pearsonr\n",
    "\n",
    "# Generate example data with 300 features\n",
    "np.random.seed(0)\n",
    "feats = 300\n",
    "X = np.random.rand(100, feats)  # 100 samples, 300 features\n",
    "true_coefficients = np.random.randint(-20, 20, feats)\n",
    "\n",
    "# Generate y with a linear relationship to X plus some noise\n",
    "y = X.dot(true_coefficients) + np.random.normal(0, 40, 100)\n",
    "\n",
    "# Split the data into training and testing sets (80% train, 20% test)\n",
    "X_train, X_test, y_train, y_test = train_test_split(X, y, test_size=0.2, random_state=0)\n",
    "\n",
    "# Define a range of alpha values to test\n",
    "alphas = np.linspace(1e-5,1e10,100)\n",
    "\n",
    "# Track the best alpha and best R^2 score on the test set\n",
    "best_alpha = None\n",
    "best_r2_test = -np.inf\n",
    "best_r_test = None\n",
    "\n",
    "for alpha in alphas:\n",
    "    # Fit Ridge regression model with current alpha\n",
    "    model = Ridge(alpha=alpha)\n",
    "    model.fit(X_train, y_train)\n",
    "    \n",
    "    # Predict y values for the test set\n",
    "    y_test_pred = model.predict(X_test)\n",
    "    \n",
    "    # Calculate R^2 score and Pearson correlation on the test set\n",
    "    r2_test = r2_score(y_test, y_test_pred)\n",
    "    r_test, _ = pearsonr(y_test, y_test_pred)\n",
    "    \n",
    "    # Check if this is the best R^2 score we've found so far\n",
    "    if r2_test > best_r2_test:\n",
    "        best_r2_test = r2_test\n",
    "        best_alpha = alpha\n",
    "        best_r_test = r_test\n",
    "\n",
    "# Print the best results\n",
    "print(\"Best alpha:\", best_alpha)\n",
    "print(\"Best R^2 score on the test set:\", best_r2_test)\n",
    "print(\"Best Pearson correlation coefficient:\", best_r_test)\n",
    "print(\"Best Pearson r^2:\", best_r_test**2)\n"
   ]
  },
  {
   "cell_type": "code",
   "execution_count": null,
   "metadata": {},
   "outputs": [],
   "source": []
  }
 ],
 "metadata": {
  "kernelspec": {
   "display_name": "llm_brain",
   "language": "python",
   "name": "python3"
  },
  "language_info": {
   "codemirror_mode": {
    "name": "ipython",
    "version": 3
   },
   "file_extension": ".py",
   "mimetype": "text/x-python",
   "name": "python",
   "nbconvert_exporter": "python",
   "pygments_lexer": "ipython3",
   "version": "3.11.4"
  },
  "orig_nbformat": 4
 },
 "nbformat": 4,
 "nbformat_minor": 2
}
