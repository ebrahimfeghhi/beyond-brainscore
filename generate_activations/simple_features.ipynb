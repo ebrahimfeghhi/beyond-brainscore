{
 "cells": [
  {
   "cell_type": "code",
   "execution_count": 3,
   "metadata": {},
   "outputs": [],
   "source": [
    "import numpy as np\n",
    "import seaborn as sns\n",
    "import sys\n",
    "sys.path.append('/home2/ebrahim/beyond-brainscore/analyze_results/figures_code/')\n",
    "from trained_untrained_results_funcs import find_best_layer, loop_through_datasets"
   ]
  },
  {
   "cell_type": "code",
   "execution_count": 4,
   "metadata": {},
   "outputs": [],
   "source": [
    "%config InlineBackend.figure_format='svg'\n",
    "import matplotlib.pyplot as plt\n",
    "plt.rcParams['font.family'] = 'Helvetica'"
   ]
  },
  {
   "attachments": {},
   "cell_type": "markdown",
   "metadata": {},
   "source": [
    "## Generate simple features for fedorenko"
   ]
  },
  {
   "cell_type": "code",
   "execution_count": 5,
   "metadata": {},
   "outputs": [
    {
     "name": "stdout",
     "output_type": "stream",
     "text": [
      "0.0\n"
     ]
    }
   ],
   "source": [
    "# include punctuation\n",
    "from scipy.ndimage import gaussian_filter1d\n",
    "\n",
    "word_len = []\n",
    "with open('/data/LLMs/data_processed/fedorenko/text/sentences_ordered.txt', 'r') as file:\n",
    "    for line in file:\n",
    "        words = line.split()\n",
    "        word_len.extend([len(word) for word in words])\n",
    "    \n",
    "word_len = np.expand_dims(word_len, axis=-1)\n",
    "growing_act = np.expand_dims(np.tile([0, 1, 2, 3, 4, 5, 6, 7], 52),axis=-1)\n",
    "\n",
    "# Initialize the matrix\n",
    "rows, cols = 416, 8\n",
    "pos_matrix = np.zeros((rows, cols))\n",
    "\n",
    "# Fill the matrix with the cyclic one-hot encoding\n",
    "for i in range(rows):\n",
    "    pos_matrix[i, i % cols] = 1\n",
    "    \n",
    "sigma_range = np.round(np.arange(0, 4.8, 0.1),2)\n",
    "position_fed = {}\n",
    "wn_position_fed = {}\n",
    "for s in sigma_range:\n",
    "    if s == 0:\n",
    "        print(s)\n",
    "        position_fed[f'layer_{s}'] = np.hstack((pos_matrix, growing_act))\n",
    "        wn_position_fed[f'layer_{s}'] = np.hstack((pos_matrix, growing_act, word_len)) \n",
    "    else:\n",
    "        position_fed[f'layer_{s}'] =  np.hstack((np.array([gaussian_filter1d(row, sigma=s) for row in pos_matrix]),growing_act))\n",
    "        wn_position_fed[f'layer_{s}'] = np.hstack((np.array([gaussian_filter1d(row, sigma=s) for row in pos_matrix]),growing_act, word_len))\n",
    "\n",
    "\n",
    "np.savez('/data/LLMs/data_processed/fedorenko/acts/X_pos.npz', **position_fed)\n",
    "np.savez('/data/LLMs/data_processed/fedorenko/acts/X_wn+pos.npz', **wn_position_fed)\n",
    "#fed_position = np.load('/data/LLMs/data_processed/fedorenko/acts/X_soft+grow.npz')['layer1']\n",
    "#fed_position_word_len = np.hstack((fed_position, np.expand_dims(word_len,axis=-1)))\n",
    "#np.savez('/data/LLMs/data_processed/fedorenko/acts/X_soft+grow.npz')"
   ]
  },
  {
   "cell_type": "code",
   "execution_count": 8,
   "metadata": {},
   "outputs": [
    {
     "data": {
      "text/plain": [
       "array([0. , 0.1, 0.2, 0.3, 0.4, 0.5, 0.6, 0.7, 0.8, 0.9, 1. , 1.1, 1.2,\n",
       "       1.3, 1.4, 1.5, 1.6, 1.7, 1.8, 1.9, 2. , 2.1, 2.2, 2.3, 2.4, 2.5,\n",
       "       2.6, 2.7, 2.8, 2.9, 3. , 3.1, 3.2, 3.3, 3.4, 3.5, 3.6, 3.7, 3.8,\n",
       "       3.9, 4. , 4.1, 4.2, 4.3, 4.4, 4.5, 4.6, 4.7])"
      ]
     },
     "execution_count": 8,
     "metadata": {},
     "output_type": "execute_result"
    }
   ],
   "source": [
    "sigma_range = np.round(np.arange(0, 4.8, 0.1),2)"
   ]
  },
  {
   "cell_type": "code",
   "execution_count": 105,
   "metadata": {},
   "outputs": [
    {
     "name": "stdout",
     "output_type": "stream",
     "text": [
      "1\n",
      "0.04867559145721991\n"
     ]
    }
   ],
   "source": [
    "for dataset, fe, exp, subjects, network in loop_through_datasets(['fedorenko'], ['']):\n",
    "\n",
    "    layer_perf_dict, best_layer, layer_perf_best  = find_best_layer([1], noL2_str='', \n",
    "                    exp=exp, resultsPath='/data/LLMs/brainscore/results_fedorenko/', subjects=subjects, \n",
    "                    dataset='fedorenko', perf='out_of_sample_r2', \n",
    "                    selected_network_indices = np.arange(network.shape[0]), \n",
    "                    feature_extraction = '', model_name=f'glove_wn+pos', \n",
    "                    seed_number=None, \n",
    "                    return_SE=False, niter=1000)\n",
    "    print(best_layer)\n",
    "    print(layer_perf_dict[best_layer])"
   ]
  },
  {
   "cell_type": "code",
   "execution_count": 101,
   "metadata": {},
   "outputs": [],
   "source": [
    "glove_sp = np.load('/data/LLMs/data_processed/fedorenko/acts/X_glove-sp.npz')['layer_0']\n",
    "np.savez('/data/LLMs/data_processed/fedorenko/acts/X_glove_wn+pos', **{'layer1':np.hstack((glove_sp, wn_position_fed['layer_4.3']))})"
   ]
  },
  {
   "attachments": {},
   "cell_type": "markdown",
   "metadata": {},
   "source": [
    "## Generate simple features for blank"
   ]
  },
  {
   "cell_type": "code",
   "execution_count": 2,
   "metadata": {},
   "outputs": [],
   "source": [
    "def get_pos_for_story(len_story, len_pos=30):\n",
    "    return np.clip((np.arange(0,len_pos) * np.ones((len_story,len_pos))).T,\n",
    "                    np.zeros(len_story), np.clip(np.arange(0,len_story),0,len_pos) ).T\n",
    "    \n",
    "def get_pos_for_stories(story_lens, len_pos=30):\n",
    "    return np.concatenate([get_pos_for_story(l, len_pos) for l in story_lens])\n",
    "\n",
    "\n",
    "dataset='blank'\n",
    "blank_data = np.load(f\"{basePath_data}{dataset}/text/story_data_dict.npz\")\n",
    "experiment_txt = []\n",
    "data_labels = []\n",
    "for key, val in blank_data.items():\n",
    "    experiment_txt.extend(val)\n",
    "    data_labels.extend(np.repeat(key, len(val)))\n",
    "\n",
    "story_lens = np.diff(np.append(np.unique(data_labels, return_index=True)[1],1317))\n",
    "blank_simple_acts = {}\n",
    "for i in np.arange(3,51):\n",
    "    blank_acts = get_pos_for_stories(story_lens,i) # get the ramping activations used by Antonello \n",
    "    blank_acts = blank_acts[:, 1:] # remove the 0th dimension since it's a constant anyways\n",
    "    blank_acts = np.concatenate((np.array(([len(x.split()) for x in experiment_txt] * 1)).reshape(1,1317).T, blank_acts),axis=1) # stack on a word rate feature\n",
    "    blank_simple_acts[f'layer_{i}'] = blank_acts"
   ]
  },
  {
   "cell_type": "code",
   "execution_count": 36,
   "metadata": {},
   "outputs": [],
   "source": [
    "np.savez('/data/LLMs/data_processed/blank/acts/X_pos-WN', **blank_simple_acts)"
   ]
  },
  {
   "cell_type": "code",
   "execution_count": 34,
   "metadata": {},
   "outputs": [
    {
     "data": {
      "text/plain": [
       "<Axes: >"
      ]
     },
     "execution_count": 34,
     "metadata": {},
     "output_type": "execute_result"
    },
    {
     "data": {
      "image/png": "[encoded data removed]",
      "text/plain": [
       "<Figure size 640x480 with 2 Axes>"
      ]
     },
     "metadata": {},
     "output_type": "display_data"
    }
   ],
   "source": [
    "sns.heatmap(blank_acts)"
   ]
  },
  {
   "cell_type": "code",
   "execution_count": null,
   "metadata": {},
   "outputs": [],
   "source": []
  }
 ],
 "metadata": {
  "kernelspec": {
   "display_name": "llm_brain",
   "language": "python",
   "name": "python3"
  },
  "language_info": {
   "codemirror_mode": {
    "name": "ipython",
    "version": 3
   },
   "file_extension": ".py",
   "mimetype": "text/x-python",
   "name": "python",
   "nbconvert_exporter": "python",
   "pygments_lexer": "ipython3",
   "version": "3.11.4"
  },
  "orig_nbformat": 4
 },
 "nbformat": 4,
 "nbformat_minor": 2
}
