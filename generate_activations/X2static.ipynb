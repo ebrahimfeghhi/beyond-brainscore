{
 "cells": [
  {
   "cell_type": "code",
   "execution_count": 4,
   "metadata": {},
   "outputs": [],
   "source": [
    "import numpy as np\n",
    "from gensim.models import KeyedVectors\n",
    "import spacy \n",
    "nlp = spacy.load(\"en_core_web_lg\")"
   ]
  },
  {
   "cell_type": "code",
   "execution_count": 1,
   "metadata": {},
   "outputs": [],
   "source": [
    "# experiment with X2static word embeddings, but didn't do better than glove and thats simpler \n",
    "# so we didn't use"
   ]
  },
  {
   "cell_type": "code",
   "execution_count": 5,
   "metadata": {},
   "outputs": [],
   "source": [
    "model = KeyedVectors.load_word2vec_format('/data/LLMs/X2Static/src/X2Static_best.vec', binary=False)"
   ]
  },
  {
   "cell_type": "code",
   "execution_count": 53,
   "metadata": {},
   "outputs": [
    {
     "name": "stdout",
     "output_type": "stream",
     "text": [
      "honey\n"
     ]
    }
   ],
   "source": [
    "w  = \"honey\"\n",
    "if w in model:\n",
    "    print(w)"
   ]
  },
  {
   "cell_type": "code",
   "execution_count": 9,
   "metadata": {},
   "outputs": [],
   "source": [
    "dataset = 'pereira'\n",
    "# load pereria text\n",
    "# Generating static and contextual embeddings using dereferenced text \n",
    "if dataset == 'pereira':\n",
    "    pereira_path = \"/home3/ebrahim/what-is-brainscore/pereira_data/sentences_ordered_dereferenced.txt\"\n",
    "    with open(pereira_path, \"r\") as file:\n",
    "        # Read the contents line by line into a list\n",
    "        sentences_txt = [line.strip() for line in file]\n",
    "    data_labels = np.load('/home3/ebrahim/what-is-brainscore/data_processed/pereira/data_labels_pereira_orig.npy')\n",
    "    \n",
    "if dataset == 'federonko':\n",
    "    fed_path = \"/home3/ebrahim/what-is-brainscore/federonko_data/sentences_ordered.txt\"\n",
    "    with open(fed_path, \"r\") as file:\n",
    "        # Read the contents line by line into a list\n",
    "        sentences_txt = [line.strip() for line in file]\n",
    "    data_labels = np.load('/home3/ebrahim/what-is-brainscore/temp_data_all/data_labels_federonko.npy')"
   ]
  },
  {
   "cell_type": "code",
   "execution_count": 10,
   "metadata": {},
   "outputs": [
    {
     "data": {
      "text/plain": [
       "False"
      ]
     },
     "execution_count": 10,
     "metadata": {},
     "output_type": "execute_result"
    }
   ],
   "source": [
    "\"I've\" in model"
   ]
  },
  {
   "cell_type": "code",
   "execution_count": 54,
   "metadata": {},
   "outputs": [],
   "source": [
    "# Get word embeddings for each word in the sentences\n",
    "sentence_embeddings = []\n",
    "words_no_vec = []\n",
    "problem_words = {'micromanagers': 'micromanager', 'airbeds': 'mattresses'}\n",
    "for sentence in sentences_txt:\n",
    "    doc = nlp(sentence)\n",
    "    sentence = [d.text.lower() for d in doc if d.pos_ in ['NOUN', 'ADJ', 'VERB', 'PNOUN', 'ADV']]\n",
    "    word_embeddings = []\n",
    "    for word in sentence:\n",
    "        if word == ' ':\n",
    "            continue\n",
    "        if word in problem_words.keys():\n",
    "            word = problem_words[word]\n",
    "        if word in model:\n",
    "            word_embeddings.append(model[word])\n",
    "        else:\n",
    "            words_no_vec.append(word)\n",
    "    if word_embeddings:\n",
    "        sentence_embeddings.append(word_embeddings)"
   ]
  },
  {
   "cell_type": "code",
   "execution_count": 34,
   "metadata": {},
   "outputs": [],
   "source": [
    "X2static =np.stack([np.sum(np.array(s), axis=0) for s in sentence_embeddings])"
   ]
  },
  {
   "cell_type": "code",
   "execution_count": 35,
   "metadata": {},
   "outputs": [],
   "source": [
    "np.savez('/home3/ebrahim/what-is-brainscore/data_processed/pereira/X_x2static', **{'layer1': X2static})"
   ]
  }
 ],
 "metadata": {
  "kernelspec": {
   "display_name": "llama",
   "language": "python",
   "name": "python3"
  },
  "language_info": {
   "codemirror_mode": {
    "name": "ipython",
    "version": 3
   },
   "file_extension": ".py",
   "mimetype": "text/x-python",
   "name": "python",
   "nbconvert_exporter": "python",
   "pygments_lexer": "ipython3",
   "version": "3.11.4"
  },
  "orig_nbformat": 4
 },
 "nbformat": 4,
 "nbformat_minor": 2
}
