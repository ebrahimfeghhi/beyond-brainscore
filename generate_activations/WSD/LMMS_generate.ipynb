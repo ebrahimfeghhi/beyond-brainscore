{
 "cells": [
  {
   "cell_type": "code",
   "execution_count": 1,
   "metadata": {},
   "outputs": [
    {
     "name": "stderr",
     "output_type": "stream",
     "text": [
      "/home3/ebrahim/miniconda3/envs/llama/lib/python3.11/site-packages/tqdm/auto.py:21: TqdmWarning: IProgress not found. Please update jupyter and ipywidgets. See https://ipywidgets.readthedocs.io/en/stable/user_install.html\n",
      "  from .autonotebook import tqdm as notebook_tqdm\n"
     ]
    }
   ],
   "source": [
    "import numpy as np\n",
    "import sys\n",
    "sys.path.append('/data/LLMs/LMMS/')\n",
    "from transformers_encoder import TransformersEncoder\n",
    "from transformers import RobertaModel, RobertaTokenizer\n",
    "from vectorspace import SensesVSM\n",
    "import spacy\n",
    "en_nlp = spacy.load('en_core_web_trf')  # required for lemmatization and POS-tagging \n",
    "en_nlp_lg = spacy.load('en_core_web_lg')  # required for lemmatization and POS-tagging \n",
    "import torch\n",
    "from wn_utils import WN_Utils\n",
    "wn_utils = WN_Utils()  # WordNet auxilliary methods (just for describing results)\n",
    "basePath = '/data/LLMs/LMMS/'"
   ]
  },
  {
   "cell_type": "code",
   "execution_count": 2,
   "metadata": {},
   "outputs": [],
   "source": [
    "# NLM/LMMS paths and parameters\n",
    "vecs_path = f'{basePath}data/vectors/lmms-sp-wsd.roberta-large.vectors.txt'\n",
    "wsd_encoder_cfg = {\n",
    "    'model_name_or_path': 'roberta-large',\n",
    "    'min_seq_len': 0,\n",
    "    'max_seq_len': 512,\n",
    "    'layers': [-n for n in range(1, 24 + 1)],  # all layers, with reversed indices\n",
    "    'layer_op': 'ws',\n",
    "    'weights_path': f'{basePath}data/weights/lmms-sp-wsd.roberta-large.weights.txt',\n",
    "    'subword_op': 'mean'\n",
    "}"
   ]
  },
  {
   "cell_type": "code",
   "execution_count": 3,
   "metadata": {},
   "outputs": [
    {
     "name": "stderr",
     "output_type": "stream",
     "text": [
      "Some weights of the model checkpoint at roberta-large were not used when initializing RobertaModel: ['lm_head.dense.bias', 'lm_head.layer_norm.weight', 'lm_head.layer_norm.bias', 'lm_head.dense.weight', 'lm_head.bias']\n",
      "- This IS expected if you are initializing RobertaModel from the checkpoint of a model trained on another task or with another architecture (e.g. initializing a BertForSequenceClassification model from a BertForPreTraining model).\n",
      "- This IS NOT expected if you are initializing RobertaModel from the checkpoint of a model that you expect to be exactly identical (initializing a BertForSequenceClassification model from a BertForSequenceClassification model).\n",
      "Some weights of RobertaModel were not initialized from the model checkpoint at roberta-large and are newly initialized: ['roberta.pooler.dense.weight', 'roberta.pooler.dense.bias']\n",
      "You should probably TRAIN this model on a down-stream task to be able to use it for predictions and inference.\n"
     ]
    }
   ],
   "source": [
    "model_str = 'roberta-large'\n",
    "tokenizer = RobertaTokenizer.from_pretrained(model_str)\n",
    "model = RobertaModel.from_pretrained(model_str)"
   ]
  },
  {
   "cell_type": "code",
   "execution_count": 9,
   "metadata": {},
   "outputs": [
    {
     "name": "stdout",
     "output_type": "stream",
     "text": [
      "Loading NLM and sense embeddings ...\n"
     ]
    },
    {
     "name": "stderr",
     "output_type": "stream",
     "text": [
      "Some weights of the model checkpoint at roberta-large were not used when initializing RobertaModel: ['lm_head.dense.bias', 'lm_head.layer_norm.weight', 'lm_head.layer_norm.bias', 'lm_head.dense.weight', 'lm_head.bias']\n",
      "- This IS expected if you are initializing RobertaModel from the checkpoint of a model trained on another task or with another architecture (e.g. initializing a BertForSequenceClassification model from a BertForPreTraining model).\n",
      "- This IS NOT expected if you are initializing RobertaModel from the checkpoint of a model that you expect to be exactly identical (initializing a BertForSequenceClassification model from a BertForSequenceClassification model).\n",
      "Some weights of RobertaModel were not initialized from the model checkpoint at roberta-large and are newly initialized: ['roberta.pooler.dense.weight', 'roberta.pooler.dense.bias']\n",
      "You should probably TRAIN this model on a down-stream task to be able to use it for predictions and inference.\n"
     ]
    },
    {
     "name": "stdout",
     "output_type": "stream",
     "text": [
      "Done\n"
     ]
    }
   ],
   "source": [
    "print('Loading NLM and sense embeddings ...')  # (takes a while)\n",
    "wsd_encoder = TransformersEncoder(wsd_encoder_cfg)\n",
    "senses_vsm = SensesVSM(vecs_path, normalize=True)\n",
    "print('Done')"
   ]
  },
  {
   "cell_type": "code",
   "execution_count": 4,
   "metadata": {},
   "outputs": [],
   "source": [
    "def modify_join_tokens(lemma, next_lemma, pos, skip_words):\n",
    "    \n",
    "    # key is lemma to modify\n",
    "    # value is a list with three components \n",
    "    # 1) updated lemma, 2) updated pos, 3) whether to skip upcoming words \n",
    "    join_tokens_dict = {'brand': ['brand-new', 'ADJ', ['-', 'new']], 'pedalling': ['pedal', 'VERB', []], \n",
    "                        'scissor': ['scissors', 'NOUN', []], 'stabbing': ['stab', 'VERB', []], \n",
    "                        'all': ['all-night', 'ADJ', ['-', 'nighter']], 'Scissor': ['scissors', 'NOUN', []], \n",
    "                        'Polar': ['Polar', 'ADJ', []], 'tailless': ['tailless', 'ADJ', []], \n",
    "                        'underwater': ['underwater', 'ADJ', []], \n",
    "                        'dairy': ['dairy', 'NOUN', []], \n",
    "                        'spacewalk': ['spacewalk', 'VERB', []], \n",
    "                        'underneath': ['underneath', 'ADV', []], 'U.S.A.': ['U.S.A.', 'NOUN', []], \n",
    "                        'seventh': ['seventh', 'ADJ', []], \n",
    "                        'higher': ['higher', 'ADJ', []], 'showcase': ['showcase', 'NOUN', []], \n",
    "                        'artisan': ['artisan', 'NOUN', []],  \n",
    "                        'surrounding': ['surroundings', 'NOUN', []]}\n",
    "    \n",
    "    # these don't exist in LMMS\n",
    "    if pos == 'PROPN' or pos == 'NUM':\n",
    "        pos = 'NOUN'\n",
    "\n",
    "    if lemma in join_tokens_dict.keys():\n",
    "        lemma_new = join_tokens_dict[lemma][0]\n",
    "        pos_new = join_tokens_dict[lemma][1]\n",
    "        # in some cases, we want to join words together (like brand new -> brand-new)\n",
    "        # in this case we need to skip the sense embedding for the words that follow (e.g. new)\n",
    "        # so we add them to skip_words. However, we also need to check to make sure \n",
    "        # the upcoming words match, and if not, don't perform the update.\n",
    "        remove_tokens = join_tokens_dict[lemma][2]\n",
    "        if len(remove_tokens) != 0: \n",
    "            if next_lemma not in remove_tokens: # no match, don't perform an update\n",
    "                return lemma, pos, skip_words     \n",
    "        skip_words.extend(remove_tokens)\n",
    "        return lemma_new, pos_new, skip_words\n",
    "    else:\n",
    "        return lemma, pos, skip_words"
   ]
  },
  {
   "cell_type": "code",
   "execution_count": 5,
   "metadata": {},
   "outputs": [],
   "source": [
    "# words to merge with the next token(s)\n",
    "merge_word = {'brand_new': 'brand-new', 'all_-': 'all-night', 'united_states': \\\n",
    "                'united_states', 'ear_piercings': 'earring', 'tear_gas': 'tear_gas'}\n",
    "\n",
    "# how many tokens to skip after merging words \n",
    "num_skip = {'brand-new': 1, 'all-night': 2, 'united_states': 1, 'earring': 1, 'tear_gas': 1}\n",
    "\n",
    "def modify_pos_word(word, pos, next_word, merge_word=merge_word, num_skip=num_skip):\n",
    "    \n",
    "    # words to modify \n",
    "    update_words = {'artisanal': 'artisan', 'lawnmower': 'mower', 'fulltime': 'full-time', \n",
    "                    'waterbed': 'water_bed', 'airbed': 'air_mattress', 'videogame': 'video_game', '1970': 'seventies', \n",
    "                    'micromanager': 'manager', 'showcase': 'show_off', 'scissor': 'scissors', 'vikings': 'viking', \n",
    "                    'wildland': 'land', 'landform': 'terrain', 'stabbing': 'stab', 'shorter': 'short', \n",
    "                    'pedalling': 'pedal', 'freezing': 'frigid', 'tong': 'tongs', 'feet': 'ft'}\n",
    "    \n",
    "    # words to modify pos tagging \n",
    "    pos_tag = {'mild': 'ADJ', 'spacewalk': 'VERB', 'underwater': 'ADJ', 'artisan': 'NOUN', \n",
    "               'surrounding': 'ADJ', 'brand-new': 'ADJ', 'all-night': 'ADJ', 'underneath': 'ADV', 'polar': 'ADJ', \n",
    "               'stab': 'VERB', 'tear_gas': 'NOUN', 'dairy': 'NOUN', 'seventh': 'ADJ', 'tailless': 'ADJ'}\n",
    "    \n",
    "    modified = False\n",
    "    \n",
    "    # for words that are combined with their next token\n",
    "    if f'{word}_{next_word}' in merge_word.keys():\n",
    "        print(f\"Merging: {word}_{next_word}\")\n",
    "        word = merge_word[f'{word}_{next_word}']\n",
    "        modified = True\n",
    "        \n",
    "    # words we updated\n",
    "    if word in update_words.keys():\n",
    "        word = update_words[word]\n",
    "        modified = True\n",
    "    \n",
    "    # get updated pos tag based on the (potentially) modified representation\n",
    "    if word in pos_tag.keys():\n",
    "        pos = pos_tag[word]\n",
    "        \n",
    "    # for merged or updated words, check if we should skip the next token(s)\n",
    "    if word in num_skip.keys() and modified:\n",
    "        skip_next = num_skip[word]\n",
    "    else:\n",
    "        skip_next = 0\n",
    "\n",
    "   \n",
    "    return word, pos, skip_next\n",
    "        \n",
    "        \n",
    "def split_words_and_combine(word_list):\n",
    "    \n",
    "    split_word_dict = {'wildland': 'wild land', \n",
    "                       'landform': 'land form'}\n",
    "    word_list_new = []\n",
    "    for w in word_list:\n",
    "        if w in split_word_dict.keys():\n",
    "            print(w)\n",
    "            word_list_new.extend(split_word_dict[w].split())\n",
    "        else:\n",
    "            word_list_new.append(w)\n",
    "    \n",
    "    sentence = ' '.join(word_list_new)\n",
    "    sentence += '.'\n",
    "    return sentence\n",
    "\n",
    "def merge_tokens(tokens, merge_words=merge_word, num_skip_dict=num_skip):\n",
    "\n",
    "    new_tokens = []\n",
    "    num_skip = 0\n",
    "    for idx, t in enumerate(tokens):\n",
    "        \n",
    "        if num_skip > 0:\n",
    "            num_skip -= 1\n",
    "            continue\n",
    "        try:\n",
    "            next_token = tokens[idx+1]\n",
    "        except:\n",
    "            next_token = 'none'\n",
    "\n",
    "        if f'{t.lower()}_{next_token.lower()}' in merge_words.keys():\n",
    "            modified_word = merge_words[f'{t.lower()}_{next_token.lower()}']\n",
    "            print(\"MODIFYING FOR ROBERTA: \", modified_word)\n",
    "            num_skip = num_skip_dict[modified_word]\n",
    "            contextual_token = ''\n",
    "            for i in range(num_skip+1):\n",
    "                contextual_token += tokens[idx+i]\n",
    "            new_tokens.append(contextual_token)\n",
    "        else:\n",
    "            new_tokens.append(t)\n",
    "\n",
    "    return new_tokens"
   ]
  },
  {
   "cell_type": "code",
   "execution_count": null,
   "metadata": {},
   "outputs": [],
   "source": [
    "# load pereria text\n",
    "pereira_path = \"/home3/ebrahim/what-is-brainscore/pereira_data/sentences_ordered_dereferenced.txt\"\n",
    "with open(pereira_path, \"r\") as file:\n",
    "    # Read the contents line by line into a list\n",
    "    pereira_text = [line.strip() for line in file]\n",
    "    \n",
    "no_sense_words = []\n",
    "no_sense_sentences = []\n",
    "end_for_loop = False\n",
    "lemma_arr = []\n",
    "postag_arr = []\n",
    "skip_next = False\n",
    "for j, sentence in enumerate(pereira_text):\n",
    "    \n",
    "    doc = en_nlp(str(sentence))\n",
    "    tokens = [t.text for t in doc]\n",
    "    skip_words = []\n",
    "    if j % 100 == 0:\n",
    "        print(j)\n",
    "    skip_next = 0\n",
    "    \n",
    "    merged_tokens = merge_tokens(tokens)\n",
    "\n",
    "    # retrieve contextual embeddings  \n",
    "    #ctx_embeddings = wsd_encoder.token_embeddings([tokens])[0]\n",
    "    \n",
    "    for i, d in enumerate(doc):\n",
    "        \n",
    "        if skip_next > 0:\n",
    "            print(\"Skipping: \", d)\n",
    "            skip_next = skip_next - 1\n",
    "            continue\n",
    "        \n",
    "        if d.pos_ == 'PUNCT':\n",
    "            continue\n",
    "        \n",
    "        pos = d.pos_\n",
    "        \n",
    "        try:\n",
    "            next_tok =  str(d.nbor())\n",
    "        except:\n",
    "            next_tok = 'NONE'\n",
    "            \n",
    "        word, pos, skip_next = modify_pos_word(d.lemma_.lower(), pos, next_tok.lower())\n",
    "        \n",
    "         # these don't exist in LMMS\n",
    "        if pos == 'PROPN' or pos == 'NUM':\n",
    "            pos = 'NOUN'\n",
    "            \n",
    "        \n",
    "        # don't add if it's a stop word and it was not changed\n",
    "        if d.is_stop and word == d.lemma_:\n",
    "            continue\n",
    "            \n",
    "        #lemma, pos, skip_words = modify_join_tokens(d.lemma_, next_lemma, d.pos_, skip_words)\n",
    "        lemma_arr.append(word)\n",
    "        postag_arr.append(pos)\n",
    "\n",
    "    \n",
    "    "
   ]
  },
  {
   "cell_type": "code",
   "execution_count": 10,
   "metadata": {},
   "outputs": [],
   "source": [
    "# dictionary where key is word_pos, and value is number of senses\n",
    "num_senses = senses_vsm.num_senses_fast(lemma_arr=lemma_arr, postag_arr=postag_arr)  "
   ]
  },
  {
   "cell_type": "code",
   "execution_count": 17,
   "metadata": {},
   "outputs": [
    {
     "data": {
      "image/png": "[encoded data removed]",
      "text/plain": [
       "<Figure size 640x480 with 1 Axes>"
      ]
     },
     "metadata": {},
     "output_type": "display_data"
    }
   ],
   "source": [
    "from matplotlib import pyplot as plt\n",
    "plt.hist(list(num_senses.values()), bins=np.arange(0,20,1), width=0.5)\n",
    "plt.xticks(np.arange(0,20))\n",
    "plt.show()"
   ]
  },
  {
   "cell_type": "code",
   "execution_count": 11,
   "metadata": {},
   "outputs": [
    {
     "name": "stdout",
     "output_type": "stream",
     "text": [
      "0\n"
     ]
    }
   ],
   "source": [
    "# load pereria text\n",
    "fed_path = \"/home3/ebrahim/what-is-brainscore/federonko_data/sentences_ordered.txt\"\n",
    "with open(fed_path, \"r\") as file:\n",
    "    # Read the contents line by line into a list\n",
    "    sentence_text = [line.strip() for line in file]\n",
    "    \n",
    "no_sense_words = []\n",
    "no_sense_sentences = []\n",
    "end_for_loop = False\n",
    "lemma_arr = []\n",
    "postag_arr = []\n",
    "skip_next = False\n",
    "for j, sentence in enumerate(sentence_text):\n",
    "    \n",
    "    doc = en_nlp(str(sentence))\n",
    "    tokens = [t.text for t in doc]\n",
    "    skip_words = []\n",
    "    if j % 100 == 0:\n",
    "        print(j)\n",
    "    skip_next = 0\n",
    "    \n",
    "    for i, d in enumerate(doc):\n",
    "        \n",
    "        \n",
    "        if d.pos_ == 'PUNCT':\n",
    "            continue\n",
    "        \n",
    "        pos = d.pos_\n",
    "        \n",
    "        word = d.lemma_.lower()\n",
    "        \n",
    "        if word == 'clothe':\n",
    "            word = d.text\n",
    "            \n",
    "        \n",
    "         # these don't exist in LMMS\n",
    "        if pos == 'PROPN' or pos == 'NUM':\n",
    "            pos = 'NOUN'\n",
    "            \n",
    "        \n",
    "        # don't add if it's a stop word and it was not changed\n",
    "        if d.is_stop and word == d.lemma_:\n",
    "            continue\n",
    "            \n",
    "        #lemma, pos, skip_words = modify_join_tokens(d.lemma_, next_lemma, d.pos_, skip_words)\n",
    "        lemma_arr.append(word)\n",
    "        postag_arr.append(pos)\n",
    "\n",
    "# dictionary where key is word_pos, and value is number of senses\n",
    "num_senses = senses_vsm.num_senses_fast(lemma_arr=lemma_arr, postag_arr=postag_arr)      \n",
    "    "
   ]
  },
  {
   "cell_type": "code",
   "execution_count": 14,
   "metadata": {},
   "outputs": [
    {
     "data": {
      "text/plain": [
       "defaultdict(list, {})"
      ]
     },
     "execution_count": 14,
     "metadata": {},
     "output_type": "execute_result"
    }
   ],
   "source": [
    "senses_vsm.word_pos_sk['Alex']"
   ]
  },
  {
   "cell_type": "code",
   "execution_count": 13,
   "metadata": {},
   "outputs": [
    {
     "data": {
      "text/plain": [
       "['alex_NOUN',\n",
       " 'amy_NOUN',\n",
       " 'ann_NOUN',\n",
       " 'charlie_NOUN',\n",
       " 'emma_NOUN',\n",
       " 'eva_NOUN',\n",
       " 'timmy_NOUN',\n",
       " 'jessie_NOUN',\n",
       " 'near_ADP',\n",
       " 'jill_NOUN',\n",
       " 'liz_NOUN',\n",
       " 'larry_NOUN',\n",
       " 'i_PRON',\n",
       " 'steve_NOUN',\n",
       " 'susan_NOUN',\n",
       " 'outside_ADP',\n",
       " 'hannah_NOUN',\n",
       " 'brand_ADJ']"
      ]
     },
     "execution_count": 13,
     "metadata": {},
     "output_type": "execute_result"
    }
   ],
   "source": [
    "zero_senses = [key for key, val in num_senses.items() if val==0]\n",
    "zero_senses"
   ]
  },
  {
   "cell_type": "code",
   "execution_count": null,
   "metadata": {},
   "outputs": [],
   "source": []
  }
 ],
 "metadata": {
  "kernelspec": {
   "display_name": "llama",
   "language": "python",
   "name": "python3"
  },
  "language_info": {
   "codemirror_mode": {
    "name": "ipython",
    "version": 3
   },
   "file_extension": ".py",
   "mimetype": "text/x-python",
   "name": "python",
   "nbconvert_exporter": "python",
   "pygments_lexer": "ipython3",
   "version": "3.11.4"
  },
  "orig_nbformat": 4
 },
 "nbformat": 4,
 "nbformat_minor": 2
}
