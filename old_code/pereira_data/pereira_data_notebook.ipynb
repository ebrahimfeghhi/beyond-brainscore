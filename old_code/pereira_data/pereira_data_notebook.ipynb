{
 "cells": [
  {
   "cell_type": "code",
   "execution_count": 1,
   "metadata": {},
   "outputs": [],
   "source": [
    "import numpy as np\n",
    "import pandas as spd\n",
    "from netCDF4 import Dataset"
   ]
  },
  {
   "attachments": {},
   "cell_type": "markdown",
   "metadata": {},
   "source": [
    "I used code in the legacy folder to order the text and neural data. Basically, run_LLM.py and run_funcs.py\n",
    "in the activations folder are used to save model activations in a pickle file format. Each pickle file\n",
    "is labeled according to the expriment, passage category, and passage label. The reason I did this is because\n",
    "that's how data in Schrimpf was saved (and I originally wanted to maintain consistency). Next, each pickle file is\n",
    "loaded, and the passage category and label in the file are used to index the neural data. This is done \n",
    "in saving_data.py and saving_funcs.py. I saved the indices into reordered_idxs.npy. "
   ]
  },
  {
   "cell_type": "code",
   "execution_count": 25,
   "metadata": {},
   "outputs": [
    {
     "name": "stdout",
     "output_type": "stream",
     "text": [
      "(627, 49760)\n"
     ]
    }
   ],
   "source": [
    "# contains data only from subjects with both experiments\n",
    "nc_file = '/data/LLMs/data_processed/pereira/dataset/Pereira_data.nc'\n",
    "pereira_data_orig = Dataset(nc_file, mode='r')\n",
    "print(pereira_data_orig['data'].shape)"
   ]
  },
  {
   "cell_type": "code",
   "execution_count": 3,
   "metadata": {},
   "outputs": [],
   "source": [
    "reordered_idxs = np.load('reordered_idxs.npy')"
   ]
  },
  {
   "cell_type": "code",
   "execution_count": 4,
   "metadata": {},
   "outputs": [],
   "source": [
    "y_ordered = np.load('/home3/ebrahim/what-is-brainscore/data_processed/pereira/y_pereira_both.npy')"
   ]
  },
  {
   "cell_type": "code",
   "execution_count": 5,
   "metadata": {},
   "outputs": [],
   "source": [
    "np.array_equal(pereira_data_orig['data'][reordered_idxs], y_ordered)"
   ]
  },
  {
   "cell_type": "code",
   "execution_count": 11,
   "metadata": {},
   "outputs": [],
   "source": [
    "#pereira_data_orig['data'][reordered_idxs].shape"
   ]
  },
  {
   "cell_type": "code",
   "execution_count": 5,
   "metadata": {},
   "outputs": [],
   "source": [
    "nc_file = '/data/LLMs/data_processed/pereira/dataset/pereira_all.nc'\n",
    "pereira_data = Dataset(nc_file, mode='r')"
   ]
  },
  {
   "cell_type": "code",
   "execution_count": 6,
   "metadata": {},
   "outputs": [
    {
     "name": "stdout",
     "output_type": "stream",
     "text": [
      "(103900,)\n"
     ]
    }
   ],
   "source": [
    "lang_indices = np.squeeze(np.array(pereira_data['atlas']) == 'language')\n",
    "print(lang_indices.shape)"
   ]
  },
  {
   "cell_type": "code",
   "execution_count": 7,
   "metadata": {},
   "outputs": [],
   "source": [
    "np.save('/data/LLMs/data_processed/pereira/dataset/subjects_complete', np.array(pereira_data['subject']))\n",
    "np.save('/data/LLMs/data_processed/pereira/dataset/network_complete', np.array(pereira_data['atlas']))\n",
    "np.save('/data/LLMs/data_processed/pereira/dataset/subjects_complete_lang', np.array(pereira_data['subject'])[lang_indices])\n",
    "np.save('/data/LLMs/data_processed/pereira/dataset/network_complete_lang', np.array(pereira_data['atlas'])[lang_indices])"
   ]
  },
  {
   "cell_type": "code",
   "execution_count": 10,
   "metadata": {},
   "outputs": [],
   "source": [
    "y_all = y_all[reordered_idxs]"
   ]
  },
  {
   "cell_type": "code",
   "execution_count": 14,
   "metadata": {},
   "outputs": [],
   "source": [
    "y_all_243 = y_all[:243]\n",
    "\n",
    "y_all_384 = y_all[243:]\n",
    "\n",
    "#nan_indices_384 = np.where(np.isnan(y_all_384[0]))[0]\n",
    "\n",
    "# Find indices in y_all_243 where values are not NaN based\n",
    "# Do this more efficiently by just looking for rows where the first entry\n",
    "non_nan_indices_243 = np.where(~np.isnan(y_all_243[0]))[0]\n",
    "\n",
    "# Find indices in y_all_384 where values are not NaN\n",
    "non_nan_indices_384 = np.where(~np.isnan(y_all_384[0]))[0]\n"
   ]
  },
  {
   "cell_type": "code",
   "execution_count": 83,
   "metadata": {},
   "outputs": [],
   "source": [
    "np.save('/data/LLMs/data_processed/pereira/dataset/non_nan_indices_243', non_nan_indices_243)\n",
    "np.save('/data/LLMs/data_processed/pereira/dataset/non_nan_indices_384', non_nan_indices_384)"
   ]
  },
  {
   "cell_type": "code",
   "execution_count": null,
   "metadata": {},
   "outputs": [],
   "source": [
    "subjects_all = pe"
   ]
  },
  {
   "cell_type": "code",
   "execution_count": 19,
   "metadata": {},
   "outputs": [
    {
     "ename": "NameError",
     "evalue": "name 'subjects_all' is not defined",
     "output_type": "error",
     "traceback": [
      "\u001b[0;31m---------------------------------------------------------------------------\u001b[0m",
      "\u001b[0;31mNameError\u001b[0m                                 Traceback (most recent call last)",
      "Cell \u001b[0;32mIn[19], line 4\u001b[0m\n\u001b[1;32m      2\u001b[0m nan_indices \u001b[39m=\u001b[39m np\u001b[39m.\u001b[39mwhere(np\u001b[39m.\u001b[39misnan(y_all_243[\u001b[39m0\u001b[39m]))[\u001b[39m0\u001b[39m]\n\u001b[1;32m      3\u001b[0m cleaned_array_243 \u001b[39m=\u001b[39m np\u001b[39m.\u001b[39mdelete(y_all_243, nan_indices, axis\u001b[39m=\u001b[39m\u001b[39m1\u001b[39m)\n\u001b[0;32m----> 4\u001b[0m subjects_all_243 \u001b[39m=\u001b[39m np\u001b[39m.\u001b[39mdelete(subjects_all, nan_indices)\n\u001b[1;32m      5\u001b[0m networks_all_243 \u001b[39m=\u001b[39m np\u001b[39m.\u001b[39mdelete(networks_all, nan_indices)\n\u001b[1;32m      6\u001b[0m col_to_coord1_243 \u001b[39m=\u001b[39m np\u001b[39m.\u001b[39mdelete(col_to_coord1, nan_indices)\n",
      "\u001b[0;31mNameError\u001b[0m: name 'subjects_all' is not defined"
     ]
    }
   ],
   "source": [
    "y_all_243 = y_all[:243]\n",
    "nan_indices = np.where(np.isnan(y_all_243[0]))[0]\n",
    "cleaned_array_243 = np.delete(y_all_243, nan_indices, axis=1)\n",
    "subjects_all_243 = np.delete(subjects_all, nan_indices)\n",
    "networks_all_243 = np.delete(networks_all, nan_indices)\n",
    "col_to_coord1_243 = np.delete(col_to_coord1, nan_indices)\n",
    "col_to_coord2_243 = np.delete(col_to_coord2, nan_indices)\n",
    "col_to_coord3_243 = np.delete(col_to_coord3, nan_indices)\n",
    "np.save('/home3/ebrahim/what-is-brainscore/data_processed/pereira/y_pereira_243.npy', cleaned_array_243)\n",
    "np.save('/home3/ebrahim/what-is-brainscore/data_processed/pereira/subjects_243.npy', subjects_all_243)\n",
    "np.save('/home3/ebrahim/what-is-brainscore/data_processed/pereira/networks_243.npy', networks_all_243)\n",
    "np.save('/home3/ebrahim/what-is-brainscore/data_processed/pereira/col_to_coord_1_243.npy', col_to_coord1_243)\n",
    "np.save('/home3/ebrahim/what-is-brainscore/data_processed/pereira/col_to_coord_2_243.npy', col_to_coord2_243)\n",
    "np.save('/home3/ebrahim/what-is-brainscore/data_processed/pereira/col_to_coord_3_243.npy', col_to_coord3_243)\n"
   ]
  },
  {
   "cell_type": "code",
   "execution_count": 16,
   "metadata": {},
   "outputs": [],
   "source": [
    "y_all_384 = y_all[243:]\n",
    "nan_indices = np.where(np.isnan(y_all_384[0]))[0]\n",
    "cleaned_array_384 = np.delete(y_all_384, nan_indices, axis=1)\n",
    "subjects_all_384 = np.delete(subjects_all, nan_indices)\n",
    "networks_all_384 = np.delete(networks_all, nan_indices)\n",
    "col_to_coord1_384 = np.delete(col_to_coord1, nan_indices)\n",
    "col_to_coord2_384 = np.delete(col_to_coord2, nan_indices)\n",
    "col_to_coord3_384 = np.delete(col_to_coord3, nan_indices)\n",
    "np.save('/home3/ebrahim/what-is-brainscore/data_processed/pereira/y_pereira_384.npy', cleaned_array_384)\n",
    "np.save('/home3/ebrahim/what-is-brainscore/data_processed/pereira/subjects_384.npy', subjects_all_384)\n",
    "np.save('/home3/ebrahim/what-is-brainscore/data_processed/pereira/networks_384.npy', networks_all_384)\n",
    "np.save('/home3/ebrahim/what-is-brainscore/data_processed/pereira/col_to_coord_1_384.npy', col_to_coord1_384)\n",
    "np.save('/home3/ebrahim/what-is-brainscore/data_processed/pereira/col_to_coord_2_384.npy', col_to_coord2_384)\n",
    "np.save('/home3/ebrahim/what-is-brainscore/data_processed/pereira/col_to_coord_3_384.npy', col_to_coord3_384)\n"
   ]
  },
  {
   "cell_type": "code",
   "execution_count": 101,
   "metadata": {},
   "outputs": [
    {
     "data": {
      "text/plain": [
       "array(['018', '215', '288', '289', '296', '426'], dtype=object)"
      ]
     },
     "execution_count": 101,
     "metadata": {},
     "output_type": "execute_result"
    }
   ],
   "source": [
    "np.unique(subjects_all_243)"
   ]
  },
  {
   "cell_type": "code",
   "execution_count": 102,
   "metadata": {},
   "outputs": [
    {
     "data": {
      "text/plain": [
       "array(['018', '199', '288', '289', '296', '343', '366', '407', '426'],\n",
       "      dtype=object)"
      ]
     },
     "execution_count": 102,
     "metadata": {},
     "output_type": "execute_result"
    }
   ],
   "source": [
    "np.unique(subjects_all_384)"
   ]
  },
  {
   "cell_type": "code",
   "execution_count": 83,
   "metadata": {},
   "outputs": [],
   "source": [
    "y_both = np.load('/home3/ebrahim/what-is-brainscore/data_processed/pereira/y_pereira.npy')"
   ]
  },
  {
   "cell_type": "code",
   "execution_count": 104,
   "metadata": {},
   "outputs": [
    {
     "data": {
      "text/plain": [
       "True"
      ]
     },
     "execution_count": 104,
     "metadata": {},
     "output_type": "execute_result"
    }
   ],
   "source": [
    "np.array_equal(y_both[:243,0], y_all_243[:243,0])"
   ]
  }
 ],
 "metadata": {
  "kernelspec": {
   "display_name": "llama",
   "language": "python",
   "name": "python3"
  },
  "language_info": {
   "codemirror_mode": {
    "name": "ipython",
    "version": 3
   },
   "file_extension": ".py",
   "mimetype": "text/x-python",
   "name": "python",
   "nbconvert_exporter": "python",
   "pygments_lexer": "ipython3",
   "version": "3.11.4"
  },
  "orig_nbformat": 4
 },
 "nbformat": 4,
 "nbformat_minor": 2
}
