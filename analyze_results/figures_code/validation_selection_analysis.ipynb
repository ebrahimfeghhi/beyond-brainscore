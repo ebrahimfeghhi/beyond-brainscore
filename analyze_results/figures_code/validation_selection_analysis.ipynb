{
 "cells": [
  {
   "cell_type": "code",
   "execution_count": 1,
   "metadata": {},
   "outputs": [],
   "source": [
    "import numpy as np"
   ]
  },
  {
   "cell_type": "code",
   "execution_count": 27,
   "metadata": {},
   "outputs": [
    {
     "name": "stdout",
     "output_type": "stream",
     "text": [
      "[21 14 15 21 21 21 21 21]\n",
      "21\n"
     ]
    }
   ],
   "source": [
    "val_scores_across_layers = []\n",
    "test_score = []\n",
    "for ln in np.arange(48):    \n",
    "    model_name = f'gpt2-xl_layer_{ln}_1_384_m0'\n",
    "    val_scores = np.mean(np.load(f'/data/LLMs/brainscore/results_pereira/pereira_{model_name}.npz')['val_scores'],axis=-1)\n",
    "    val_scores_across_layers.append(val_scores)\n",
    "    test_score.append(np.nanmean(np.load(f'/data/LLMs/brainscore/results_pereira/pereira_{model_name}.npz')['out_of_sample_r2']))\n",
    "    \n",
    "    \n",
    "print(np.argmax(np.vstack(val_scores_across_layers),axis=0))\n",
    "print(np.argmax(test_score))"
   ]
  },
  {
   "cell_type": "code",
   "execution_count": 5,
   "metadata": {},
   "outputs": [
    {
     "data": {
      "text/plain": [
       "array([0.0307317 , 0.02846172, 0.02604351, 0.02757409, 0.02908513,\n",
       "       0.02392764, 0.02798008, 0.02902989], dtype=float32)"
      ]
     },
     "execution_count": 5,
     "metadata": {},
     "output_type": "execute_result"
    }
   ],
   "source": []
  },
  {
   "cell_type": "code",
   "execution_count": null,
   "metadata": {},
   "outputs": [],
   "source": []
  }
 ],
 "metadata": {
  "kernelspec": {
   "display_name": "llm_brain_new",
   "language": "python",
   "name": "python3"
  },
  "language_info": {
   "codemirror_mode": {
    "name": "ipython",
    "version": 3
   },
   "file_extension": ".py",
   "mimetype": "text/x-python",
   "name": "python",
   "nbconvert_exporter": "python",
   "pygments_lexer": "ipython3",
   "version": "3.11.13"
  },
  "orig_nbformat": 4
 },
 "nbformat": 4,
 "nbformat_minor": 2
}
