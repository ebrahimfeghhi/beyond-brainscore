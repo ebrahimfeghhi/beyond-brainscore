{
 "cells": [
  {
   "cell_type": "code",
   "execution_count": 1,
   "metadata": {},
   "outputs": [],
   "source": [
    "import numpy as np\n",
    "import sys\n",
    "sys.path.append('/home3/ebrahim2/beyond-brainscore/run_reg_scripts/')\n",
    "from helper_funcs import combine_MSE_across_folds\n",
    "from matplotlib import pyplot as plt"
   ]
  },
  {
   "cell_type": "code",
   "execution_count": 103,
   "metadata": {},
   "outputs": [],
   "source": [
    "import numpy as np\n",
    "\n",
    "def _mean_across_participants(values_per_unit, participant_info):\n",
    "    \"\"\"\n",
    "    values_per_unit: 1D array, length = # brain units (e.g., R² per unit)\n",
    "    participant_info: 1D array, length = # brain units, giving participant id per unit\n",
    "\n",
    "    Returns:\n",
    "      overall_mean: scalar mean of per-participant means (ignores NaNs)\n",
    "      per_participant_means: dict {participant_id: mean_value}\n",
    "    \"\"\"\n",
    "    vals = np.asarray(values_per_unit)\n",
    "    parts = np.asarray(participant_info)\n",
    "    per_part_means = {}\n",
    "    for pid in np.unique(parts):\n",
    "        mask = (parts == pid)\n",
    "        if np.any(mask):\n",
    "            per_part_means[pid] = np.clip(np.nanmean(vals[mask]), 0, np.inf)\n",
    "    overall = np.nanmean(list(per_part_means.values())) if per_part_means else np.nan\n",
    "    return overall, per_part_means\n",
    "\n",
    "\n",
    "def compare_perf_when_using_val(\n",
    "    dataset,\n",
    "    y_true,\n",
    "    test_fold_idx,\n",
    "    layer_range,\n",
    "    mse_intercept,\n",
    "    model_name,\n",
    "    model_name_y_hat,\n",
    "    participant_info,\n",
    "    shuffled=False\n",
    "):\n",
    "    \"\"\"\n",
    "    participant_info: shape (# brain units,), contains the participant id\n",
    "                      for the corresponding brain unit.\n",
    "    \"\"\"\n",
    "    val_scores_across_layers = []\n",
    "    test_score = []\n",
    "\n",
    "    base_path = f'/data/LLMs/brainscore/results_{dataset}/'\n",
    "    if shuffled:\n",
    "        base_path += 'shuffled/'\n",
    "\n",
    "    # loop through model layers/hyperparameters\n",
    "    for ln in layer_range:\n",
    "        # replace -1 with the layer name\n",
    "        model_name_ln = model_name.replace('-1', f'{ln}')\n",
    "\n",
    "        # val_scores: (num_outer_folds x num_units); we keep your original averaging across units\n",
    "        val_scores = np.mean(\n",
    "            np.load(f'{base_path}{dataset}_{model_name_ln}.npz')['val_scores'],\n",
    "            axis=-1\n",
    "        )\n",
    "        val_scores_across_layers.append(val_scores)\n",
    "\n",
    "        # --- TEST (on test set) ---\n",
    "        # out_of_sample_r2: (num_units)\n",
    "        oos_r2_units = np.load(f'{base_path}{dataset}_{model_name_ln}.npz')['out_of_sample_r2']\n",
    "        # mean within each participant, then across participants\n",
    "        layer_mean, _ = _mean_across_participants(oos_r2_units, participant_info)\n",
    "        test_score.append(layer_mean)\n",
    "\n",
    "    # Pick best layer per fold from validation\n",
    "    val_scores_across_layers_stacked = np.vstack(val_scores_across_layers)  # (num_layers x num_folds)\n",
    "    best_val_layers = np.argmax(val_scores_across_layers_stacked, axis=0)   # (num_folds,)\n",
    "    stacked_mse = []\n",
    "\n",
    "    for idx, bvl_idx in enumerate(best_val_layers):\n",
    "        # compute mse for the best layer selected from that outer fold\n",
    "        bvl = layer_range[bvl_idx]\n",
    "        model_name_bvl = model_name_y_hat.replace('-1', f'{bvl}')\n",
    "        y_hat = np.load(f'{base_path}{dataset}_{model_name_bvl}.npz')['y_hat']\n",
    "        mse = (y_true - y_hat) ** 2\n",
    "\n",
    "        # only take the mse values for the outer fold range\n",
    "        start_idx = test_fold_idx[idx]\n",
    "        end_idx = test_fold_idx[idx + 1]\n",
    "        stacked_mse.append(mse[start_idx:end_idx])\n",
    "\n",
    "    # np.vstack(stacked_mse): (time x brain units); mean across time -> (brain units,)\n",
    "    stacked_mse_np = np.mean(np.vstack(stacked_mse), axis=0)\n",
    "    out_of_sample_r2_by_val = 1 - stacked_mse_np / mse_intercept  # (brain units,)\n",
    "\n",
    "    # --- PRINTS with per-participant aggregation ---\n",
    "    val_overall_mean, _ = _mean_across_participants(out_of_sample_r2_by_val, participant_info)\n",
    "    print(\"Performance when using val to select best layer/hparam (per-participant mean, then across participants):\",\n",
    "          val_overall_mean)\n",
    "\n",
    "    print(\"Performance when using test set (best layer by test R², per-participant mean, then across participants):\",\n",
    "          np.nanmax(test_score))\n",
    "\n",
    "    return test_score, val_scores_across_layers_stacked\n"
   ]
  },
  {
   "cell_type": "code",
   "execution_count": 105,
   "metadata": {},
   "outputs": [
    {
     "name": "stdout",
     "output_type": "stream",
     "text": [
      "GPT2-XL, SHUFFLED, PEREIRA 384\n"
     ]
    },
    {
     "name": "stderr",
     "output_type": "stream",
     "text": [
      "/tmp/ipykernel_1173271/2004097116.py:83: RuntimeWarning: invalid value encountered in divide\n",
      "  out_of_sample_r2_by_val = 1 - stacked_mse_np / mse_intercept  # (brain units,)\n"
     ]
    },
    {
     "name": "stdout",
     "output_type": "stream",
     "text": [
      "Performance when using val to select best layer/hparam (per-participant mean, then across participants): 0.1715490221977234\n",
      "Performance when using test set (best layer by test R², per-participant mean, then across participants): 0.17154901736921307\n",
      "OASM, SHUFFLED, PEREIRA 384\n",
      "Performance when using val to select best layer/hparam (per-participant mean, then across participants): 0.22679586542977226\n",
      "Performance when using test set (best layer by test R², per-participant mean, then across participants): 0.22747532839740478\n"
     ]
    }
   ],
   "source": [
    "y_true_shuffled = np.load('/data/LLMs/brainscore/results_pereira/shuffled/y_test_ordered_384_lang.npy')\n",
    "test_fold_size_shuffled = np.load('/data/LLMs/brainscore/results_pereira/shuffled/test_fold_size_384.npy')\n",
    "test_fold_idx_shuffled = np.hstack(([0], np.cumsum(test_fold_size_shuffled)))\n",
    "mse_intercept_shuffled = np.mean(np.load('/data/LLMs/brainscore/results_pereira/shuffled/mse_intercept_384_lang.npy'),axis=0)\n",
    "subjects_384 = np.load('/data/LLMs/data_processed/pereira/dataset/subjects_384_lang.npy', allow_pickle=True)\n",
    "\n",
    "\n",
    "print(\"GPT2-XL, SHUFFLED, PEREIRA 384\")\n",
    "ts_gpt, vs_gpt = compare_perf_when_using_val('pereira', y_true_shuffled, \n",
    "                            test_fold_idx_shuffled, \n",
    "                            np.arange(49), \n",
    "                            mse_intercept_shuffled,\n",
    "                            'gpt2-xl_layer_-1_1_384_m0', 'gpt2-xl_layer_-1_1_384_m0', subjects_384, shuffled=True)\n",
    "\n",
    "print(\"OASM, SHUFFLED, PEREIRA 384\")\n",
    "ts, vs = compare_perf_when_using_val('pereira', y_true_shuffled, \n",
    "                            test_fold_idx_shuffled, \n",
    "                            np.round(np.arange(0.1,4.8,0.1),3), \n",
    "                            mse_intercept_shuffled,\n",
    "                            'OASM-all-sigma_-1_1_384', 'OASM-all-sigma_-1_1_384', subjects_384, shuffled=True)"
   ]
  },
  {
   "cell_type": "code",
   "execution_count": 106,
   "metadata": {},
   "outputs": [
    {
     "name": "stdout",
     "output_type": "stream",
     "text": [
      "GPT2-XL, SHUFFLED, PEREIRA 243\n",
      "Performance when using val to select best layer/hparam (per-participant mean, then across participants): 0.12202912320693333\n",
      "Performance when using test set (best layer by test R², per-participant mean, then across participants): 0.12202912389656732\n",
      "OASM, SHUFFLED, PEREIRA 243\n",
      "Performance when using val to select best layer/hparam (per-participant mean, then across participants): 0.18252869447072348\n",
      "Performance when using test set (best layer by test R², per-participant mean, then across participants): 0.18359714245434736\n"
     ]
    }
   ],
   "source": [
    "y_true_shuffled = np.load('/data/LLMs/brainscore/results_pereira/shuffled/y_test_ordered_243_lang.npy')\n",
    "test_fold_size_shuffled = np.load('/data/LLMs/brainscore/results_pereira/shuffled/test_fold_size_243.npy')\n",
    "test_fold_idx_shuffled = np.hstack(([0], np.cumsum(test_fold_size_shuffled)))\n",
    "mse_intercept_shuffled = np.mean(np.load('/data/LLMs/brainscore/results_pereira/shuffled/mse_intercept_243_lang.npy'),axis=0)\n",
    "subjects_243 = np.load('/data/LLMs/data_processed/pereira/dataset/subjects_243_lang.npy', allow_pickle=True)\n",
    "\n",
    "print(\"GPT2-XL, SHUFFLED, PEREIRA 243\")\n",
    "ts_gpt, vs_gpt = compare_perf_when_using_val('pereira', y_true_shuffled, \n",
    "                            test_fold_idx_shuffled, \n",
    "                            np.arange(49), \n",
    "                            mse_intercept_shuffled,\n",
    "                            'gpt2-xl_layer_-1_1_243_m2', 'gpt2-xl_layer_-1_1_243_m2', subjects_243, shuffled=True)\n",
    "\n",
    "print(\"OASM, SHUFFLED, PEREIRA 243\")\n",
    "ts, vs = compare_perf_when_using_val('pereira', y_true_shuffled, \n",
    "                            test_fold_idx_shuffled, \n",
    "                            np.round(np.arange(0.1,4.8,0.1),3), \n",
    "                            mse_intercept_shuffled,\n",
    "                            'OASM-all-sigma_-1_1_243', 'OASM-all-sigma_-1_1_243', subjects_243, shuffled=True)"
   ]
  },
  {
   "cell_type": "code",
   "execution_count": 76,
   "metadata": {},
   "outputs": [
    {
     "name": "stdout",
     "output_type": "stream",
     "text": [
      "GPT2-XL,PEREIRA 384\n",
      "Performance when using val to select best layer/hparam:  0.027342074\n",
      "Performance when using test set:  0.029145310227305973\n",
      "Position, PEREIRA 384\n",
      "Performance when using val to select best layer/hparam:  0.01079761\n",
      "Performance when using test set:  0.011573695663757759\n"
     ]
    },
    {
     "name": "stderr",
     "output_type": "stream",
     "text": [
      "/tmp/ipykernel_1173271/1284425672.py:47: RuntimeWarning: invalid value encountered in divide\n",
      "  out_of_sample_r2_by_val = 1 - stacked_mse_np/mse_intercept\n"
     ]
    }
   ],
   "source": [
    "y_true = np.load('/data/LLMs/brainscore/results_pereira/y_test_ordered_384_lang.npy')\n",
    "test_fold_size = np.load('/data/LLMs/brainscore/results_pereira/test_fold_size_384.npy')\n",
    "test_fold_idx = np.hstack(([0], np.cumsum(test_fold_size)))\n",
    "mse_intercept = np.mean(np.load('/data/LLMs/brainscore/results_pereira/mse_intercept_384_lang.npy'),axis=0)\n",
    "\n",
    "\n",
    "print(\"GPT2-XL,PEREIRA 384\")\n",
    "ts_gpt, vs_gpt = compare_perf_when_using_val('pereira', y_true, \n",
    "                            test_fold_idx, \n",
    "                            np.arange(49), \n",
    "                            mse_intercept,\n",
    "                            'gpt2-xl_layer_-1_1_384', 'gpt2-xl_layer_-1_1_384', shuffled=False)\n",
    "\n",
    "print(\"Position, PEREIRA 384\")\n",
    "ts, vs = compare_perf_when_using_val('pereira', y_true, \n",
    "                            test_fold_idx, \n",
    "                            np.round(np.arange(0.1,4.8,0.1),3), \n",
    "                            mse_intercept,\n",
    "                            'position_layer_-1_1_384', 'position_layer_-1_1_384', shuffled=False)"
   ]
  },
  {
   "cell_type": "code",
   "execution_count": 77,
   "metadata": {},
   "outputs": [
    {
     "name": "stdout",
     "output_type": "stream",
     "text": [
      "GPT2-XL,PEREIRA 243\n",
      "Performance when using val to select best layer/hparam:  0.017958365\n",
      "Performance when using test set:  0.021704718435284612\n",
      "Position, PEREIRA 243\n",
      "Performance when using val to select best layer/hparam:  0.002843251\n",
      "Performance when using test set:  0.00355641790178685\n"
     ]
    }
   ],
   "source": [
    "y_true= np.load('/data/LLMs/brainscore/results_pereira/y_test_ordered_243_lang.npy')\n",
    "test_fold_size = np.load('/data/LLMs/brainscore/results_pereira/test_fold_size_243.npy')\n",
    "test_fold_idx = np.hstack(([0], np.cumsum(test_fold_size)))\n",
    "mse_intercept = np.mean(np.load('/data/LLMs/brainscore/results_pereira/mse_intercept_243_lang.npy'),axis=0)\n",
    "\n",
    "\n",
    "print(\"GPT2-XL,PEREIRA 243\")\n",
    "ts_gpt, vs_gpt = compare_perf_when_using_val('pereira', y_true, \n",
    "                            test_fold_idx, \n",
    "                            np.arange(49), \n",
    "                            mse_intercept,\n",
    "                            'gpt2-xl_layer_-1_1_243', 'gpt2-xl_layer_-1_1_243', shuffled=False)\n",
    "\n",
    "print(\"Position, PEREIRA 243\")\n",
    "ts, vs = compare_perf_when_using_val('pereira', y_true, \n",
    "                            test_fold_idx, \n",
    "                            np.round(np.arange(0.1,4.8,0.1),3), \n",
    "                            mse_intercept,\n",
    "                            'position_layer_-1_1_243', 'position_layer_-1_1_243', shuffled=False)"
   ]
  },
  {
   "cell_type": "code",
   "execution_count": 86,
   "metadata": {},
   "outputs": [
    {
     "name": "stdout",
     "output_type": "stream",
     "text": [
      "GPT2-XL, SHUFFLED, FEDORENKO\n",
      "Performance when using val to select best layer/hparam:  0.09976674\n",
      "Performance when using test set:  0.10164884897169482\n",
      "OASM, SHUFFLED, FEDORENKO\n",
      "Performance when using val to select best layer/hparam:  0.13978557\n",
      "Performance when using test set:  0.14098027167056681\n"
     ]
    }
   ],
   "source": [
    "results_dir = \"results_fedorenko\"  # or any other directory you want\n",
    "\n",
    "y_true_shuffled = np.load(f\"/data/LLMs/brainscore/{results_dir}/shuffled/y_test_ordered.npy\")\n",
    "test_fold_size_shuffled = np.load(f\"/data/LLMs/brainscore/{results_dir}/shuffled/test_fold_size.npy\")\n",
    "test_fold_idx_shuffled = np.hstack(([0], np.cumsum(test_fold_size_shuffled)))\n",
    "mse_intercept_shuffled = np.mean(\n",
    "    np.load(f\"/data/LLMs/brainscore/{results_dir}/shuffled/mse_intercept.npy\"), axis=0\n",
    ")\n",
    "\n",
    "\n",
    "print(\"GPT2-XL, SHUFFLED, FEDORENKO\")\n",
    "ts_gpt, vs_gpt = compare_perf_when_using_val('fedorenko', y_true_shuffled, \n",
    "                            test_fold_idx_shuffled, \n",
    "                            np.arange(49), \n",
    "                            mse_intercept_shuffled,\n",
    "                            'gpt2-xl_layer_-1_1', 'gpt2-xl_layer_-1_1', shuffled=True)\n",
    "\n",
    "\n",
    "print(\"OASM, SHUFFLED, FEDORENKO\")\n",
    "ts_gpt, vs_gpt = compare_perf_when_using_val('fedorenko', y_true_shuffled, \n",
    "                            test_fold_idx_shuffled, \n",
    "                            np.round(np.arange(0.1,4.8,0.1),3), \n",
    "                            mse_intercept_shuffled,\n",
    "                            'OASM-all-sigma_-1_1', 'OASM-all-sigma_-1_1', shuffled=True)\n"
   ]
  },
  {
   "cell_type": "code",
   "execution_count": 90,
   "metadata": {},
   "outputs": [
    {
     "name": "stdout",
     "output_type": "stream",
     "text": [
      "GPT2-XL, SHUFFLED, FEDORENKO\n",
      "Performance when using val to select best layer/hparam:  0.09976674\n",
      "Performance when using test set:  0.10164884897169482\n",
      "OASM, SHUFFLED, FEDORENKO\n",
      "Performance when using val to select best layer/hparam:  0.13978557\n",
      "Performance when using test set:  0.14098027167056681\n"
     ]
    }
   ],
   "source": [
    "results_dir = \"results_fedorenko\"  # or any other directory you want\n",
    "\n",
    "y_true_shuffled = np.load(f\"/data/LLMs/brainscore/{results_dir}/shuffled/y_test_ordered.npy\")\n",
    "test_fold_size_shuffled = np.load(f\"/data/LLMs/brainscore/{results_dir}/shuffled/test_fold_size.npy\")\n",
    "test_fold_idx_shuffled = np.hstack(([0], np.cumsum(test_fold_size_shuffled)))\n",
    "mse_intercept_shuffled = np.mean(\n",
    "    np.load(f\"/data/LLMs/brainscore/{results_dir}/shuffled/mse_intercept.npy\"), axis=0\n",
    ")\n",
    "\n",
    "\n",
    "print(\"GPT2-XL, SHUFFLED, FEDORENKO\")\n",
    "ts_gpt, vs_gpt = compare_perf_when_using_val('fedorenko', y_true_shuffled, \n",
    "                            test_fold_idx_shuffled, \n",
    "                            np.arange(49), \n",
    "                            mse_intercept_shuffled,\n",
    "                            'gpt2-xl_layer_-1_1', 'gpt2-xl_layer_-1_1', shuffled=True)\n",
    "\n",
    "\n",
    "print(\"OASM, SHUFFLED, FEDORENKO\")\n",
    "ts_gpt, vs_gpt = compare_perf_when_using_val('fedorenko', y_true_shuffled, \n",
    "                            test_fold_idx_shuffled, \n",
    "                            np.round(np.arange(0.1,4.8,0.1),3), \n",
    "                            mse_intercept_shuffled,\n",
    "                            'OASM-all-sigma_-1_1', 'OASM-all-sigma_-1_1', shuffled=True)\n"
   ]
  },
  {
   "cell_type": "code",
   "execution_count": 89,
   "metadata": {},
   "outputs": [
    {
     "name": "stdout",
     "output_type": "stream",
     "text": [
      "GPT2-XL, NOT SHUFFLED, FEDORENKO\n",
      "Performance when using val to select best layer/hparam:  0.050868876\n",
      "Performance when using test set:  0.052684126984383406\n",
      "POS, NOT SHUFFLED, FEDORENKO\n",
      "Performance when using val to select best layer/hparam:  0.051634967\n",
      "Performance when using test set:  0.05221654725081607\n"
     ]
    }
   ],
   "source": [
    "results_dir = \"results_fedorenko\"  # or any other directory you want\n",
    "shuffled = False  # set True/False here\n",
    "\n",
    "# decide subfolder based on shuffled flag\n",
    "subdir = \"shuffled\" if shuffled else \"\"\n",
    "\n",
    "# add \"/\" only if needed\n",
    "folder = f\"/{subdir}\" if subdir else \"\"\n",
    "\n",
    "y_true = np.load(f\"/data/LLMs/brainscore/{results_dir}{folder}/y_test_ordered.npy\")\n",
    "test_fold_size = np.load(f\"/data/LLMs/brainscore/{results_dir}{folder}/test_fold_size.npy\")\n",
    "test_fold_idx = np.hstack(([0], np.cumsum(test_fold_size)))\n",
    "mse_intercept = np.mean(\n",
    "    np.load(f\"/data/LLMs/brainscore/{results_dir}{folder}/mse_intercept.npy\"), axis=0\n",
    ")\n",
    "\n",
    "print(f\"GPT2-XL, {'SHUFFLED' if shuffled else 'NOT SHUFFLED'}, FEDORENKO\")\n",
    "ts_gpt, vs_gpt = compare_perf_when_using_val(\n",
    "    'fedorenko',\n",
    "    y_true,\n",
    "    test_fold_idx,\n",
    "    np.arange(49),\n",
    "    mse_intercept,\n",
    "    'gpt2-xl_layer_-1_1',\n",
    "    'gpt2-xl_layer_-1_1',\n",
    "    shuffled=shuffled\n",
    ")\n",
    "\n",
    "print(f\"POS, {'SHUFFLED' if shuffled else 'NOT SHUFFLED'}, FEDORENKO\")\n",
    "ts_gpt, vs_gpt = compare_perf_when_using_val(\n",
    "    'fedorenko',\n",
    "    y_true,\n",
    "    test_fold_idx,\n",
    "    np.round(np.arange(0.1, 4.8, 0.1), 3),\n",
    "    mse_intercept,\n",
    "    'pos_layer_-1_1',\n",
    "    'pos_layer_-1_1',\n",
    "    shuffled=shuffled\n",
    ")\n"
   ]
  },
  {
   "cell_type": "code",
   "execution_count": 110,
   "metadata": {},
   "outputs": [
    {
     "name": "stdout",
     "output_type": "stream",
     "text": [
      "GPT2-XL, SHUFFLED, BLANK\n"
     ]
    },
    {
     "ename": "AttributeError",
     "evalue": "'numpy.ndarray' object has no attribute 'replace'",
     "output_type": "error",
     "traceback": [
      "\u001b[31m---------------------------------------------------------------------------\u001b[39m",
      "\u001b[31mAttributeError\u001b[39m                            Traceback (most recent call last)",
      "\u001b[36mCell\u001b[39m\u001b[36m \u001b[39m\u001b[32mIn[110]\u001b[39m\u001b[32m, line 14\u001b[39m\n\u001b[32m      9\u001b[39m subjects_blank = np.load(\u001b[33m'\u001b[39m\u001b[33m/data/LLMs/data_processed/blank/dataset/subjects.npy\u001b[39m\u001b[33m'\u001b[39m, allow_pickle=\u001b[38;5;28;01mTrue\u001b[39;00m)\n\u001b[32m     13\u001b[39m \u001b[38;5;28mprint\u001b[39m(\u001b[33m\"\u001b[39m\u001b[33mGPT2-XL, SHUFFLED, BLANK\u001b[39m\u001b[33m\"\u001b[39m)\n\u001b[32m---> \u001b[39m\u001b[32m14\u001b[39m _, _ = \u001b[43mcompare_perf_when_using_val\u001b[49m\u001b[43m(\u001b[49m\u001b[33;43m'\u001b[39;49m\u001b[33;43mblank\u001b[39;49m\u001b[33;43m'\u001b[39;49m\u001b[43m,\u001b[49m\u001b[43m \u001b[49m\u001b[43my_true_shuffled\u001b[49m\u001b[43m,\u001b[49m\u001b[43m \u001b[49m\n\u001b[32m     15\u001b[39m \u001b[43m                            \u001b[49m\u001b[43mtest_fold_idx_shuffled\u001b[49m\u001b[43m,\u001b[49m\u001b[43m \u001b[49m\n\u001b[32m     16\u001b[39m \u001b[43m                            \u001b[49m\u001b[43mnp\u001b[49m\u001b[43m.\u001b[49m\u001b[43marange\u001b[49m\u001b[43m(\u001b[49m\u001b[32;43m48\u001b[39;49m\u001b[43m)\u001b[49m\u001b[43m,\u001b[49m\u001b[43m \u001b[49m\n\u001b[32m     17\u001b[39m \u001b[43m                            \u001b[49m\u001b[43mmse_intercept_shuffled\u001b[49m\u001b[43m,\u001b[49m\n\u001b[32m     18\u001b[39m \u001b[43m                            \u001b[49m\u001b[43msubjects_blank\u001b[49m\u001b[43m,\u001b[49m\n\u001b[32m     19\u001b[39m \u001b[43m                            \u001b[49m\u001b[33;43m'\u001b[39;49m\u001b[33;43mgpt2-xl_layer_-1_1\u001b[39;49m\u001b[33;43m'\u001b[39;49m\u001b[43m,\u001b[49m\u001b[43m \u001b[49m\u001b[33;43m'\u001b[39;49m\u001b[33;43mgpt2-xl_layer_-1_1\u001b[39;49m\u001b[33;43m'\u001b[39;49m\u001b[43m,\u001b[49m\u001b[43m \u001b[49m\u001b[43mshuffled\u001b[49m\u001b[43m=\u001b[49m\u001b[38;5;28;43;01mTrue\u001b[39;49;00m\u001b[43m)\u001b[49m\n\u001b[32m     24\u001b[39m \u001b[38;5;28mprint\u001b[39m(\u001b[33m\"\u001b[39m\u001b[33mOASM, SHUFFLED, BLANK\u001b[39m\u001b[33m\"\u001b[39m)\n\u001b[32m     25\u001b[39m _, _ = compare_perf_when_using_val(\u001b[33m'\u001b[39m\u001b[33mblank\u001b[39m\u001b[33m'\u001b[39m, y_true_shuffled, \n\u001b[32m     26\u001b[39m                             test_fold_idx_shuffled, \n\u001b[32m     27\u001b[39m                             np.round(np.arange(\u001b[32m0.1\u001b[39m,\u001b[32m4.8\u001b[39m,\u001b[32m0.1\u001b[39m),\u001b[32m3\u001b[39m), \n\u001b[32m     28\u001b[39m                             mse_intercept_shuffled,\n\u001b[32m     29\u001b[39m                             subjects_blank,\n\u001b[32m     30\u001b[39m                             \u001b[33m'\u001b[39m\u001b[33mOASM-all-sigma_-1_1\u001b[39m\u001b[33m'\u001b[39m, \u001b[33m'\u001b[39m\u001b[33mOASM-all-sigma_-1_1\u001b[39m\u001b[33m'\u001b[39m, shuffled=\u001b[38;5;28;01mTrue\u001b[39;00m)\n",
      "\u001b[36mCell\u001b[39m\u001b[36m \u001b[39m\u001b[32mIn[103]\u001b[39m\u001b[32m, line 48\u001b[39m, in \u001b[36mcompare_perf_when_using_val\u001b[39m\u001b[34m(dataset, y_true, test_fold_idx, layer_range, mse_intercept, model_name, model_name_y_hat, participant_info, shuffled)\u001b[39m\n\u001b[32m     45\u001b[39m \u001b[38;5;66;03m# loop through model layers/hyperparameters\u001b[39;00m\n\u001b[32m     46\u001b[39m \u001b[38;5;28;01mfor\u001b[39;00m ln \u001b[38;5;129;01min\u001b[39;00m layer_range:\n\u001b[32m     47\u001b[39m     \u001b[38;5;66;03m# replace -1 with the layer name\u001b[39;00m\n\u001b[32m---> \u001b[39m\u001b[32m48\u001b[39m     model_name_ln = \u001b[43mmodel_name\u001b[49m\u001b[43m.\u001b[49m\u001b[43mreplace\u001b[49m(\u001b[33m'\u001b[39m\u001b[33m-1\u001b[39m\u001b[33m'\u001b[39m, \u001b[33mf\u001b[39m\u001b[33m'\u001b[39m\u001b[38;5;132;01m{\u001b[39;00mln\u001b[38;5;132;01m}\u001b[39;00m\u001b[33m'\u001b[39m)\n\u001b[32m     50\u001b[39m     \u001b[38;5;66;03m# val_scores: (num_outer_folds x num_units); we keep your original averaging across units\u001b[39;00m\n\u001b[32m     51\u001b[39m     val_scores = np.mean(\n\u001b[32m     52\u001b[39m         np.load(\u001b[33mf\u001b[39m\u001b[33m'\u001b[39m\u001b[38;5;132;01m{\u001b[39;00mbase_path\u001b[38;5;132;01m}\u001b[39;00m\u001b[38;5;132;01m{\u001b[39;00mdataset\u001b[38;5;132;01m}\u001b[39;00m\u001b[33m_\u001b[39m\u001b[38;5;132;01m{\u001b[39;00mmodel_name_ln\u001b[38;5;132;01m}\u001b[39;00m\u001b[33m.npz\u001b[39m\u001b[33m'\u001b[39m)[\u001b[33m'\u001b[39m\u001b[33mval_scores\u001b[39m\u001b[33m'\u001b[39m],\n\u001b[32m     53\u001b[39m         axis=-\u001b[32m1\u001b[39m\n\u001b[32m     54\u001b[39m     )\n",
      "\u001b[31mAttributeError\u001b[39m: 'numpy.ndarray' object has no attribute 'replace'"
     ]
    }
   ],
   "source": [
    "results_dir = \"results_blank\"  # or any other directory you want\n",
    "\n",
    "y_true_shuffled = np.load(f\"/data/LLMs/brainscore/{results_dir}/shuffled/y_test_ordered.npy\")\n",
    "test_fold_size_shuffled = np.load(f\"/data/LLMs/brainscore/{results_dir}/shuffled/test_fold_size.npy\")\n",
    "test_fold_idx_shuffled = np.hstack(([0], np.cumsum(test_fold_size_shuffled)))\n",
    "mse_intercept_shuffled = np.mean(\n",
    "    np.load(f\"/data/LLMs/brainscore/{results_dir}/shuffled/mse_intercept.npy\"), axis=0\n",
    ")\n",
    "subjects_blank = np.load('/data/LLMs/data_processed/blank/dataset/subjects.npy', allow_pickle=True)\n",
    "\n",
    "\n",
    "\n",
    "print(\"GPT2-XL, SHUFFLED, BLANK\")\n",
    "_, _ = compare_perf_when_using_val('blank', y_true_shuffled, \n",
    "                            test_fold_idx_shuffled, \n",
    "                            np.arange(48), \n",
    "                            mse_intercept_shuffled,\n",
    "                            subjects_blank,\n",
    "                            'gpt2-xl_layer_-1_1', 'gpt2-xl_layer_-1_1', subjects_blank, shuffled=True)\n",
    "\n",
    "\n",
    "\n",
    "\n",
    "print(\"OASM, SHUFFLED, BLANK\")\n",
    "_, _ = compare_perf_when_using_val('blank', y_true_shuffled, \n",
    "                            test_fold_idx_shuffled, \n",
    "                            np.round(np.arange(0.1,4.8,0.1),3), \n",
    "                            mse_intercept_shuffled,\n",
    "                            'OASM-all-sigma_-1_1', 'OASM-all-sigma_-1_1', subjects_blank, shuffled=True)"
   ]
  },
  {
   "cell_type": "code",
   "execution_count": 109,
   "metadata": {},
   "outputs": [
    {
     "name": "stdout",
     "output_type": "stream",
     "text": [
      "GPT2-XL, NOT SHUFFLED, BLANK\n",
      "Performance when using val to select best layer/hparam (per-participant mean, then across participants): 0.00013014674186706543\n",
      "Performance when using test set (best layer by test R², per-participant mean, then across participants): 0.00036519853364957257\n",
      "POS, NOT SHUFFLED, BLANK\n",
      "Performance when using val to select best layer/hparam (per-participant mean, then across participants): 0.006913880538195372\n",
      "Performance when using test set (best layer by test R², per-participant mean, then across participants): 0.008489313158332183\n"
     ]
    }
   ],
   "source": [
    "results_dir = \"results_blank\"  # or any other directory you want\n",
    "shuffled = False  # set True/False here\n",
    "\n",
    "subjects_blank = np.load('/data/LLMs/data_processed/blank/dataset/subjects.npy', allow_pickle=True)\n",
    "\n",
    "# decide subfolder based on shuffled flag\n",
    "subdir = \"shuffled\" if shuffled else \"\"\n",
    "\n",
    "# add \"/\" only if needed\n",
    "folder = f\"/{subdir}\" if subdir else \"\"\n",
    "\n",
    "y_true = np.load(f\"/data/LLMs/brainscore/{results_dir}{folder}/y_test_ordered.npy\")\n",
    "test_fold_size = np.load(f\"/data/LLMs/brainscore/{results_dir}{folder}/test_fold_size.npy\")\n",
    "test_fold_idx = np.hstack(([0], np.cumsum(test_fold_size)))\n",
    "mse_intercept = np.mean(\n",
    "    np.load(f\"/data/LLMs/brainscore/{results_dir}{folder}/mse_intercept.npy\"), axis=0\n",
    ")\n",
    "\n",
    "print(f\"GPT2-XL, {'SHUFFLED' if shuffled else 'NOT SHUFFLED'}, BLANK\")\n",
    "ts_gpt, vs_gpt = compare_perf_when_using_val(\n",
    "    'blank',\n",
    "    y_true,\n",
    "    test_fold_idx,\n",
    "    np.arange(49),\n",
    "    mse_intercept,\n",
    "    'gpt2-xl_layer_-1_1',\n",
    "    'gpt2-xl_layer_-1_1',\n",
    "    subjects_blank,\n",
    "    shuffled=shuffled\n",
    ")\n",
    "\n",
    "print(f\"POS, {'SHUFFLED' if shuffled else 'NOT SHUFFLED'}, BLANK\")\n",
    "ts_gpt, vs_gpt = compare_perf_when_using_val(\n",
    "    'blank',\n",
    "    y_true,\n",
    "    test_fold_idx,\n",
    "    np.round(np.arange(3,51), 3),\n",
    "    mse_intercept,\n",
    "    'pos_layer_-1_1',\n",
    "    'pos_layer_-1_1',\n",
    "    subjects_blank,\n",
    "    shuffled=shuffled\n",
    ")\n"
   ]
  },
  {
   "cell_type": "code",
   "execution_count": null,
   "metadata": {},
   "outputs": [],
   "source": []
  }
 ],
 "metadata": {
  "kernelspec": {
   "display_name": "llm_brain_new",
   "language": "python",
   "name": "python3"
  },
  "language_info": {
   "codemirror_mode": {
    "name": "ipython",
    "version": 3
   },
   "file_extension": ".py",
   "mimetype": "text/x-python",
   "name": "python",
   "nbconvert_exporter": "python",
   "pygments_lexer": "ipython3",
   "version": "3.11.13"
  },
  "orig_nbformat": 4
 },
 "nbformat": 4,
 "nbformat_minor": 2
}
