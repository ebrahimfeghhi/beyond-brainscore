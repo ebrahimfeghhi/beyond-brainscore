{
 "cells": [
  {
   "cell_type": "code",
   "execution_count": 1,
   "metadata": {},
   "outputs": [],
   "source": [
    "import numpy as np\n",
    "import sys\n",
    "sys.path.append('/home3/ebrahim2/beyond-brainscore/run_reg_scripts/')\n",
    "from helper_funcs import combine_MSE_across_folds"
   ]
  },
  {
   "cell_type": "code",
   "execution_count": 2,
   "metadata": {},
   "outputs": [
    {
     "data": {
      "text/plain": [
       "'hi5hi'"
      ]
     },
     "execution_count": 2,
     "metadata": {},
     "output_type": "execute_result"
    }
   ],
   "source": [
    "rand_str = 'hi-1hi'\n",
    "rand_str.replace('-1', '5')"
   ]
  },
  {
   "cell_type": "code",
   "execution_count": 66,
   "metadata": {},
   "outputs": [],
   "source": [
    "def compare_perf_when_using_val(dataset, y_true, test_fold_idx, layer_range, mse_intercept, model_name, model_name_y_hat, shuffled=False):\n",
    "    \n",
    "    val_scores_across_layers = []\n",
    "    test_score = []\n",
    "    \n",
    "    if shuffled:\n",
    "        base_path = f'/data/LLMs/brainscore/results_{dataset}/shuffled/'\n",
    "    else:\n",
    "        base_path = f'/data/LLMs/brainscore/results_{dataset}/'\n",
    "    \n",
    "    for ln in layer_range:\n",
    "        \n",
    "        model_name_ln = model_name.replace('-1', f'{ln}')\n",
    "        \n",
    "        # val_scores is of shape number of outer folds x number of lang voxels/electrodes/fROIs\n",
    "        val_scores = np.mean(np.load(f'{base_path}{dataset}_{model_name_ln}.npz')['val_scores'],axis=-1)\n",
    "        val_scores_across_layers.append(val_scores)\n",
    "        \n",
    "        # out_of_sample_r2 is of shape number of lang voxels/electrodes/fROIs\n",
    "        # each R2 value is computed by pooling MSE values across  \n",
    "        test_score.append(np.nanmean(np.load(f'{base_path}{dataset}_{model_name_ln}.npz')['out_of_sample_r2']))\n",
    "\n",
    "        \n",
    "    val_scores_across_layers_stacked = np.vstack(val_scores_across_layers)\n",
    "    best_val_layers = np.argmax(val_scores_across_layers_stacked,axis=0)\n",
    "    stacked_mse = []    \n",
    "    best_val_layers = np.repeat(10,8)\n",
    "    for idx, bvl_idx in enumerate(best_val_layers): \n",
    "        \n",
    "        bvl = layer_range[bvl_idx]\n",
    "        \n",
    "        model_name_bvl = model_name_y_hat.replace('-1', f'{bvl}')\n",
    "        y_hat = np.load(f'{base_path}{dataset}_{model_name_bvl}.npz')['y_hat']\n",
    "        mse = (y_true-y_hat)**2\n",
    "        start_idx = test_fold_idx[idx]\n",
    "        end_idx = test_fold_idx[idx+1]\n",
    "        stacked_mse.append(mse[start_idx:end_idx])\n",
    "        \n",
    "    stacked_mse_np = np.mean(np.vstack(stacked_mse), axis=0)\n",
    "    out_of_sample_r2_by_val = 1 - stacked_mse_np/mse_intercept\n",
    "    out_of_sample_r2_by_val[mse_intercept==0] = 0\n",
    "\n",
    "    print(\"Performance when using val to select best layer/hparam: \", np.nanmean(out_of_sample_r2_by_val))\n",
    "    print(\"Performance when using test set: \", np.max(test_score))       \n",
    "    \n",
    "    \n",
    "def check_if_y_hat_saved(model_name, dataset):\n",
    "    model = np.load(f'/data/LLMs/brainscore/results_{dataset}/shuffled/{dataset}_{model_name}.npz')\n",
    "    \n",
    "    try:\n",
    "        y_hat = model['y_hat']\n",
    "        print('y_hat was saved')\n",
    "        \n",
    "    except:\n",
    "        print(\"y hat was not saved\")"
   ]
  },
  {
   "cell_type": "code",
   "execution_count": 67,
   "metadata": {},
   "outputs": [
    {
     "name": "stdout",
     "output_type": "stream",
     "text": [
      "GPT2-XL, SHUFFLED, PEREIRA 384\n",
      "OASM, SHUFFLED, PEREIRA 384\n",
      "(12155,)\n",
      "(12155,)\n",
      "(12155,)\n",
      "(12155,)\n",
      "(12155,)\n",
      "(12155,)\n",
      "(12155,)\n",
      "(12155,)\n",
      "(12155,)\n",
      "(12155,)\n",
      "(12155,)\n",
      "(12155,)\n",
      "(12155,)\n",
      "(12155,)\n",
      "(12155,)\n",
      "(12155,)\n",
      "(12155,)\n",
      "(12155,)\n",
      "(12155,)\n",
      "(12155,)\n",
      "(12155,)\n",
      "(12155,)\n",
      "(12155,)\n",
      "(12155,)\n",
      "(12155,)\n",
      "(12155,)\n",
      "(12155,)\n",
      "(12155,)\n",
      "(12155,)\n",
      "(12155,)\n",
      "(12155,)\n",
      "(12155,)\n",
      "(12155,)\n",
      "(12155,)\n",
      "(12155,)\n",
      "(12155,)\n",
      "(12155,)\n",
      "(12155,)\n",
      "(12155,)\n",
      "(12155,)\n",
      "(12155,)\n",
      "(12155,)\n",
      "(12155,)\n",
      "(12155,)\n",
      "(12155,)\n",
      "(12155,)\n",
      "(12155,)\n",
      "(12155,)\n"
     ]
    },
    {
     "data": {
      "text/plain": [
       "[<matplotlib.lines.Line2D at 0x7f8d845a1890>]"
      ]
     },
     "execution_count": 67,
     "metadata": {},
     "output_type": "execute_result"
    },
    {
     "data": {
      "image/png": "[encoded data removed]",
      "text/plain": [
       "<Figure size 640x480 with 1 Axes>"
      ]
     },
     "metadata": {},
     "output_type": "display_data"
    }
   ],
   "source": [
    "y_true_shuffled = np.load('/data/LLMs/brainscore/results_pereira/shuffled/y_test_ordered_384_lang.npy')\n",
    "test_fold_size_shuffled = np.load('/data/LLMs/brainscore/results_pereira/shuffled/test_fold_size_384.npy')\n",
    "test_fold_idx_shuffled = np.hstack(([0], np.cumsum(test_fold_size_shuffled)))\n",
    "mse_intercept_shuffled = np.mean(np.load('/data/LLMs/brainscore/results_pereira/shuffled/mse_intercept_384_lang.npy'),axis=0)\n",
    "\n",
    "print(\"GPT2-XL, SHUFFLED, PEREIRA 384\")\n",
    "#compare_perf_when_using_val('pereira', y_true_shuffled, \n",
    "#                            test_fold_idx_shuffled, \n",
    "#                            np.arange(48), \n",
    "#                            mse_intercept_shuffled,\n",
    "#                            'gpt2-xl_layer_-1_1_384_m0', 'gpt2-xl_layer_-1_1_384_m0', shuffled=True)\n",
    "\n",
    "print(\"OASM, SHUFFLED, PEREIRA 384\")\n",
    "ts = compare_perf_when_using_val('pereira', y_true_shuffled, \n",
    "                            test_fold_idx_shuffled, \n",
    "                            np.round(np.arange(0.1,4.81,0.1),3), \n",
    "                            mse_intercept_shuffled,\n",
    "                            'OASM-all-sigma_-1_1_384_m0', 'OASM-all-sigma_-1_1_384_m0', shuffled=True)\n",
    "\n",
    "plt.plot(ts)"
   ]
  },
  {
   "cell_type": "code",
   "execution_count": 6,
   "metadata": {},
   "outputs": [
    {
     "name": "stdout",
     "output_type": "stream",
     "text": [
      "GPT2XL, CONTIG, PEREIRA 384\n",
      "Performance when using val to select best layer/hparam:  0.027341884\n",
      "Performance when using test set:  0.029145310227305973\n",
      "POSITION, CONTIG, PEREIRA 384\n",
      "Performance when using val to select best layer/hparam:  0.01079761\n",
      "Performance when using test set:  0.011573695663757759\n"
     ]
    },
    {
     "name": "stderr",
     "output_type": "stream",
     "text": [
      "/tmp/ipykernel_777822/3466418323.py:39: RuntimeWarning: invalid value encountered in divide\n",
      "  out_of_sample_r2_by_val = 1 - stacked_mse_np/mse_intercept\n"
     ]
    }
   ],
   "source": [
    "y_true = np.load('/data/LLMs/brainscore/results_pereira/y_test_ordered_384_lang.npy')\n",
    "test_fold_size = np.load('/data/LLMs/brainscore/results_pereira/test_fold_size_384.npy')\n",
    "test_fold_idx = np.hstack(([0], np.cumsum(test_fold_size)))\n",
    "mse_intercept = np.mean(np.load('/data/LLMs/brainscore/results_pereira/mse_intercept_384_lang.npy'),axis=0)\n",
    "\n",
    "print(\"GPT2XL, CONTIG, PEREIRA 384\")\n",
    "compare_perf_when_using_val('pereira', y_true, test_fold_idx, np.arange(48), mse_intercept, 'gpt2-xl_layer_-1_1_384_m0', 'gpt2-xl_layer_-1_1_384')\n",
    "\n",
    "print(\"POSITION, CONTIG, PEREIRA 384\")\n",
    "compare_perf_when_using_val('pereira', y_true, test_fold_idx, np.round(np.arange(0,4.8,0.1),3), mse_intercept, 'position_layer_-1_1_384_m0', 'position_layer_-1_1_384_m0')"
   ]
  },
  {
   "cell_type": "code",
   "execution_count": null,
   "metadata": {},
   "outputs": [],
   "source": []
  }
 ],
 "metadata": {
  "kernelspec": {
   "display_name": "llm_brain_new",
   "language": "python",
   "name": "python3"
  },
  "language_info": {
   "codemirror_mode": {
    "name": "ipython",
    "version": 3
   },
   "file_extension": ".py",
   "mimetype": "text/x-python",
   "name": "python",
   "nbconvert_exporter": "python",
   "pygments_lexer": "ipython3",
   "version": "3.11.13"
  },
  "orig_nbformat": 4
 },
 "nbformat": 4,
 "nbformat_minor": 2
}
