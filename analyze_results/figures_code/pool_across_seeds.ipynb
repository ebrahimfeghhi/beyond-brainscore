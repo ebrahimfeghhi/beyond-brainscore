{
 "cells": [
  {
   "cell_type": "code",
   "execution_count": 1,
   "metadata": {},
   "outputs": [],
   "source": [
    "import numpy as np"
   ]
  },
  {
   "cell_type": "code",
   "execution_count": 3,
   "metadata": {},
   "outputs": [],
   "source": [
    "num_seeds = 5"
   ]
  },
  {
   "cell_type": "code",
   "execution_count": 4,
   "metadata": {},
   "outputs": [],
   "source": [
    "resultsPath_base = '/data/LLMs/brainscore/'"
   ]
  },
  {
   "cell_type": "code",
   "execution_count": null,
   "metadata": {},
   "outputs": [],
   "source": [
    "datasets_arr = ['pereira', 'fedorenko']"
   ]
  },
  {
   "cell_type": "code",
   "execution_count": null,
   "metadata": {},
   "outputs": [],
   "source": [
    "for dataset in datasets_arr:\n",
    "    \n",
    "    for i in range(num_seeds):\n",
    "        \n",
    "        gpt2_untrained_acts = np.load(f\"/data/LLMs/data_processed/{d}/acts/X_gpt2-xl-untrained{fe}_m{i}.npz\")\n",
    "                    \n",
    "        \n",
    "        gpt2_untrained_dict, gpt2_untrained_bl, gpt2_untrained_bl_perf  = find_best_layer(np.arange(49), noL2_str='', exp=exp, \n",
    "                                                    resultsPath=f\"{resultsPath_base}results_{d}/untrained/{shuffled}\", \n",
    "                                                    perf=perf, feature_extraction=fe, selected_network_indices=selected_lang_indices, \n",
    "                                                    subjects=subjects_arr, dataset=d, model_name='gpt2-xl-untrained', seed_number=i)\n",
    "        \n",
    "        best_layer = max(gpt2_untrained_dict[1], key=gpt2_untrained_dict[1].get)\n",
    "        save_best_layer.append(f\"{d}_gpt2-xl-untrained{fe}_layer_{best_layer}_1{exp}_m{i}.npz\") \n",
    "        \n",
    "        if d == 'pereira':\n",
    "            GPT2XLU_SP_SL_perf = np.load(f\"/data/LLMs/brainscore/results_{d}/untrained/{d}_gpt2-xl-untrained{fe}_m{i}_SP+SL_layer1_1000{exp}.npz\")[perf]\n",
    "            GPT2XLU_SP_perf = np.load(f\"/data/LLMs/brainscore/results_{d}/untrained/{d}_gpt2-xl-untrained{fe}_m{i}_SP_layer1_1000{exp}.npz\")[perf]\n",
    "            GPT2XLU_SL_perf = np.load(f\"/data/LLMs/brainscore/results_{d}/untrained/{d}_gpt2-xl-untrained{fe}_m{i}_SP_layer1_1000{exp}.npz\")[perf]\n",
    "            simple_color = sns.color_palette(\"Greens\", 5)[2]  # Light green\n",
    "\n",
    "        elif d == 'fedorenko':\n",
    "            GPT2XLU_WP_perf = np.load(f\"/data/LLMs/brainscore/results_{d}/untrained/{d}_gpt2-xl-untrained{fe}_m{i}_soft+grow_layer1_1000.npz\")[perf]\n",
    "            simple_color = sns.color_palette(\"Greens\", 5)[4]   # Dark green```"
   ]
  }
 ],
 "metadata": {
  "kernelspec": {
   "display_name": "llm_brain",
   "language": "python",
   "name": "python3"
  },
  "language_info": {
   "codemirror_mode": {
    "name": "ipython",
    "version": 3
   },
   "file_extension": ".py",
   "mimetype": "text/x-python",
   "name": "python",
   "nbconvert_exporter": "python",
   "pygments_lexer": "ipython3",
   "version": "3.11.4"
  },
  "orig_nbformat": 4
 },
 "nbformat": 4,
 "nbformat_minor": 2
}
