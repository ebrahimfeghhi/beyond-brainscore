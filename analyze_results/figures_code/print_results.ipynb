{
 "cells": [
  {
   "cell_type": "code",
   "execution_count": 1,
   "metadata": {},
   "outputs": [],
   "source": [
    "import numpy as np\n",
    "from trained_untrained_results_funcs import loop_through_datasets, load_perf, load_mean_sem_perf\n",
    "import pandas as pd\n",
    "from scipy.stats import pearsonr"
   ]
  },
  {
   "cell_type": "code",
   "execution_count": 2,
   "metadata": {},
   "outputs": [
    {
     "ename": "SyntaxError",
     "evalue": "unmatched ')' (3362204804.py, line 16)",
     "output_type": "error",
     "traceback": [
      "\u001b[0;36m  Cell \u001b[0;32mIn[2], line 16\u001b[0;36m\u001b[0m\n\u001b[0;31m    layer_perf = load_perf(f'{resultsPath}/results_{dataset}/{dataset}_{model_name_replaced}{feature_extraction}{seed_str}_{niter}{noL2_str}{exp}.npz', perf, clip_zero=clip_res))\u001b[0m\n\u001b[0m                                                                                                                                                                                 ^\u001b[0m\n\u001b[0;31mSyntaxError\u001b[0m\u001b[0;31m:\u001b[0m unmatched ')'\n"
     ]
    }
   ],
   "source": [
    "def load_mean_sem_perf(model_name, dataset, feature_extraction, layer_num, \n",
    "                       resultsPath='/data/LLMs/brainscore/', seed_str='', noL2_str='', niter=1, perf='out_of_sample_r2', median=False, \n",
    "                       var_par_naming=False, return_perf=False, return_mean=False, print_res=True, clip_res=False):\n",
    "\n",
    "   if dataset == 'pereira':\n",
    "      subjects_perf_pd = {'perf': [], 'subjects': [], 'Exp': []}\n",
    "   else:\n",
    "      subjects_perf_pd = {'perf': [], 'subjects': []}\n",
    "\n",
    "   for d, fe, exp, subjects, network in loop_through_datasets([dataset], [feature_extraction]):\n",
    "\n",
    "      lang_indices = np.argwhere(network=='language')\n",
    "\n",
    "      if var_par_naming:\n",
    "         model_name_replaced= model_name.replace('EXP', exp)\n",
    "         layer_perf = load_perf(f'{resultsPath}/results_{dataset}/{dataset}_{model_name_replaced}{feature_extraction}{seed_str}_{niter}{noL2_str}{exp}.npz', perf, clip_zero=clip_res)\n",
    "      else:\n",
    "         layer_perf = load_perf(f'{resultsPath}/results_{dataset}/{dataset}_{model_name}{feature_extraction}{seed_str}_layer_{layer_num}_{niter}{noL2_str}{exp}.npz', perf, clip_zero=clip_res)\n",
    "\n",
    "      subjects_perf_pd['perf'].extend(layer_perf[lang_indices].squeeze())\n",
    "      subjects_perf_pd['subjects'].extend(subjects[lang_indices].squeeze())\n",
    "\n",
    "      if len(exp) > 0:\n",
    "         subjects_perf_pd['Exp'].extend(np.repeat(exp, len(lang_indices)))\n",
    "\n",
    "   subjects_perf_pd = pd.DataFrame(subjects_perf_pd)\n",
    "      \n",
    "   if median:\n",
    "      if dataset == 'pereira':\n",
    "            subject_avg_pd = subjects_perf_pd.groupby(['subjects', 'Exp']).median()\n",
    "            subject_avg_pd = subject_avg_pd.groupby(['subjects']).mean() # mean across experiments \n",
    "      else:\n",
    "            subject_avg_pd = subjects_perf_pd.groupby(['subjects']).median()\n",
    "      \n",
    "   else:\n",
    "      if dataset == 'pereira':\n",
    "            subject_avg_pd = subjects_perf_pd.groupby(['subjects', 'Exp']).mean()\n",
    "            subject_avg_pd = subject_avg_pd.groupby(['subjects']).mean() # mean across experiments \n",
    "      else:\n",
    "            subject_avg_pd = subjects_perf_pd.groupby(['subjects']).mean()\n",
    "            \n",
    "   \n",
    "   if print_res:\n",
    "      print(model_name, f\"{float(subject_avg_pd.mean().iloc[0]):.2g}\", f\"{float(subject_avg_pd.std().iloc[0] / np.sqrt(len(subject_avg_pd))):.2g}\")\n",
    "\n",
    "   if return_perf:\n",
    "      if dataset == 'pereira':\n",
    "         subjects_perf_384 = subjects_perf_pd.loc[subjects_perf_pd['Exp']=='_384']['perf']\n",
    "         subjects_perf_243 = subjects_perf_pd.loc[subjects_perf_pd['Exp']=='_243']['perf']\n",
    "         return subjects_perf_384, subjects_perf_243\n",
    "      else:\n",
    "         return subjects_perf_pd['perf']\n",
    "   \n",
    "   if return_mean:\n",
    "      return float(subject_avg_pd.mean().iloc[0])\n"
   ]
  },
  {
   "attachments": {},
   "cell_type": "markdown",
   "metadata": {},
   "source": [
    "# Pereira"
   ]
  },
  {
   "attachments": {},
   "cell_type": "markdown",
   "metadata": {},
   "source": [
    "### Figure 2"
   ]
  },
  {
   "cell_type": "code",
   "execution_count": 20,
   "metadata": {},
   "outputs": [
    {
     "name": "stdout",
     "output_type": "stream",
     "text": [
      "-sp 0.42\n",
      "-mp 0.46\n",
      "-lt 0.68\n",
      "(13553,)\n",
      "-sp 0.53\n",
      "-mp 0.62\n",
      "-lt 0.61\n",
      "(97,)\n",
      "-sp 0.53\n",
      "-mp 0.57\n",
      "-lt 0.27\n",
      "(60,)\n"
     ]
    }
   ],
   "source": [
    "for dataset in ['pereira', 'fedorenko', 'blank']:\n",
    "    for fe in ['-sp', '-mp', '-lt']:\n",
    "        # these performances are combined, such that voxels in both experiments have their results averaged\n",
    "        gpt2xl_combined_perf = np.load(f'/home2/ebrahim/beyond-brainscore/analyze_results/figures_code/figures_data/figure2/gpt2xl_combined{fe}_{dataset}.npz')\n",
    "        simple_combined_perf = np.load(f'/home2/ebrahim/beyond-brainscore/analyze_results/figures_code/figures_data/figure2/simple_combined{fe}_{dataset}.npz')\n",
    "        \n",
    "        if fe == '-lt':\n",
    "            fe_str = ''\n",
    "        else:\n",
    "            fe_str = fe\n",
    "            \n",
    "        r, p = pearsonr(gpt2xl_combined_perf[fe_str][~np.isnan(gpt2xl_combined_perf[fe_str])], \n",
    "                        simple_combined_perf[''][~np.isnan(simple_combined_perf[''])])\n",
    "        print(fe, round(r,2))\n",
    "        \n",
    "    print(gpt2xl_combined_perf[''].shape)"
   ]
  },
  {
   "cell_type": "code",
   "execution_count": 31,
   "metadata": {},
   "outputs": [
    {
     "name": "stdout",
     "output_type": "stream",
     "text": [
      "trained-var-parEXP-sp_pos+WN+glove 0.02 0.0094\n",
      "trained-var-parEXP-sp_pos+WN 0.015 0.0062\n",
      "trained-var-parEXP-sp_glove 0.011 0.0061\n",
      "trained-var-parEXP-sp_gpt2xl 0.026 0.009\n",
      "trained-var-parEXP_gpt2xl 0.023 0.0088\n",
      "trained-var-parEXP-mp_gpt2xl 0.021 0.0076\n",
      "trained-var-parEXP-sp_syntax 0.014 0.0072\n",
      "trained-var-parEXP-sp_pos+WN+syntax 0.013 0.0073\n"
     ]
    }
   ],
   "source": [
    "perf_pwr_glove_sp_384, perf_pwr_glove_sp_243 = load_mean_sem_perf('trained-var-parEXP-sp_pos+WN+glove', 'pereira', '', layer_num=None, \n",
    "                                                                  niter=1000, var_par_naming=True, return_perf=True)\n",
    "\n",
    "load_mean_sem_perf('trained-var-parEXP-sp_pos+WN', 'pereira', '', layer_num=None, niter=1, var_par_naming=True)\n",
    "load_mean_sem_perf('trained-var-parEXP-sp_glove', 'pereira', '', layer_num=None, niter=1, var_par_naming=True)\n",
    "perf_gpt2xl_sp_384, perf_gpt2xl_sp_243 = load_mean_sem_perf('trained-var-parEXP-sp_gpt2xl', 'pereira', '', layer_num=None, niter=1, \n",
    "                                                            var_par_naming=True, return_perf=True)\n",
    "_, _ = load_mean_sem_perf('trained-var-parEXP_gpt2xl', 'pereira', '', layer_num=None, niter=1, \n",
    "                                                            var_par_naming=True, return_perf=True)\n",
    "_, _ = load_mean_sem_perf('trained-var-parEXP-mp_gpt2xl', 'pereira', '', layer_num=None, niter=1, \n",
    "                                                            var_par_naming=True, return_perf=True)\n",
    "load_mean_sem_perf('trained-var-parEXP-sp_syntax', 'pereira', '', layer_num=None, niter=1, var_par_naming=True)\n",
    "load_mean_sem_perf('trained-var-parEXP-sp_pos+WN+syntax', 'pereira', '', layer_num=None, niter=1000, var_par_naming=True)"
   ]
  },
  {
   "cell_type": "code",
   "execution_count": 29,
   "metadata": {},
   "outputs": [
    {
     "name": "stdout",
     "output_type": "stream",
     "text": [
      "-sp 0.9\n",
      "-mp 0.85\n",
      "-lt 0.87\n",
      "(13553,)\n",
      "-sp 0.92\n",
      "-mp 0.92\n",
      "-lt 0.91\n",
      "(97,)\n",
      "-sp 0.43\n",
      "-mp 0.65\n",
      "-lt 0.36\n",
      "(60,)\n"
     ]
    }
   ],
   "source": [
    "for dataset in ['pereira', 'fedorenko', 'blank']:\n",
    "    for fe in ['-sp', '-mp', '-lt']:\n",
    "        # these performances are combined, such that voxels in both experiments have their results averaged\n",
    "        gpt2xl_combined_perf = np.load(f'/home2/ebrahim/beyond-brainscore/analyze_results/figures_code/figures_data/figure4/gpt2xl_combined_{dataset}.npz')\n",
    "        simple_combined_perf = np.load(f'/home2/ebrahim/beyond-brainscore/analyze_results/figures_code/figures_data/figure4/simple_combined_{dataset}.npz')\n",
    "        \n",
    "        if fe == '-lt':\n",
    "            fe_str = ''\n",
    "        else:\n",
    "            fe_str = fe\n",
    "\n",
    "            \n",
    "        r, p = pearsonr(gpt2xl_combined_perf[fe_str][~np.isnan(gpt2xl_combined_perf[fe_str])], \n",
    "                        simple_combined_perf[''][~np.isnan(simple_combined_perf[''])])\n",
    "        print(fe, round(r,2))\n",
    "        \n",
    "    print(gpt2xl_combined_perf[''].shape)"
   ]
  },
  {
   "cell_type": "code",
   "execution_count": 30,
   "metadata": {},
   "outputs": [
    {
     "name": "stdout",
     "output_type": "stream",
     "text": [
      "-sp 0.92\n",
      "-mp 0.79\n",
      "-lt 0.66\n",
      "(13553,)\n",
      "-sp 0.97\n",
      "-mp 0.96\n",
      "-lt 0.97\n",
      "(97,)\n",
      "-sp 0.88\n",
      "-mp 0.91\n",
      "-lt 0.69\n",
      "(60,)\n"
     ]
    }
   ],
   "source": [
    "for dataset in ['pereira', 'fedorenko', 'blank']:\n",
    "    for fe in ['-sp', '-mp', '-lt']:\n",
    "        # these performances are combined, such that voxels in both experiments have their results averaged\n",
    "        gpt2xl_combined_perf = np.load(f'/home2/ebrahim/beyond-brainscore/analyze_results/figures_code/figures_data/figure5/gpt2xl_combined_{dataset}.npz')\n",
    "        simple_combined_perf = np.load(f'/home2/ebrahim/beyond-brainscore/analyze_results/figures_code/figures_data/figure5/simple_combined_{dataset}.npz')\n",
    "        \n",
    "        if fe == '-lt':\n",
    "            fe_str = ''\n",
    "        else:\n",
    "            fe_str = fe\n",
    "            \n",
    "            \n",
    "        r, p = pearsonr(gpt2xl_combined_perf[fe_str][~np.isnan(gpt2xl_combined_perf[fe_str])], \n",
    "                        simple_combined_perf[''][~np.isnan(simple_combined_perf[''])])\n",
    "        print(fe, round(r,2))\n",
    "        \n",
    "    print(gpt2xl_combined_perf[''].shape)"
   ]
  },
  {
   "cell_type": "code",
   "execution_count": 91,
   "metadata": {},
   "outputs": [],
   "source": [
    "res_untrained = pd.read_csv('/home2/ebrahim/beyond-brainscore/analyze_results/figures_code/figures_data/figure5/results_combined_pereira_out_of_sample_r2.csv')\n",
    "res_untrained['perf'] = np.clip(res_untrained['perf'], 0, np.inf)"
   ]
  },
  {
   "cell_type": "code",
   "execution_count": 97,
   "metadata": {},
   "outputs": [
    {
     "name": "stdout",
     "output_type": "stream",
     "text": [
      "Pereira\n",
      "0.604\n",
      "Pereira\n",
      "0.503\n",
      "Pereira\n",
      "0.36\n"
     ]
    }
   ],
   "source": [
    "def compute_corr(df, dataset, model1, model2):\n",
    "    \n",
    "    if dataset == 'pereira':\n",
    "        print(\"Pereira\")\n",
    "        \n",
    "        r = 0\n",
    "        \n",
    "        for Exp in [384,243]:\n",
    "            \n",
    "            df_exp = df.loc[df['Exp']==Exp]\n",
    "            df_model1 = df_exp.loc[df_exp.Model==model1].perf\n",
    "            df_model2 = df_exp.loc[df_exp.Model==model2].perf\n",
    "            \n",
    "            r += pearsonr(df_model1, df_model2)[0]\n",
    "            \n",
    "        print(round(r/2,3))\n",
    "    else:\n",
    "        \n",
    "        df_model1 = df.loc[df.Model==model1].perf\n",
    "        df_model2 = df.loc[df.Model==model2].perf\n",
    "            \n",
    "        r = pearsonr(df_model1, df_model2)[0]\n",
    "        print(round(r,3))\n",
    "        \n",
    "    \n",
    "compute_corr(res_untrained, 'pereira', 'GPT2XLU-sp', 'Simple')\n",
    "compute_corr(res_untrained, 'pereira', 'GPT2XLU-mp', 'Simple')\n",
    "compute_corr(res_untrained, 'pereira', 'GPT2XLU-lt', 'Simple')"
   ]
  },
  {
   "attachments": {},
   "cell_type": "markdown",
   "metadata": {},
   "source": [
    "# Fedorenko"
   ]
  },
  {
   "cell_type": "code",
   "execution_count": 10,
   "metadata": {},
   "outputs": [
    {
     "name": "stdout",
     "output_type": "stream",
     "text": [
      "trained-var-parEXP-sp_gpt2xl 0.056 0.014\n",
      "trained-var-parEXP-mp_gpt2xl 0.054 0.014\n",
      "trained-var-parEXP_gpt2xl 0.052 0.013\n"
     ]
    }
   ],
   "source": [
    "dataset = 'fedorenko'\n",
    "perf_gpt2xl_sp = load_mean_sem_perf('trained-var-parEXP-sp_gpt2xl', dataset, '', layer_num=None, niter=1, var_par_naming=True, return_perf=True)\n",
    "perf_gpt2xl_mp = load_mean_sem_perf('trained-var-parEXP-mp_gpt2xl', dataset, '', layer_num=None, niter=1, var_par_naming=True, return_perf=True)\n",
    "perf_gpt2xl_lt = load_mean_sem_perf('trained-var-parEXP_gpt2xl', dataset, '', layer_num=None, niter=1, var_par_naming=True, return_perf=True)\n"
   ]
  },
  {
   "cell_type": "code",
   "execution_count": 99,
   "metadata": {},
   "outputs": [
    {
     "name": "stdout",
     "output_type": "stream",
     "text": [
      "0.97\n",
      "0.966\n",
      "0.973\n"
     ]
    }
   ],
   "source": [
    "res_untrained = pd.read_csv('/home2/ebrahim/beyond-brainscore/analyze_results/figures_code/figures_data/figure5/results_combined_fedorenko_out_of_sample_r2.csv')\n",
    "compute_corr(res_untrained, 'fedorenko', 'GPT2XLU-sp', 'Simple')\n",
    "compute_corr(res_untrained, 'fedorenko', 'GPT2XLU-mp', 'Simple')\n",
    "compute_corr(res_untrained, 'fedorenko', 'GPT2XLU-lt', 'Simple')"
   ]
  },
  {
   "cell_type": "code",
   "execution_count": 15,
   "metadata": {},
   "outputs": [
    {
     "ename": "NameError",
     "evalue": "name 'plt' is not defined",
     "output_type": "error",
     "traceback": [
      "\u001b[0;31m---------------------------------------------------------------------------\u001b[0m",
      "\u001b[0;31mNameError\u001b[0m                                 Traceback (most recent call last)",
      "Cell \u001b[0;32mIn[15], line 6\u001b[0m\n\u001b[1;32m      3\u001b[0m     perf_mean \u001b[39m=\u001b[39m load_mean_sem_perf(\u001b[39m'\u001b[39m\u001b[39mpos\u001b[39m\u001b[39m'\u001b[39m, \u001b[39m'\u001b[39m\u001b[39mfedorenko\u001b[39m\u001b[39m'\u001b[39m, \u001b[39m'\u001b[39m\u001b[39m'\u001b[39m, i, niter\u001b[39m=\u001b[39m\u001b[39m1\u001b[39m, return_mean\u001b[39m=\u001b[39m\u001b[39mTrue\u001b[39;00m, print_res\u001b[39m=\u001b[39m\u001b[39mFalse\u001b[39;00m)\n\u001b[1;32m      4\u001b[0m     layer_perf_pos_fed\u001b[39m.\u001b[39mappend(perf_mean)\n\u001b[0;32m----> 6\u001b[0m plt\u001b[39m.\u001b[39mhist(layer_perf_pos_fed)\n\u001b[1;32m      8\u001b[0m perf_fed_pos\u001b[39m=\u001b[39m load_mean_sem_perf(\u001b[39m'\u001b[39m\u001b[39mpos\u001b[39m\u001b[39m'\u001b[39m, dataset, \u001b[39m'\u001b[39m\u001b[39m'\u001b[39m, layer_num\u001b[39m=\u001b[39m\u001b[39m4.6\u001b[39m, niter\u001b[39m=\u001b[39m\u001b[39m1\u001b[39m, var_par_naming\u001b[39m=\u001b[39m\u001b[39mFalse\u001b[39;00m, return_perf\u001b[39m=\u001b[39m\u001b[39mTrue\u001b[39;00m)\n\u001b[1;32m      9\u001b[0m \u001b[39mprint\u001b[39m(pearsonr(perf_gpt2xl_sp, perf_fed_pos))\n",
      "\u001b[0;31mNameError\u001b[0m: name 'plt' is not defined"
     ]
    }
   ],
   "source": [
    "layer_perf_pos_fed = []\n",
    "for i in np.round(np.arange(0, 4.8, 0.1),2):\n",
    "    perf_mean = load_mean_sem_perf('pos', 'fedorenko', '', i, niter=1, return_mean=True, print_res=False)\n",
    "    layer_perf_pos_fed.append(perf_mean)\n",
    "\n",
    "plt.hist(layer_perf_pos_fed)\n",
    "\n",
    "perf_fed_pos= load_mean_sem_perf('pos', dataset, '', layer_num=4.6, niter=1, var_par_naming=False, return_perf=True)\n",
    "print(pearsonr(perf_gpt2xl_sp, perf_fed_pos))\n",
    "print(pearsonr(perf_gpt2xl_mp, perf_fed_pos))\n",
    "print(pearsonr(perf_gpt2xl_lt, perf_fed_pos))"
   ]
  },
  {
   "attachments": {},
   "cell_type": "markdown",
   "metadata": {},
   "source": [
    "# Blank"
   ]
  },
  {
   "cell_type": "code",
   "execution_count": 97,
   "metadata": {},
   "outputs": [
    {
     "name": "stdout",
     "output_type": "stream",
     "text": [
      "trained-var-parEXP-sp_gpt2xl 0.0021 0.00083\n",
      "trained-var-parEXP-mp_gpt2xl 0.0027 0.0012\n",
      "trained-var-parEXP_gpt2xl 0.0013 0.0004\n",
      "trained-var-parEXP_pos+WN 0.0098 0.0036\n",
      "PearsonRResult(statistic=0.3309392132757731, pvalue=0.00980187505858587)\n",
      "PearsonRResult(statistic=0.7113706714645974, pvalue=1.8893060108242652e-10)\n",
      "PearsonRResult(statistic=0.4496823896724749, pvalue=0.0003127010248133971)\n"
     ]
    }
   ],
   "source": [
    "dataset = 'blank'\n",
    "perf_gpt2xl_sp = load_mean_sem_perf('trained-var-parEXP-sp_gpt2xl', dataset, '', layer_num=None, niter=1, var_par_naming=True, return_perf=True)\n",
    "perf_gpt2xl_mp = load_mean_sem_perf('trained-var-parEXP-mp_gpt2xl', dataset, '', layer_num=None, niter=1, var_par_naming=True, return_perf=True)\n",
    "perf_gpt2xl_lt = load_mean_sem_perf('trained-var-parEXP_gpt2xl', dataset, '', layer_num=None, niter=1, var_par_naming=True, return_perf=True)\n",
    "PWR_blank = load_mean_sem_perf('trained-var-parEXP_pos+WN', dataset, '', layer_num=None, niter=1, var_par_naming=True, return_perf=True)\n",
    "\n",
    "print(pearsonr(perf_gpt2xl_sp, PWR_blank))\n",
    "print(pearsonr(perf_gpt2xl_mp, PWR_blank))\n",
    "print(pearsonr(perf_gpt2xl_lt, PWR_blank))"
   ]
  },
  {
   "cell_type": "code",
   "execution_count": 101,
   "metadata": {},
   "outputs": [
    {
     "name": "stdout",
     "output_type": "stream",
     "text": [
      "0.879\n",
      "0.91\n",
      "0.69\n"
     ]
    }
   ],
   "source": [
    "res_untrained = pd.read_csv('/home2/ebrahim/beyond-brainscore/analyze_results/figures_code/figures_data/figure5/results_combined_blank_out_of_sample_r2.csv')\n",
    "compute_corr(res_untrained, 'blank', 'GPT2XLU-sp', 'Simple')\n",
    "compute_corr(res_untrained, 'blank', 'GPT2XLU-mp', 'Simple')\n",
    "compute_corr(res_untrained, 'blank', 'GPT2XLU-lt', 'Simple')"
   ]
  },
  {
   "cell_type": "code",
   "execution_count": null,
   "metadata": {},
   "outputs": [],
   "source": [
    "\n",
    "\n",
    "perf_fed_pos= load_mean_sem_perf('pos', dataset, '', layer_num=4.6, niter=1, var_par_naming=False, return_perf=True)\n",
    "print(pearsonr(perf_gpt2xl_sp, perf_fed_pos))\n",
    "print(pearsonr(perf_gpt2xl_mp, perf_fed_pos))\n",
    "print(pearsonr(perf_gpt2xl_lt, perf_fed_pos))"
   ]
  },
  {
   "attachments": {},
   "cell_type": "markdown",
   "metadata": {},
   "source": []
  },
  {
   "cell_type": "code",
   "execution_count": 19,
   "metadata": {},
   "outputs": [
    {
     "name": "stdout",
     "output_type": "stream",
     "text": [
      "Taking mean value across voxels with a participant\n",
      "glove_wn+pos 0.049 0.0094\n",
      "Taking mean value across voxels with a participant\n",
      "wn+pos 0.049 0.011\n"
     ]
    }
   ],
   "source": [
    "load_mean_sem_perf('glove_wn+pos', 'fedorenko', '', 1, niter=1000)\n",
    "load_mean_sem_perf('wn+pos', 'fedorenko', '', 4.3, niter=1)"
   ]
  },
  {
   "cell_type": "code",
   "execution_count": null,
   "metadata": {},
   "outputs": [],
   "source": [
    "load_mean_sem_perf('trained-var-par_384', 'pereira', '', i, niter=1)"
   ]
  },
  {
   "cell_type": "code",
   "execution_count": 70,
   "metadata": {},
   "outputs": [
    {
     "name": "stdout",
     "output_type": "stream",
     "text": [
      "pereira 45\n"
     ]
    },
    {
     "data": {
      "image/png": "[encoded data removed]",
      "text/plain": [
       "<Figure size 640x480 with 1 Axes>"
      ]
     },
     "metadata": {},
     "output_type": "display_data"
    },
    {
     "name": "stdout",
     "output_type": "stream",
     "text": [
      "fedorenko 39\n"
     ]
    },
    {
     "data": {
      "image/png": "[encoded data removed]",
      "text/plain": [
       "<Figure size 640x480 with 1 Axes>"
      ]
     },
     "metadata": {},
     "output_type": "display_data"
    },
    {
     "name": "stdout",
     "output_type": "stream",
     "text": [
      "blank 13\n"
     ]
    },
    {
     "data": {
      "image/png": "[encoded data removed]",
      "text/plain": [
       "<Figure size 640x480 with 1 Axes>"
      ]
     },
     "metadata": {},
     "output_type": "display_data"
    }
   ],
   "source": [
    "from matplotlib import pyplot as plt\n",
    "\n",
    "for dataset in ['pereira', 'fedorenko', 'blank']:\n",
    "    layer_perf_gaussian = []\n",
    "    for i in range(48):\n",
    "        perf_mean = load_mean_sem_perf('gaussian', dataset, '', i, niter=1, return_mean=True, print_res=False)\n",
    "        layer_perf_gaussian.append(perf_mean)\n",
    "    print(dataset, np.argmax(layer_perf_gaussian))\n",
    "    plt.bar(np.arange(48), layer_perf_gaussian)\n",
    "    plt.show()"
   ]
  },
  {
   "cell_type": "code",
   "execution_count": 57,
   "metadata": {},
   "outputs": [
    {
     "data": {
      "text/plain": [
       "[3.9481444235428544e-05,\n",
       " 0.00013544489922994363,\n",
       " 0.0001407946033239423,\n",
       " 4.6405835248845376e-05,\n",
       " 0.00029227192264741906,\n",
       " 0.0001902756502263033,\n",
       " 9.844357911989083e-05,\n",
       " 0.00013999774403966234,\n",
       " 0.00040517206325784707,\n",
       " 0.00023200756367469468,\n",
       " 0.0001777756062582477,\n",
       " 0.00014999454342674024,\n",
       " 0.00018321240033843575,\n",
       " 0.00020136902057359222,\n",
       " 0.00015470829275544365,\n",
       " 0.000285733632947908,\n",
       " 0.0003888206923038706,\n",
       " 0.0001867117693314472,\n",
       " 0.0005277481143136458,\n",
       " 0.0003365951685519878,\n",
       " 0.00031193329913516604,\n",
       " 0.0002742400355940441,\n",
       " 0.00028139880111363965,\n",
       " 7.240972991997181e-05,\n",
       " 3.2036103493393585e-06,\n",
       " 0.00010571659713509335,\n",
       " 0.00035533198126757036,\n",
       " 0.00018202477054931053,\n",
       " 0.0002666514264775155,\n",
       " 0.0001400114797012723,\n",
       " 0.0003197200822940042,\n",
       " 0.0002729675779260587,\n",
       " 0.0001929781558675884,\n",
       " 6.535867224435332e-05,\n",
       " 0.00031117977650565456,\n",
       " 0.00011539727172725962,\n",
       " 0.0001857530856202568,\n",
       " 6.119797534303029e-05,\n",
       " 3.188527671523408e-09,\n",
       " 0.0005845714574755338,\n",
       " 0.0001744483364612026,\n",
       " 0.00017985822320817725,\n",
       " 4.4325065212371303e-05,\n",
       " 0.0002840386608260822,\n",
       " 0.00011305735230828783,\n",
       " 0.00023625105585884932,\n",
       " 8.677844740954306e-05,\n",
       " 9.656728098301573e-05]"
      ]
     },
     "execution_count": 57,
     "metadata": {},
     "output_type": "execute_result"
    }
   ],
   "source": [
    "layer_perf_gaussian"
   ]
  },
  {
   "cell_type": "code",
   "execution_count": null,
   "metadata": {},
   "outputs": [],
   "source": []
  }
 ],
 "metadata": {
  "kernelspec": {
   "display_name": "llm_brain",
   "language": "python",
   "name": "python3"
  },
  "language_info": {
   "codemirror_mode": {
    "name": "ipython",
    "version": 3
   },
   "file_extension": ".py",
   "mimetype": "text/x-python",
   "name": "python",
   "nbconvert_exporter": "python",
   "pygments_lexer": "ipython3",
   "version": "3.11.4"
  },
  "orig_nbformat": 4
 },
 "nbformat": 4,
 "nbformat_minor": 2
}
