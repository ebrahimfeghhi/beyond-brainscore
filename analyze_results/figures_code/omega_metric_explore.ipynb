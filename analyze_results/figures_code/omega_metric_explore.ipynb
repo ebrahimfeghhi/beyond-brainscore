{
 "cells": [
  {
   "cell_type": "code",
   "execution_count": 1,
   "metadata": {},
   "outputs": [],
   "source": [
    "import numpy as np"
   ]
  },
  {
   "cell_type": "code",
   "execution_count": 2,
   "metadata": {},
   "outputs": [],
   "source": [
    "simple_model = np.random.uniform(0,1,1000)\n",
    "banded_model = simple_model + np.random.uniform(0,0.1,1000)"
   ]
  },
  {
   "cell_type": "code",
   "execution_count": 30,
   "metadata": {},
   "outputs": [],
   "source": [
    "gpt2_bl_perf, GPT2XL_se_full,  GPT2XL_se = load_perf(f\"/data/LLMs/brainscore/results_{d}/{d}_trained-var-par{exp}{fe}_gpt2xl_1{exp}.npz\", perf, return_SE=True, \n",
    "                                                    shape_pereira_full=shape_pereira_full, non_nan_indices_dict=non_nan_indices_dict, exp=exp, dataset=d)\n"
   ]
  },
  {
   "cell_type": "code",
   "execution_count": 31,
   "metadata": {},
   "outputs": [
    {
     "data": {
      "text/plain": [
       "(627, 103900)"
      ]
     },
     "execution_count": 31,
     "metadata": {},
     "output_type": "execute_result"
    }
   ],
   "source": [
    "GPT2XL_se_full.shape"
   ]
  },
  {
   "cell_type": "code",
   "execution_count": 32,
   "metadata": {},
   "outputs": [],
   "source": [
    "mse_intercept = np.load(f'/data/LLMs/brainscore/results_pereira/mse_intercept{exp}.npy')\n",
    "intercept_se_full = np.full(shape_pereira_full, fill_value=np.nan)\n",
    "\n",
    "if '243' in exp:\n",
    "    intercept_se_full[:243, non_nan_indices_dict[exp.strip('_')]] = mse_intercept\n",
    "    \n",
    "else:\n",
    "    intercept_se_full[243:, non_nan_indices_dict[exp.strip('_')]] = mse_intercept\n",
    "    "
   ]
  },
  {
   "cell_type": "code",
   "execution_count": 37,
   "metadata": {},
   "outputs": [
    {
     "name": "stderr",
     "output_type": "stream",
     "text": [
      "/tmp/ipykernel_992881/3934943226.py:1: RuntimeWarning: Mean of empty slice\n",
      "  out_of_sample_r2 = 1 - np.nanmean(GPT2XL_se_full, axis=0)/np.nanmean(intercept_se_full,axis=0)\n",
      "/tmp/ipykernel_992881/3934943226.py:1: RuntimeWarning: invalid value encountered in divide\n",
      "  out_of_sample_r2 = 1 - np.nanmean(GPT2XL_se_full, axis=0)/np.nanmean(intercept_se_full,axis=0)\n"
     ]
    },
    {
     "data": {
      "text/plain": [
       "3.9332618039702985e-08"
      ]
     },
     "execution_count": 37,
     "metadata": {},
     "output_type": "execute_result"
    }
   ],
   "source": [
    "out_of_sample_r2 = 1 - np.nanmean(GPT2XL_se_full, axis=0)/np.nanmean(intercept_se_full,axis=0)\n",
    "np.nanmean(np.abs(out_of_sample_r2[non_nan_indices_dict['384']] - gpt2_bl_perf))"
   ]
  },
  {
   "cell_type": "code",
   "execution_count": 34,
   "metadata": {},
   "outputs": [
    {
     "name": "stderr",
     "output_type": "stream",
     "text": [
      "/tmp/ipykernel_992881/3881362065.py:1: RuntimeWarning: Mean of empty slice\n",
      "  np.nanmean(GPT2XL_se_full, axis=0).shape\n"
     ]
    },
    {
     "data": {
      "text/plain": [
       "(103900,)"
      ]
     },
     "execution_count": 34,
     "metadata": {},
     "output_type": "execute_result"
    }
   ],
   "source": [
    "np.nanmean(GPT2XL_se_full, axis=0).shape"
   ]
  },
  {
   "cell_type": "code",
   "execution_count": 35,
   "metadata": {},
   "outputs": [
    {
     "name": "stderr",
     "output_type": "stream",
     "text": [
      "/tmp/ipykernel_992881/139551336.py:1: RuntimeWarning: Mean of empty slice\n",
      "  np.nanmean(intercept_se_full,axis=0).shape\n"
     ]
    },
    {
     "data": {
      "text/plain": [
       "(103900,)"
      ]
     },
     "execution_count": 35,
     "metadata": {},
     "output_type": "execute_result"
    }
   ],
   "source": [
    "np.nanmean(intercept_se_full,axis=0).shape"
   ]
  },
  {
   "cell_type": "code",
   "execution_count": null,
   "metadata": {},
   "outputs": [],
   "source": []
  }
 ],
 "metadata": {
  "kernelspec": {
   "display_name": "llm_brain",
   "language": "python",
   "name": "python3"
  },
  "language_info": {
   "codemirror_mode": {
    "name": "ipython",
    "version": 3
   },
   "file_extension": ".py",
   "mimetype": "text/x-python",
   "name": "python",
   "nbconvert_exporter": "python",
   "pygments_lexer": "ipython3",
   "version": "3.11.4"
  },
  "orig_nbformat": 4
 },
 "nbformat": 4,
 "nbformat_minor": 2
}
