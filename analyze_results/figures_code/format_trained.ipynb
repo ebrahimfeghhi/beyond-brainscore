{
 "cells": [
  {
   "attachments": {},
   "cell_type": "markdown",
   "metadata": {},
   "source": [
    "Trained results were computed by Nima, and he sent me the results in a different format on dropbox.   \n",
    "I'm using this notebook to convert them to the format I have so I can plot them with the functions used\n",
    "for the untrained results."
   ]
  },
  {
   "cell_type": "markdown",
   "metadata": {},
   "source": []
  },
  {
   "cell_type": "code",
   "execution_count": 1,
   "metadata": {},
   "outputs": [],
   "source": [
    "import numpy as np\n",
    "from matplotlib import pyplot as plt\n",
    "saveFolder = '/home3/ebrahim/what-is-brainscore/results_all/results_pereira/'\n"
   ]
  },
  {
   "cell_type": "code",
   "execution_count": 2,
   "metadata": {},
   "outputs": [],
   "source": [
    "all_models_results_384 = np.load(\"/data/LLMs/Pereira/trained_results/WN_POS_WORD_SENSE_SYNT_ROB_OOSR2_384.npy\")\n",
    "all_models_results_243 = np.load(\"/data/LLMs/Pereira/trained_results/WN_POS_WORD_SENSE_SYNT_ROB_OOSR2_243.npy\")"
   ]
  },
  {
   "cell_type": "code",
   "execution_count": 3,
   "metadata": {},
   "outputs": [
    {
     "data": {
      "text/plain": [
       "(2, 2, 2, 2, 2, 2, 92540)"
      ]
     },
     "execution_count": 3,
     "metadata": {},
     "output_type": "execute_result"
    }
   ],
   "source": [
    "all_models_results_384.shape"
   ]
  },
  {
   "cell_type": "code",
   "execution_count": 4,
   "metadata": {},
   "outputs": [],
   "source": [
    "def reformat_r2(model_results, saveName, msn='ROB'):\n",
    "    \n",
    "    model_names = []\n",
    "    r2_vals = []\n",
    "    for w in range(2):\n",
    "        for p in range(2):\n",
    "            for wo in range(2):\n",
    "                for se in range(2):\n",
    "                    for sy in range(2):\n",
    "                        for c in range(2):\n",
    "                            r2_val = model_results[w, p, wo, se, sy, c]\n",
    "                            mn = ''\n",
    "                            if p:\n",
    "                                mn += 'SP+'\n",
    "                            if w:\n",
    "                                mn += 'SL+'\n",
    "                            if wo:\n",
    "                                mn += 'WORD+'\n",
    "                            if se:\n",
    "                                mn += 'SENSE+'\n",
    "                            if sy:\n",
    "                                mn += 'SYNT+'\n",
    "                            if c:\n",
    "                                mn += msn\n",
    "                            mn = mn.rstrip('+')\n",
    "                            if mn == '':\n",
    "                                mn = 'Intercept'\n",
    "                            model_names.append(mn)\n",
    "                            r2_vals.append(r2_val)\n",
    "                            \n",
    "    \n",
    "                            \n",
    "    np.save(f'/data/LLMs/Pereira/trained_results/{saveName}', r2_vals)\n",
    "    np.save(f'/data/LLMs/Pereira/trained_results/{saveName}_model_names', model_names)                    "
   ]
  },
  {
   "cell_type": "code",
   "execution_count": 5,
   "metadata": {},
   "outputs": [],
   "source": [
    "reformat_r2(all_models_results_384, 'r2_384_trained_rob')\n",
    "reformat_r2(all_models_results_243, 'r2_243_trained_rob')"
   ]
  }
 ],
 "metadata": {
  "kernelspec": {
   "display_name": "llama",
   "language": "python",
   "name": "python3"
  },
  "language_info": {
   "codemirror_mode": {
    "name": "ipython",
    "version": 3
   },
   "file_extension": ".py",
   "mimetype": "text/x-python",
   "name": "python",
   "nbconvert_exporter": "python",
   "pygments_lexer": "ipython3",
   "version": "3.11.4"
  },
  "orig_nbformat": 4
 },
 "nbformat": 4,
 "nbformat_minor": 2
}
