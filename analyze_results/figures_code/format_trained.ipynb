{
 "cells": [
  {
   "attachments": {},
   "cell_type": "markdown",
   "metadata": {},
   "source": [
    "Trained results were computed by Nima, and he sent me the results in a different format on dropbox.   \n",
    "I'm using this notebook to convert them to the format I have so I can plot them with the functions used\n",
    "for the untrained results."
   ]
  },
  {
   "cell_type": "markdown",
   "metadata": {},
   "source": []
  },
  {
   "cell_type": "code",
   "execution_count": 1,
   "metadata": {},
   "outputs": [],
   "source": [
    "import numpy as np\n",
    "from matplotlib import pyplot as plt\n",
    "saveFolder = '/home3/ebrahim/what-is-brainscore/results_all/results_pereira/'\n"
   ]
  },
  {
   "cell_type": "code",
   "execution_count": 1,
   "metadata": {},
   "outputs": [
    {
     "name": "stdout",
     "output_type": "stream",
     "text": [
      "0\n"
     ]
    }
   ],
   "source": [
    "for i in range(0,2,2):\n",
    "    print(i)"
   ]
  },
  {
   "cell_type": "code",
   "execution_count": 7,
   "metadata": {},
   "outputs": [],
   "source": [
    "def reformat_r2(model_results, saveName, msn='GPT2-XL'):\n",
    "    \n",
    "    model_names = []\n",
    "    r2_vals = []\n",
    "    for w in range(2):\n",
    "        for p in range(2):\n",
    "            for wo in range(2):\n",
    "                for se in range(2):\n",
    "                    for sy in range(2):\n",
    "                        for c in range(2):\n",
    "                            r2_val = model_results[w, p, wo, se, sy, c]\n",
    "                            mn = ''\n",
    "                            if p:\n",
    "                                mn += 'SP+'\n",
    "                            if w:\n",
    "                                mn += 'SL+'\n",
    "                            if wo:\n",
    "                                mn += 'WORD+'\n",
    "                            if se:\n",
    "                                mn += 'SENSE+'\n",
    "                            if sy:\n",
    "                                mn += 'SYNT+'\n",
    "                            if c:\n",
    "                                mn += msn\n",
    "                            mn = mn.rstrip('+')\n",
    "                            if mn == '':\n",
    "                                mn = 'Intercept'\n",
    "                            model_names.append(mn)\n",
    "                            r2_vals.append(r2_val)\n",
    "                            \n",
    "    \n",
    "                            \n",
    "    np.save(f'/data/LLMs/brainscore/results_pereira/trained/{saveName}', r2_vals)\n",
    "    np.save(f'/data/LLMs/brainscore/results_pereira/trained/{saveName}_model_names', model_names)                    "
   ]
  },
  {
   "cell_type": "code",
   "execution_count": 10,
   "metadata": {},
   "outputs": [],
   "source": [
    "\n",
    "all_models_results_384_r2_lt = np.load(\"/data/LLMs/brainscore/results_pereira/trained/WN_POS_WORD_SENSE_SYNT_GPT2LT_OOSR2_384.npy\")\n",
    "all_models_results_243_r2_lt = np.load(\"/data/LLMs/brainscore/results_pereira/trained/WN_POS_WORD_SENSE_SYNT_GPT2LT_OOSR2_243.npy\")\n",
    "\n",
    "reformat_r2(all_models_results_384_r2_lt , 'r2_lt_384_trained')\n",
    "reformat_r2(all_models_results_243_r2_lt , 'r2_lt_243_trained')\n",
    "\n",
    "all_models_results_384_r2_sp = np.load(\"/data/LLMs/brainscore/results_pereira/trained/WN_POS_WORD_SENSE_SYNT_GPT2SP_OOSR2_384.npy\")\n",
    "all_models_results_243_r2_sp = np.load(\"/data/LLMs/brainscore/results_pereira/trained/WN_POS_WORD_SENSE_SYNT_GPT2SP_OOSR2_243.npy\")\n",
    "\n",
    "reformat_r2(all_models_results_384_r2_sp, 'r2_sp_384_trained')\n",
    "reformat_r2(all_models_results_243_r2_sp , 'r2_sp_243_trained')\n",
    "\n",
    "all_models_results_384_r_lt = np.load(\"/data/LLMs/brainscore/results_pereira/trained/WN_POS_WORD_SENSE_SYNT_GPT2LT_PEARSONR_384.npy\")\n",
    "all_models_results_243_r_lt = np.load(\"/data/LLMs/brainscore/results_pereira/trained/WN_POS_WORD_SENSE_SYNT_GPT2LT_PEARSONR_243.npy\")\n",
    "\n",
    "reformat_r2(all_models_results_384_r_lt , 'r_lt_384_trained')\n",
    "reformat_r2(all_models_results_243_r_lt , 'r_lt_243_trained')\n",
    "\n",
    "all_models_results_384_r_sp = np.load(\"/data/LLMs/brainscore/results_pereira/trained/WN_POS_WORD_SENSE_SYNT_GPT2SP_PEARSONR_384.npy\")\n",
    "all_models_results_243_r_sp = np.load(\"/data/LLMs/brainscore/results_pereira/trained/WN_POS_WORD_SENSE_SYNT_GPT2SP_PEARSONR_243.npy\")\n",
    "\n",
    "reformat_r2(all_models_results_384_r_sp  , 'r_sp_384_trained')\n",
    "reformat_r2(all_models_results_243_r_sp , 'r_sp_243_trained')\n",
    "\n",
    "all_models_results_384_r_lt_linear_reg = np.load(\"/data/LLMs/brainscore/results_pereira/trained/WN_POS_WORD_X_X_GPT2LT_PEARSONR_LINREG_384.npy\")\n",
    "all_models_results_243_r_lt_linear_reg = np.load(\"/data/LLMs/brainscore/results_pereira/trained/WN_POS_WORD_X_X_GPT2LT_PEARSONR_LINREG_243.npy\")\n",
    "\n",
    "reformat_r2(all_models_results_384_r_lt_linear_reg  , 'r_lt_noL2_384_trained')\n",
    "reformat_r2(all_models_results_243_r_lt_linear_reg  , 'r_lt_noL2_243_trained')"
   ]
  },
  {
   "cell_type": "code",
   "execution_count": null,
   "metadata": {},
   "outputs": [],
   "source": []
  }
 ],
 "metadata": {
  "kernelspec": {
   "display_name": "llama",
   "language": "python",
   "name": "python3"
  },
  "language_info": {
   "codemirror_mode": {
    "name": "ipython",
    "version": 3
   },
   "file_extension": ".py",
   "mimetype": "text/x-python",
   "name": "python",
   "nbconvert_exporter": "python",
   "pygments_lexer": "ipython3",
   "version": "3.11.4"
  },
  "orig_nbformat": 4
 },
 "nbformat": 4,
 "nbformat_minor": 2
}
