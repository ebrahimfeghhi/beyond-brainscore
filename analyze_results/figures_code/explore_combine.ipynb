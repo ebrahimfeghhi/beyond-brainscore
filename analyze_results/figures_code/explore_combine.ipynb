{
 "cells": [
  {
   "cell_type": "code",
   "execution_count": 2,
   "metadata": {},
   "outputs": [],
   "source": [
    "import numpy as np"
   ]
  },
  {
   "cell_type": "code",
   "execution_count": 62,
   "metadata": {},
   "outputs": [],
   "source": [
    "yhat = np.load('/data/LLMs/brainscore/results_pereira/shuffled/pereira_gpt2-xl-mp_layer_20_1_384.npz')['y_hat']\n",
    "ytest_ordered = np.load('/data/LLMs/results_pereira/y_test_ordered_384.npy')\n",
    "mse_intercept = np.load('/data/LLMs/results_pereira/mse_intercept_384.npy')"
   ]
  },
  {
   "cell_type": "code",
   "execution_count": 63,
   "metadata": {},
   "outputs": [],
   "source": [
    "def compute_r2(y_true, y_pred, mse_intercept):\n",
    "    \n",
    "    numerator = np.sum((y_true - y_pred)**2,axis=0)\n",
    "    \n",
    "    r2 = np.nan_to_num(1 - (numerator/np.sum(mse_intercept,axis=0)))\n",
    "    \n",
    "    return r2\n"
   ]
  },
  {
   "cell_type": "code",
   "execution_count": 64,
   "metadata": {},
   "outputs": [
    {
     "name": "stderr",
     "output_type": "stream",
     "text": [
      "/tmp/ipykernel_2727735/855661557.py:5: RuntimeWarning: invalid value encountered in divide\n",
      "  r2 = np.nan_to_num(1 - (numerator/np.sum(mse_intercept,axis=0)))\n"
     ]
    }
   ],
   "source": [
    "r2 = compute_r2(ytest_ordered, yhat, mse_intercept)"
   ]
  },
  {
   "cell_type": "code",
   "execution_count": 65,
   "metadata": {},
   "outputs": [
    {
     "name": "stdout",
     "output_type": "stream",
     "text": [
      "0.029628662\n"
     ]
    }
   ],
   "source": [
    "print(np.nanmean(r2))"
   ]
  },
  {
   "cell_type": "code",
   "execution_count": 67,
   "metadata": {},
   "outputs": [
    {
     "name": "stdout",
     "output_type": "stream",
     "text": [
      "0.0342034\n"
     ]
    },
    {
     "name": "stderr",
     "output_type": "stream",
     "text": [
      "/tmp/ipykernel_2727735/855661557.py:5: RuntimeWarning: invalid value encountered in divide\n",
      "  r2 = np.nan_to_num(1 - (numerator/np.sum(mse_intercept,axis=0)))\n"
     ]
    }
   ],
   "source": [
    "r2 = compute_r2(ytest_ordered[:100], yhat[:100], mse_intercept[:100])\n",
    "print(np.nanmean(r2))"
   ]
  },
  {
   "cell_type": "code",
   "execution_count": null,
   "metadata": {},
   "outputs": [],
   "source": [
    "r2 = compute_r2(ytest_ordered[100:], yhat[100:], mse_intercept[100:])\n",
    "print(np.nanmean(r2))"
   ]
  }
 ],
 "metadata": {
  "kernelspec": {
   "display_name": "llm_brain",
   "language": "python",
   "name": "python3"
  },
  "language_info": {
   "codemirror_mode": {
    "name": "ipython",
    "version": 3
   },
   "file_extension": ".py",
   "mimetype": "text/x-python",
   "name": "python",
   "nbconvert_exporter": "python",
   "pygments_lexer": "ipython3",
   "version": "3.11.4"
  },
  "orig_nbformat": 4
 },
 "nbformat": 4,
 "nbformat_minor": 2
}
