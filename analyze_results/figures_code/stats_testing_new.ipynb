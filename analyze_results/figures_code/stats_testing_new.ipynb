{
 "cells": [
  {
   "cell_type": "code",
   "execution_count": 10,
   "metadata": {},
   "outputs": [],
   "source": [
    "import numpy as np\n",
    "from scipy.stats import ttest_rel\n",
    "import pandas as pd"
   ]
  },
  {
   "cell_type": "code",
   "execution_count": 30,
   "metadata": {},
   "outputs": [],
   "source": [
    "def compute_frac_sig(feature_extraction_arr, dataset, figure_num):\n",
    "    \n",
    "    df = pd.read_csv(f'/home2/ebrahim/beyond-brainscore/analyze_results/figures_code/figures_data/figure{figure_num}/pvalues_{dataset}.csv')\n",
    "    \n",
    "\n",
    "    for fe in feature_extraction_arr: \n",
    "        \n",
    "        df_fe = df.loc[df.fe==fe].copy()\n",
    "        df_fe['pval_sig'] = np.where(df_fe['pval']<0.05, 1, 0)\n",
    "        \n",
    "        # Calculate the mean proportion of significant p-values per subject\n",
    "        subject_means = df_fe.groupby('subject')['pval_sig'].mean()\n",
    "\n",
    "        # Calculate the overall mean and standard error\n",
    "        overall_mean = subject_means.mean() * 100  # Convert to percentage\n",
    "        std_error = (subject_means.std() / np.sqrt(len(subject_means))) * 100  # Convert to percentage\n",
    "\n",
    "        # Print the results with two significant digits\n",
    "        print(f\"{overall_mean:.3g} {std_error:.3g}%\")"
   ]
  },
  {
   "cell_type": "code",
   "execution_count": 12,
   "metadata": {},
   "outputs": [
    {
     "data": {
      "text/html": [
       "<div>\n",
       "<style scoped>\n",
       "    .dataframe tbody tr th:only-of-type {\n",
       "        vertical-align: middle;\n",
       "    }\n",
       "\n",
       "    .dataframe tbody tr th {\n",
       "        vertical-align: top;\n",
       "    }\n",
       "\n",
       "    .dataframe thead th {\n",
       "        text-align: right;\n",
       "    }\n",
       "</style>\n",
       "<table border=\"1\" class=\"dataframe\">\n",
       "  <thead>\n",
       "    <tr style=\"text-align: right;\">\n",
       "      <th></th>\n",
       "      <th>Unnamed: 0</th>\n",
       "      <th>fe</th>\n",
       "      <th>subject</th>\n",
       "      <th>pval</th>\n",
       "      <th>pval_orig</th>\n",
       "      <th>network</th>\n",
       "    </tr>\n",
       "  </thead>\n",
       "  <tbody>\n",
       "    <tr>\n",
       "      <th>0</th>\n",
       "      <td>0</td>\n",
       "      <td>-lt</td>\n",
       "      <td>18</td>\n",
       "      <td>8.347298e-54</td>\n",
       "      <td>3.700926e-54</td>\n",
       "      <td>language</td>\n",
       "    </tr>\n",
       "    <tr>\n",
       "      <th>1</th>\n",
       "      <td>1</td>\n",
       "      <td>-lt</td>\n",
       "      <td>18</td>\n",
       "      <td>1.634066e-51</td>\n",
       "      <td>1.055689e-51</td>\n",
       "      <td>language</td>\n",
       "    </tr>\n",
       "    <tr>\n",
       "      <th>2</th>\n",
       "      <td>2</td>\n",
       "      <td>-lt</td>\n",
       "      <td>18</td>\n",
       "      <td>3.911878e-61</td>\n",
       "      <td>1.690677e-62</td>\n",
       "      <td>language</td>\n",
       "    </tr>\n",
       "    <tr>\n",
       "      <th>3</th>\n",
       "      <td>3</td>\n",
       "      <td>-lt</td>\n",
       "      <td>18</td>\n",
       "      <td>1.452273e-45</td>\n",
       "      <td>1.309427e-45</td>\n",
       "      <td>language</td>\n",
       "    </tr>\n",
       "    <tr>\n",
       "      <th>4</th>\n",
       "      <td>4</td>\n",
       "      <td>-lt</td>\n",
       "      <td>18</td>\n",
       "      <td>1.606048e-42</td>\n",
       "      <td>1.493553e-42</td>\n",
       "      <td>language</td>\n",
       "    </tr>\n",
       "    <tr>\n",
       "      <th>...</th>\n",
       "      <td>...</td>\n",
       "      <td>...</td>\n",
       "      <td>...</td>\n",
       "      <td>...</td>\n",
       "      <td>...</td>\n",
       "      <td>...</td>\n",
       "    </tr>\n",
       "    <tr>\n",
       "      <th>40498</th>\n",
       "      <td>40498</td>\n",
       "      <td>-sp</td>\n",
       "      <td>426</td>\n",
       "      <td>4.309963e-48</td>\n",
       "      <td>4.059052e-48</td>\n",
       "      <td>language</td>\n",
       "    </tr>\n",
       "    <tr>\n",
       "      <th>40499</th>\n",
       "      <td>40499</td>\n",
       "      <td>-sp</td>\n",
       "      <td>426</td>\n",
       "      <td>1.078392e-55</td>\n",
       "      <td>4.847601e-56</td>\n",
       "      <td>language</td>\n",
       "    </tr>\n",
       "    <tr>\n",
       "      <th>40500</th>\n",
       "      <td>40500</td>\n",
       "      <td>-sp</td>\n",
       "      <td>426</td>\n",
       "      <td>1.559072e-55</td>\n",
       "      <td>7.307071e-56</td>\n",
       "      <td>language</td>\n",
       "    </tr>\n",
       "    <tr>\n",
       "      <th>40501</th>\n",
       "      <td>40501</td>\n",
       "      <td>-sp</td>\n",
       "      <td>426</td>\n",
       "      <td>3.165618e-52</td>\n",
       "      <td>2.419120e-52</td>\n",
       "      <td>language</td>\n",
       "    </tr>\n",
       "    <tr>\n",
       "      <th>40502</th>\n",
       "      <td>40502</td>\n",
       "      <td>-sp</td>\n",
       "      <td>426</td>\n",
       "      <td>2.703406e-52</td>\n",
       "      <td>2.043990e-52</td>\n",
       "      <td>language</td>\n",
       "    </tr>\n",
       "  </tbody>\n",
       "</table>\n",
       "<p>40503 rows × 6 columns</p>\n",
       "</div>"
      ],
      "text/plain": [
       "       Unnamed: 0   fe  subject          pval     pval_orig   network\n",
       "0               0  -lt       18  8.347298e-54  3.700926e-54  language\n",
       "1               1  -lt       18  1.634066e-51  1.055689e-51  language\n",
       "2               2  -lt       18  3.911878e-61  1.690677e-62  language\n",
       "3               3  -lt       18  1.452273e-45  1.309427e-45  language\n",
       "4               4  -lt       18  1.606048e-42  1.493553e-42  language\n",
       "...           ...  ...      ...           ...           ...       ...\n",
       "40498       40498  -sp      426  4.309963e-48  4.059052e-48  language\n",
       "40499       40499  -sp      426  1.078392e-55  4.847601e-56  language\n",
       "40500       40500  -sp      426  1.559072e-55  7.307071e-56  language\n",
       "40501       40501  -sp      426  3.165618e-52  2.419120e-52  language\n",
       "40502       40502  -sp      426  2.703406e-52  2.043990e-52  language\n",
       "\n",
       "[40503 rows x 6 columns]"
      ]
     },
     "execution_count": 12,
     "metadata": {},
     "output_type": "execute_result"
    }
   ],
   "source": [
    "df = pd.read_csv('/home2/ebrahim/beyond-brainscore/analyze_results/figures_code/figures_data/figure5/pvalues_pereira.csv')\n",
    "df"
   ]
  },
  {
   "cell_type": "code",
   "execution_count": 13,
   "metadata": {},
   "outputs": [
    {
     "name": "stdout",
     "output_type": "stream",
     "text": [
      "21 8.7%\n",
      "17 7.3%\n",
      "22 9.2%\n",
      "29 9.6%\n",
      "29 11%\n",
      "23 9.8%\n",
      "0 0%\n",
      "1.7 1.7%\n",
      "1.7 1.7%\n"
     ]
    }
   ],
   "source": [
    "compute_frac_sig(['-lt', '-mp', '-sp'], 'pereira',2)\n",
    "compute_frac_sig(['-lt', '-mp', '-sp'], 'fedorenko',2)\n",
    "compute_frac_sig(['-lt', '-mp', '-sp'], 'blank',2)"
   ]
  },
  {
   "cell_type": "code",
   "execution_count": 32,
   "metadata": {},
   "outputs": [
    {
     "name": "stdout",
     "output_type": "stream",
     "text": [
      "0.0447 0.0447%\n",
      "0.443 0.418%\n",
      "0.679 0.646%\n",
      "4.67 2.12%\n",
      "3.33 2.22%\n",
      "4.67 2.12%\n",
      "1.67 1.67%\n",
      "3.33 2.04%\n",
      "1.67 1.67%\n"
     ]
    }
   ],
   "source": [
    "compute_frac_sig(['-lt', '-mp', '-sp'], 'pereira', 4)\n",
    "compute_frac_sig(['-lt', '-mp', '-sp'], 'fedorenko', 4)\n",
    "compute_frac_sig(['-lt', '-mp', '-sp'], 'blank', 4)"
   ]
  },
  {
   "cell_type": "code",
   "execution_count": 33,
   "metadata": {},
   "outputs": [
    {
     "name": "stdout",
     "output_type": "stream",
     "text": [
      "0 0%\n",
      "0 0%\n",
      "0 0%\n",
      "0 0%\n",
      "0 0%\n",
      "0 0%\n",
      "0 0%\n",
      "0 0%\n",
      "0 0%\n"
     ]
    }
   ],
   "source": [
    "compute_frac_sig(['-lt', '-mp', '-sp'], 'pereira',5)\n",
    "compute_frac_sig(['-lt', '-mp', '-sp'], 'fedorenko',5)\n",
    "compute_frac_sig(['-lt', '-mp', '-sp'], 'blank',5)"
   ]
  },
  {
   "cell_type": "code",
   "execution_count": 21,
   "metadata": {},
   "outputs": [
    {
     "data": {
      "text/plain": [
       "8.347297570238016e-54"
      ]
     },
     "execution_count": 21,
     "metadata": {},
     "output_type": "execute_result"
    }
   ],
   "source": [
    "df = pd.read_csv('/home2/ebrahim/beyond-brainscore/analyze_results/figures_code/figures_data/figure5/pvalues_pereira.csv')\n",
    "df['pval'][0]"
   ]
  },
  {
   "cell_type": "code",
   "execution_count": 27,
   "metadata": {},
   "outputs": [
    {
     "data": {
      "text/plain": [
       "NpzFile '/data/LLMs/brainscore/results_pereira/shuffled/pereira_gpt2-xl_OASM_384_layer1_1000_384.npz' with keys: pnum, out_of_sample_r2, pearson_r"
      ]
     },
     "execution_count": 27,
     "metadata": {},
     "output_type": "execute_result"
    }
   ],
   "source": [
    "np.load('/data/LLMs/brainscore/results_pereira/shuffled/pereira_gpt2-xl_OASM_384_layer1_1000_384.npz')"
   ]
  },
  {
   "cell_type": "code",
   "execution_count": null,
   "metadata": {},
   "outputs": [],
   "source": []
  }
 ],
 "metadata": {
  "kernelspec": {
   "display_name": "llm_brain",
   "language": "python",
   "name": "python3"
  },
  "language_info": {
   "codemirror_mode": {
    "name": "ipython",
    "version": 3
   },
   "file_extension": ".py",
   "mimetype": "text/x-python",
   "name": "python",
   "nbconvert_exporter": "python",
   "pygments_lexer": "ipython3",
   "version": "3.11.4"
  },
  "orig_nbformat": 4
 },
 "nbformat": 4,
 "nbformat_minor": 2
}
