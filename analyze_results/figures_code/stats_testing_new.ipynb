{
 "cells": [
  {
   "cell_type": "code",
   "execution_count": 1,
   "metadata": {},
   "outputs": [],
   "source": [
    "import numpy as np\n",
    "from scipy.stats import ttest_rel\n",
    "import pandas as pd"
   ]
  },
  {
   "cell_type": "code",
   "execution_count": 2,
   "metadata": {},
   "outputs": [
    {
     "data": {
      "text/plain": [
       "{'pereira_shuffled_noL2custom_': 'OASM better: 0.0005829879526030354',\n",
       " 'pereira_shuffled_noL2custom_-mp': 'OASM better: 8.415461363884617e-06',\n",
       " 'pereira_shuffled_noL2custom_-sp': 'OASM better: 6.845450682602247e-06',\n",
       " 'pereira_shuffled_': 'OASM better: 0.0012114104713784794',\n",
       " 'pereira_shuffled_-mp': 'OASM better: 6.857022634777965e-05',\n",
       " 'pereira_shuffled_-sp': 'OASM better: 0.00025202230434096434',\n",
       " 'pereira_contig_noL2custom_': 'GPT2XL better: 0.0006467004109932069',\n",
       " 'pereira_contig_noL2custom_-mp': 'GPT2XL better: 0.000853685097633342',\n",
       " 'pereira_contig_noL2custom_-sp': 'GPT2XL better: 0.0009804389292874375',\n",
       " 'pereira_contig_': 'GPT2XL better: 0.0005507034926934181',\n",
       " 'pereira_contig_-mp': 'GPT2XL better: 0.00043633780032063205',\n",
       " 'pereira_contig_-sp': 'GPT2XL better: 0.000749761231008731',\n",
       " 'blank_shuffled_noL2custom_': 'OASM better: 4.080268110718511e-05',\n",
       " 'blank_shuffled_noL2custom_-mp': 'OASM better: 5.494779319878125e-05',\n",
       " 'blank_shuffled_noL2custom_-sp': 'OASM better: 4.099319566314164e-05',\n",
       " 'blank_shuffled_': 'OASM better: 2.3882156852822966e-05',\n",
       " 'blank_shuffled_-mp': 'OASM better: 8.085436478387584e-06',\n",
       " 'blank_shuffled_-sp': 'OASM better: 5.065788351032323e-06',\n",
       " 'blank_contig_noL2custom_': 'GPT2XL better: 0.042557786645799595',\n",
       " 'blank_contig_noL2custom_-mp': 'GPT2XL better: 0.028582309946293804',\n",
       " 'blank_contig_noL2custom_-sp': 'GPT2XL better: 0.06741694267645179',\n",
       " 'blank_contig_': 'GPT2XL better: 0.17666437357532813',\n",
       " 'blank_contig_-mp': 'GPT2XL better: 0.09541056450782429',\n",
       " 'blank_contig_-sp': 'GPT2XL better: 0.08370125187143239',\n",
       " 'fedorenko_shuffled_noL2custom_': 'OASM better: 0.17428984494389987',\n",
       " 'fedorenko_shuffled_noL2custom_-mp': 'OASM better: 0.14984064363760666',\n",
       " 'fedorenko_shuffled_noL2custom_-sp': 'OASM better: 0.08886418888874652',\n",
       " 'fedorenko_shuffled_': 'OASM better: 0.6055074461074732',\n",
       " 'fedorenko_shuffled_-mp': 'OASM better: 0.8667737263978292',\n",
       " 'fedorenko_shuffled_-sp': 'OASM better: 0.5213476743362989',\n",
       " 'fedorenko_contig_noL2custom_': 'GPT2XL better: 0.020910561747873906',\n",
       " 'fedorenko_contig_noL2custom_-mp': 'GPT2XL better: 0.03502934897938671',\n",
       " 'fedorenko_contig_noL2custom_-sp': 'GPT2XL better: 0.02277331666216007',\n",
       " 'fedorenko_contig_': 'GPT2XL better: 0.006192779292894172',\n",
       " 'fedorenko_contig_-mp': 'GPT2XL better: 0.005745648561518914',\n",
       " 'fedorenko_contig_-sp': 'GPT2XL better: 0.0064008918070520655'}"
      ]
     },
     "execution_count": 2,
     "metadata": {},
     "output_type": "execute_result"
    }
   ],
   "source": [
    "store_pvalues = {}\n",
    "for dataset in ['pereira', 'blank', 'fedorenko']:\n",
    "    for shuffle_str in ['shuffled', 'contig']:\n",
    "        for noL2_str in ['_noL2custom', '']:\n",
    "            results = pd.read_csv(f'/home2/ebrahim/beyond-brainscore/analyze_results/figures_code/figures_data/figure1/{dataset}_pearson_r{noL2_str}_{shuffle_str}.csv')\n",
    "            for fe in ['', '-mp', '-sp']:\n",
    "                results_gpt2xl = results.loc[results.Model==f'GPT2-XL{fe}']['perf'].to_numpy()\n",
    "                results_oasm = results.loc[results.Model=='OASM']['perf'].to_numpy()\n",
    "                result = ttest_rel(results_gpt2xl, results_oasm)\n",
    "                if np.mean(results_oasm) > np.mean(results_gpt2xl):\n",
    "                    store_pvalues[f\"{dataset}_{shuffle_str}{noL2_str}_{fe}\"] = f\"OASM better: {result.pvalue}\"\n",
    "                else:\n",
    "                    store_pvalues[f\"{dataset}_{shuffle_str}{noL2_str}_{fe}\"] = f\"GPT2XL better: {result.pvalue}\"\n",
    "store_pvalues"
   ]
  },
  {
   "cell_type": "code",
   "execution_count": 3,
   "metadata": {},
   "outputs": [
    {
     "data": {
      "text/plain": [
       "{'pereira_-lt': 'GPT2XL better: 0.004724223518335061',\n",
       " 'pereira_-mp': 'GPT2XL better: 0.13243890812810272',\n",
       " 'pereira_-sp': 'GPT2XL better: 0.014500470367014146',\n",
       " 'blank_-lt': 'Simple better: 0.013885040925368124',\n",
       " 'blank_-mp': 'Simple better: 0.00904289156248817',\n",
       " 'blank_-sp': 'Simple better: 0.01127266136623814',\n",
       " 'fedorenko_-lt': 'GPT2XL better: 0.7785868321863119',\n",
       " 'fedorenko_-mp': 'GPT2XL better: 0.5708588256662082',\n",
       " 'fedorenko_-sp': 'GPT2XL better: 0.520582845367957'}"
      ]
     },
     "execution_count": 3,
     "metadata": {},
     "output_type": "execute_result"
    }
   ],
   "source": [
    "store_pvalues = {}\n",
    "for dataset in ['pereira', 'blank', 'fedorenko']:\n",
    "    for fe in ['-lt', '-mp', '-sp']:\n",
    "        results = pd.read_csv(f'/home2/ebrahim/beyond-brainscore/analyze_results/figures_code/figures_data/figure4/{dataset}_pearson_r.csv')\n",
    "        results_gpt2xl = results.loc[results.Model==f'GPT2XL{fe}']['perf'].to_numpy()\n",
    "        results_simple = results.loc[results.Model=='Simple']['perf'].to_numpy()\n",
    "        result = ttest_rel(results_gpt2xl, results_simple)\n",
    "        \n",
    "                    \n",
    "        if np.mean(results_simple) > np.mean(results_gpt2xl):\n",
    "            store_pvalues[f\"{dataset}_{fe}\"] = f\"Simple better: {result.pvalue}\"\n",
    "        else:\n",
    "            store_pvalues[f\"{dataset}_{fe}\"] = f\"GPT2XL better: {result.pvalue}\"\n",
    "            \n",
    "store_pvalues\n",
    "    "
   ]
  },
  {
   "cell_type": "code",
   "execution_count": null,
   "metadata": {},
   "outputs": [],
   "source": [
    "store_pvalues = {}\n",
    "for dataset in ['pereira', 'blank', 'fedorenko']:\n",
    "    for fe in ['-lt', '-mp', '-sp']:\n",
    "        results = pd.read_csv(f'/home2/ebrahim/beyond-brainscore/analyze_results/figures_code/figures_data/figure5/{dataset}_pearson_r.csv')\n",
    "        results_gpt2xl = results.loc[results.Model==f'GPT2XL{fe}']['perf'].to_numpy()\n",
    "        results_simple = results.loc[results.Model=='Simple']['perf'].to_numpy()\n",
    "        result = ttest_rel(results_gpt2xl, results_simple)\n",
    "        \n",
    "                    \n",
    "        if np.mean(results_simple) > np.mean(results_gpt2xl):\n",
    "            store_pvalues[f\"{dataset}_{fe}\"] = f\"Simple better: {result.pvalue}\"\n",
    "        else:\n",
    "            store_pvalues[f\"{dataset}_{fe}\"] = f\"GPT2XL better: {result.pvalue}\"\n",
    "            \n",
    "store_pvalues"
   ]
  },
  {
   "cell_type": "code",
   "execution_count": 19,
   "metadata": {},
   "outputs": [],
   "source": [
    "def compute_frac_sig(feature_extraction_arr, dataset, figure_num):\n",
    "    \n",
    "    df = pd.read_csv(f'/home2/ebrahim/beyond-brainscore/analyze_results/figures_code/figures_data/figure{figure_num}/pvalues_{dataset}.csv')\n",
    "\n",
    "    for fe in feature_extraction_arr: \n",
    "        \n",
    "        df_fe = df.loc[df.fe==fe].copy()\n",
    "        df_fe['pval_sig'] = np.where(df_fe['pval']<0.05, 1, 0)\n",
    "        df_fe['pval_gpt2xl_sig'] = np.where(df_fe['pval_gpt2xl_sig']<0.05, 1, 0)\n",
    "        \n",
    "        \n",
    "        df_fe = df_fe.loc[df_fe['pval_gpt2xl_sig'] == 1]\n",
    "        \n",
    "        if df_fe.shape[0] == 0:\n",
    "            print(f\"No significant voxels/electrodes/fROIs for GPT2XL{fe} for {dataset}\")\n",
    "    \n",
    "        \n",
    "        #print(df_fe.groupby('subject')['pval_sig'].sum())\n",
    "\n",
    "        # Calculate the mean proportion of significant p-values per subject\n",
    "        subject_means = df_fe.groupby('subject')['pval_sig'].mean()\n",
    "        \n",
    "    \n",
    "        # Calculate the overall mean and standard error\n",
    "        overall_mean = subject_means.mean() * 100  # Convert to percentage\n",
    "        \n",
    "        std_error = (subject_means.std() / np.sqrt(len(subject_means))) * 100  # Convert to percentage\n",
    "\n",
    "        # Print the results with two significant digits\n",
    "        print(f\"{overall_mean:.3g} {std_error:.3g}%\")"
   ]
  },
  {
   "cell_type": "code",
   "execution_count": 20,
   "metadata": {},
   "outputs": [
    {
     "name": "stdout",
     "output_type": "stream",
     "text": [
      "(11173, 9)\n",
      "21.8 9.1%\n",
      "(10334, 9)\n",
      "18.8 7.94%\n",
      "(10499, 9)\n",
      "24.1 9.86%\n",
      "(52, 9)\n",
      "54.3 10.8%\n",
      "(52, 9)\n",
      "54.7 9.25%\n",
      "(56, 9)\n",
      "39.5 14.3%\n",
      "(2, 9)\n",
      "0 nan%\n",
      "(22, 9)\n",
      "0 0%\n",
      "(17, 9)\n",
      "0 0%\n"
     ]
    }
   ],
   "source": [
    "compute_frac_sig(['-lt', '-mp', '-sp'], 'pereira',2)\n",
    "compute_frac_sig(['-lt', '-mp', '-sp'], 'fedorenko',2)\n",
    "compute_frac_sig(['-lt', '-mp', '-sp'], 'blank',2)"
   ]
  },
  {
   "cell_type": "code",
   "execution_count": 21,
   "metadata": {},
   "outputs": [
    {
     "name": "stdout",
     "output_type": "stream",
     "text": [
      "(852, 8)\n",
      "0 0%\n",
      "(246, 8)\n",
      "10.7 10.7%\n",
      "(1116, 8)\n",
      "6.37 5.72%\n",
      "(47, 8)\n",
      "15.6 6.88%\n",
      "(43, 8)\n",
      "14.6 8.59%\n",
      "(48, 8)\n",
      "12.5 6.18%\n",
      "(0, 8)\n",
      "nan nan%\n",
      "(0, 8)\n",
      "nan nan%\n",
      "(0, 8)\n",
      "nan nan%\n"
     ]
    }
   ],
   "source": [
    "compute_frac_sig(['-lt', '-mp', '-sp'], 'pereira', 4)\n",
    "compute_frac_sig(['-lt', '-mp', '-sp'], 'fedorenko', 4)\n",
    "compute_frac_sig(['-lt', '-mp', '-sp'], 'blank', 4)"
   ]
  },
  {
   "cell_type": "code",
   "execution_count": 22,
   "metadata": {},
   "outputs": [
    {
     "ename": "KeyError",
     "evalue": "'pval_gpt2xl_sig'",
     "output_type": "error",
     "traceback": [
      "\u001b[0;31m---------------------------------------------------------------------------\u001b[0m",
      "\u001b[0;31mKeyError\u001b[0m                                  Traceback (most recent call last)",
      "File \u001b[0;32m~/miniconda3/envs/llm_brain/lib/python3.11/site-packages/pandas/core/indexes/base.py:3805\u001b[0m, in \u001b[0;36mIndex.get_loc\u001b[0;34m(self, key)\u001b[0m\n\u001b[1;32m   3804\u001b[0m \u001b[39mtry\u001b[39;00m:\n\u001b[0;32m-> 3805\u001b[0m     \u001b[39mreturn\u001b[39;00m \u001b[39mself\u001b[39;49m\u001b[39m.\u001b[39;49m_engine\u001b[39m.\u001b[39;49mget_loc(casted_key)\n\u001b[1;32m   3806\u001b[0m \u001b[39mexcept\u001b[39;00m \u001b[39mKeyError\u001b[39;00m \u001b[39mas\u001b[39;00m err:\n",
      "File \u001b[0;32mindex.pyx:167\u001b[0m, in \u001b[0;36mpandas._libs.index.IndexEngine.get_loc\u001b[0;34m()\u001b[0m\n",
      "File \u001b[0;32mindex.pyx:196\u001b[0m, in \u001b[0;36mpandas._libs.index.IndexEngine.get_loc\u001b[0;34m()\u001b[0m\n",
      "File \u001b[0;32mpandas/_libs/hashtable_class_helper.pxi:7081\u001b[0m, in \u001b[0;36mpandas._libs.hashtable.PyObjectHashTable.get_item\u001b[0;34m()\u001b[0m\n",
      "File \u001b[0;32mpandas/_libs/hashtable_class_helper.pxi:7089\u001b[0m, in \u001b[0;36mpandas._libs.hashtable.PyObjectHashTable.get_item\u001b[0;34m()\u001b[0m\n",
      "\u001b[0;31mKeyError\u001b[0m: 'pval_gpt2xl_sig'",
      "\nThe above exception was the direct cause of the following exception:\n",
      "\u001b[0;31mKeyError\u001b[0m                                  Traceback (most recent call last)",
      "Cell \u001b[0;32mIn[22], line 1\u001b[0m\n\u001b[0;32m----> 1\u001b[0m compute_frac_sig([\u001b[39m'\u001b[39;49m\u001b[39m-lt\u001b[39;49m\u001b[39m'\u001b[39;49m, \u001b[39m'\u001b[39;49m\u001b[39m-mp\u001b[39;49m\u001b[39m'\u001b[39;49m, \u001b[39m'\u001b[39;49m\u001b[39m-sp\u001b[39;49m\u001b[39m'\u001b[39;49m], \u001b[39m'\u001b[39;49m\u001b[39mpereira\u001b[39;49m\u001b[39m'\u001b[39;49m,\u001b[39m5\u001b[39;49m)\n\u001b[1;32m      2\u001b[0m compute_frac_sig([\u001b[39m'\u001b[39m\u001b[39m-lt\u001b[39m\u001b[39m'\u001b[39m, \u001b[39m'\u001b[39m\u001b[39m-mp\u001b[39m\u001b[39m'\u001b[39m, \u001b[39m'\u001b[39m\u001b[39m-sp\u001b[39m\u001b[39m'\u001b[39m], \u001b[39m'\u001b[39m\u001b[39mfedorenko\u001b[39m\u001b[39m'\u001b[39m,\u001b[39m5\u001b[39m)\n\u001b[1;32m      3\u001b[0m compute_frac_sig([\u001b[39m'\u001b[39m\u001b[39m-lt\u001b[39m\u001b[39m'\u001b[39m, \u001b[39m'\u001b[39m\u001b[39m-mp\u001b[39m\u001b[39m'\u001b[39m, \u001b[39m'\u001b[39m\u001b[39m-sp\u001b[39m\u001b[39m'\u001b[39m], \u001b[39m'\u001b[39m\u001b[39mblank\u001b[39m\u001b[39m'\u001b[39m,\u001b[39m5\u001b[39m)\n",
      "Cell \u001b[0;32mIn[19], line 9\u001b[0m, in \u001b[0;36mcompute_frac_sig\u001b[0;34m(feature_extraction_arr, dataset, figure_num)\u001b[0m\n\u001b[1;32m      7\u001b[0m df_fe \u001b[39m=\u001b[39m df\u001b[39m.\u001b[39mloc[df\u001b[39m.\u001b[39mfe\u001b[39m==\u001b[39mfe]\u001b[39m.\u001b[39mcopy()\n\u001b[1;32m      8\u001b[0m df_fe[\u001b[39m'\u001b[39m\u001b[39mpval_sig\u001b[39m\u001b[39m'\u001b[39m] \u001b[39m=\u001b[39m np\u001b[39m.\u001b[39mwhere(df_fe[\u001b[39m'\u001b[39m\u001b[39mpval\u001b[39m\u001b[39m'\u001b[39m]\u001b[39m<\u001b[39m\u001b[39m0.05\u001b[39m, \u001b[39m1\u001b[39m, \u001b[39m0\u001b[39m)\n\u001b[0;32m----> 9\u001b[0m df_fe[\u001b[39m'\u001b[39m\u001b[39mpval_gpt2xl_sig\u001b[39m\u001b[39m'\u001b[39m] \u001b[39m=\u001b[39m np\u001b[39m.\u001b[39mwhere(df_fe[\u001b[39m'\u001b[39;49m\u001b[39mpval_gpt2xl_sig\u001b[39;49m\u001b[39m'\u001b[39;49m]\u001b[39m<\u001b[39m\u001b[39m0.05\u001b[39m, \u001b[39m1\u001b[39m, \u001b[39m0\u001b[39m)\n\u001b[1;32m     12\u001b[0m df_fe \u001b[39m=\u001b[39m df_fe\u001b[39m.\u001b[39mloc[df_fe[\u001b[39m'\u001b[39m\u001b[39mpval_gpt2xl_sig\u001b[39m\u001b[39m'\u001b[39m] \u001b[39m==\u001b[39m \u001b[39m1\u001b[39m]\n\u001b[1;32m     14\u001b[0m \u001b[39mprint\u001b[39m(df_fe\u001b[39m.\u001b[39mshape)\n",
      "File \u001b[0;32m~/miniconda3/envs/llm_brain/lib/python3.11/site-packages/pandas/core/frame.py:4102\u001b[0m, in \u001b[0;36mDataFrame.__getitem__\u001b[0;34m(self, key)\u001b[0m\n\u001b[1;32m   4100\u001b[0m \u001b[39mif\u001b[39;00m \u001b[39mself\u001b[39m\u001b[39m.\u001b[39mcolumns\u001b[39m.\u001b[39mnlevels \u001b[39m>\u001b[39m \u001b[39m1\u001b[39m:\n\u001b[1;32m   4101\u001b[0m     \u001b[39mreturn\u001b[39;00m \u001b[39mself\u001b[39m\u001b[39m.\u001b[39m_getitem_multilevel(key)\n\u001b[0;32m-> 4102\u001b[0m indexer \u001b[39m=\u001b[39m \u001b[39mself\u001b[39;49m\u001b[39m.\u001b[39;49mcolumns\u001b[39m.\u001b[39;49mget_loc(key)\n\u001b[1;32m   4103\u001b[0m \u001b[39mif\u001b[39;00m is_integer(indexer):\n\u001b[1;32m   4104\u001b[0m     indexer \u001b[39m=\u001b[39m [indexer]\n",
      "File \u001b[0;32m~/miniconda3/envs/llm_brain/lib/python3.11/site-packages/pandas/core/indexes/base.py:3812\u001b[0m, in \u001b[0;36mIndex.get_loc\u001b[0;34m(self, key)\u001b[0m\n\u001b[1;32m   3807\u001b[0m     \u001b[39mif\u001b[39;00m \u001b[39misinstance\u001b[39m(casted_key, \u001b[39mslice\u001b[39m) \u001b[39mor\u001b[39;00m (\n\u001b[1;32m   3808\u001b[0m         \u001b[39misinstance\u001b[39m(casted_key, abc\u001b[39m.\u001b[39mIterable)\n\u001b[1;32m   3809\u001b[0m         \u001b[39mand\u001b[39;00m \u001b[39many\u001b[39m(\u001b[39misinstance\u001b[39m(x, \u001b[39mslice\u001b[39m) \u001b[39mfor\u001b[39;00m x \u001b[39min\u001b[39;00m casted_key)\n\u001b[1;32m   3810\u001b[0m     ):\n\u001b[1;32m   3811\u001b[0m         \u001b[39mraise\u001b[39;00m InvalidIndexError(key)\n\u001b[0;32m-> 3812\u001b[0m     \u001b[39mraise\u001b[39;00m \u001b[39mKeyError\u001b[39;00m(key) \u001b[39mfrom\u001b[39;00m \u001b[39merr\u001b[39;00m\n\u001b[1;32m   3813\u001b[0m \u001b[39mexcept\u001b[39;00m \u001b[39mTypeError\u001b[39;00m:\n\u001b[1;32m   3814\u001b[0m     \u001b[39m# If we have a listlike key, _check_indexing_error will raise\u001b[39;00m\n\u001b[1;32m   3815\u001b[0m     \u001b[39m#  InvalidIndexError. Otherwise we fall through and re-raise\u001b[39;00m\n\u001b[1;32m   3816\u001b[0m     \u001b[39m#  the TypeError.\u001b[39;00m\n\u001b[1;32m   3817\u001b[0m     \u001b[39mself\u001b[39m\u001b[39m.\u001b[39m_check_indexing_error(key)\n",
      "\u001b[0;31mKeyError\u001b[0m: 'pval_gpt2xl_sig'"
     ]
    }
   ],
   "source": [
    "compute_frac_sig(['-lt', '-mp', '-sp'], 'pereira',5)\n",
    "compute_frac_sig(['-lt', '-mp', '-sp'], 'fedorenko',5)\n",
    "compute_frac_sig(['-lt', '-mp', '-sp'], 'blank',5)"
   ]
  },
  {
   "cell_type": "code",
   "execution_count": null,
   "metadata": {},
   "outputs": [],
   "source": []
  }
 ],
 "metadata": {
  "kernelspec": {
   "display_name": "llm_brain",
   "language": "python",
   "name": "python3"
  },
  "language_info": {
   "codemirror_mode": {
    "name": "ipython",
    "version": 3
   },
   "file_extension": ".py",
   "mimetype": "text/x-python",
   "name": "python",
   "nbconvert_exporter": "python",
   "pygments_lexer": "ipython3",
   "version": "3.11.4"
  },
  "orig_nbformat": 4
 },
 "nbformat": 4,
 "nbformat_minor": 2
}
