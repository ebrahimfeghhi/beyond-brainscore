{
 "cells": [
  {
   "cell_type": "code",
   "execution_count": 31,
   "metadata": {},
   "outputs": [],
   "source": [
    "import numpy as np\n",
    "from scipy.stats import ttest_rel\n",
    "import pandas as pd"
   ]
  },
  {
   "cell_type": "code",
   "execution_count": 65,
   "metadata": {},
   "outputs": [],
   "source": [
    "def compute_frac_sig(feature_extraction_arr, dataset):\n",
    "    \n",
    "    df = pd.read_csv(f'/home2/ebrahim/beyond-brainscore/analyze_results/figures_code/figures_data/figure2/pvalues_{dataset}.csv')\n",
    "    \n",
    "\n",
    "    for fe in feature_extraction_arr: \n",
    "        \n",
    "        df_fe = df.loc[df.fe==fe].copy()\n",
    "        df_fe['pval_sig'] = np.where(df_fe['pval']<0.05, 1, 0)\n",
    "        \n",
    "        # Calculate the mean proportion of significant p-values per subject\n",
    "        subject_means = df_fe.groupby('subject')['pval_sig'].mean()\n",
    "\n",
    "        # Calculate the overall mean and standard error\n",
    "        overall_mean = subject_means.mean() * 100  # Convert to percentage\n",
    "        std_error = (subject_means.std() / np.sqrt(len(subject_means))) * 100  # Convert to percentage\n",
    "\n",
    "        # Print the results with two significant digits\n",
    "        print(f\"{overall_mean:.2g} {std_error:.2g}%\")"
   ]
  },
  {
   "cell_type": "code",
   "execution_count": 63,
   "metadata": {},
   "outputs": [
    {
     "name": "stdout",
     "output_type": "stream",
     "text": [
      "Mean: 21%, SE: 8.7%\n",
      "Mean: 18%, SE: 7.2%\n",
      "Mean: 23%, SE: 9.1%\n",
      "Mean: 40%, SE: 15%\n",
      "Mean: 50%, SE: 11%\n",
      "Mean: 39%, SE: 15%\n",
      "Mean: 0%, SE: 0%\n",
      "Mean: 1.7%, SE: 1.7%\n",
      "Mean: 1.7%, SE: 1.7%\n"
     ]
    }
   ],
   "source": [
    "compute_frac_sig(['-lt', '-mp', '-sp'], 'pereira')\n",
    "compute_frac_sig(['-lt', '-mp', '-sp'], 'fedorenko')\n",
    "compute_frac_sig(['-lt', '-mp', '-sp'], 'blank')"
   ]
  },
  {
   "cell_type": "code",
   "execution_count": 59,
   "metadata": {},
   "outputs": [],
   "source": [
    "datasets = ['pereira', 'fedorenko', 'blank']"
   ]
  },
  {
   "cell_type": "code",
   "execution_count": 27,
   "metadata": {},
   "outputs": [
    {
     "data": {
      "text/plain": [
       "NpzFile '/data/LLMs/brainscore/results_pereira/shuffled/pereira_gpt2-xl_OASM_384_layer1_1000_384.npz' with keys: pnum, out_of_sample_r2, pearson_r"
      ]
     },
     "execution_count": 27,
     "metadata": {},
     "output_type": "execute_result"
    }
   ],
   "source": [
    "np.load('/data/LLMs/brainscore/results_pereira/shuffled/pereira_gpt2-xl_OASM_384_layer1_1000_384.npz')"
   ]
  },
  {
   "cell_type": "code",
   "execution_count": null,
   "metadata": {},
   "outputs": [],
   "source": []
  }
 ],
 "metadata": {
  "kernelspec": {
   "display_name": "llm_brain",
   "language": "python",
   "name": "python3"
  },
  "language_info": {
   "codemirror_mode": {
    "name": "ipython",
    "version": 3
   },
   "file_extension": ".py",
   "mimetype": "text/x-python",
   "name": "python",
   "nbconvert_exporter": "python",
   "pygments_lexer": "ipython3",
   "version": "3.11.4"
  },
  "orig_nbformat": 4
 },
 "nbformat": 4,
 "nbformat_minor": 2
}
