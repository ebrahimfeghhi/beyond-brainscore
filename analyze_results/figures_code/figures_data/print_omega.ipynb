{
 "cells": [
  {
   "cell_type": "code",
   "execution_count": 9,
   "metadata": {},
   "outputs": [],
   "source": [
    "import numpy as np"
   ]
  },
  {
   "cell_type": "code",
   "execution_count": 10,
   "metadata": {},
   "outputs": [],
   "source": [
    "omega_oasm = np.load('oasm_omega_values.npz')"
   ]
  },
  {
   "cell_type": "code",
   "execution_count": 11,
   "metadata": {},
   "outputs": [
    {
     "name": "stdout",
     "output_type": "stream",
     "text": [
      "('pereira_', array([85.7403924 ,  3.43634797]))\n",
      "('pereira_-mp', array([82.33728853,  3.97758623]))\n",
      "('pereira_-sp', array([79.24084655,  4.33563489]))\n",
      "('blank_', array([100.,   0.]))\n",
      "('blank_-mp', array([98.87910777,  1.00255649]))\n",
      "('blank_-sp', array([99.66598895,  0.29874857]))\n",
      "('fedorenko_', array([54.29732279,  4.16830873]))\n",
      "('fedorenko_-mp', array([52.14028637,  3.87560034]))\n",
      "('fedorenko_-sp', array([53.97739334,  4.39642467]))\n"
     ]
    }
   ],
   "source": [
    "for item in omega_oasm.items():\n",
    "    print(item)"
   ]
  },
  {
   "cell_type": "code",
   "execution_count": 14,
   "metadata": {},
   "outputs": [],
   "source": [
    "omega_untrained = np.load('untrained_omega_values.npz')"
   ]
  },
  {
   "cell_type": "code",
   "execution_count": 15,
   "metadata": {},
   "outputs": [
    {
     "name": "stdout",
     "output_type": "stream",
     "text": [
      "('pereira_', array([99.40200139,  0.5673113 ]))\n",
      "('pereira_-mp', array([87.05984767,  4.69724534]))\n",
      "('pereira_-sp', array([91.20626119,  4.33134378]))\n",
      "('fedorenko_', array([98.10891078,  1.39491852]))\n",
      "('fedorenko_-mp', array([97.80805031,  1.48805288]))\n",
      "('fedorenko_-sp', array([99.0926625 ,  0.81154733]))\n"
     ]
    }
   ],
   "source": [
    "for item in omega_untrained.items():\n",
    "    print(item)"
   ]
  },
  {
   "cell_type": "code",
   "execution_count": null,
   "metadata": {},
   "outputs": [],
   "source": []
  }
 ],
 "metadata": {
  "kernelspec": {
   "display_name": "llm_brain",
   "language": "python",
   "name": "python3"
  },
  "language_info": {
   "codemirror_mode": {
    "name": "ipython",
    "version": 3
   },
   "file_extension": ".py",
   "mimetype": "text/x-python",
   "name": "python",
   "nbconvert_exporter": "python",
   "pygments_lexer": "ipython3",
   "version": "3.11.4"
  },
  "orig_nbformat": 4
 },
 "nbformat": 4,
 "nbformat_minor": 2
}
