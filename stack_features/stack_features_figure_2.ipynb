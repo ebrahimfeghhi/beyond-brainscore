{
 "cells": [
  {
   "cell_type": "code",
   "execution_count": 1,
   "metadata": {},
   "outputs": [],
   "source": [
    "import numpy as np\n",
    "import sys\n",
    "sys.path.append('analyze_results/figures_code/')"
   ]
  },
  {
   "cell_type": "code",
   "execution_count": 2,
   "metadata": {},
   "outputs": [],
   "source": [
    "feature_extraction = ['', '-mp', '-sp']"
   ]
  },
  {
   "cell_type": "code",
   "execution_count": 3,
   "metadata": {},
   "outputs": [],
   "source": [
    "best_sigma_dict = np.load('/home2/ebrahim/beyond-brainscore/analyze_results/figures_code/best_layer_sigma_info/best_sigma.npz')\n",
    "best_gpt2xl_layer_dict = np.load('/home2/ebrahim/beyond-brainscore/analyze_results/figures_code/best_layer_sigma_info/best_gpt2xl_layer.npz')\n",
    "best_gaussian_dict =  np.load('/home2/ebrahim/beyond-brainscore/analyze_results/figures_code/best_layer_sigma_info/best_gaussian.npz')"
   ]
  },
  {
   "cell_type": "code",
   "execution_count": 18,
   "metadata": {},
   "outputs": [
    {
     "name": "stdout",
     "output_type": "stream",
     "text": [
      "(627, 1600)\n",
      "(627, 1600)\n",
      "(627, 1600)\n",
      "(627, 1600)\n",
      "(627, 1600)\n",
      "(627, 1600)\n",
      "(627, 1600)\n",
      "(627, 1600)\n"
     ]
    }
   ],
   "source": [
    "datasets = ['pereira']\n",
    "for d in datasets:\n",
    "    \n",
    "    if d == 'pereira':\n",
    "        exp = ['_384', '_243']\n",
    "    else:\n",
    "        exp = ['']\n",
    "        \n",
    "    for e in exp:\n",
    "        \n",
    "        best_sigma_value = str(best_sigma_dict[f'{d}{e}_out_of_sample_r2_shuffled'])\n",
    "        OASM_acts = np.load(f'/data/LLMs/data_processed/{d}/acts/X_OASM-all-sigma.npz')\n",
    "        OASM_best_sigma = OASM_acts[best_sigma_value]\n",
    "        best_gaussian_value = best_gaussian_dict[f'{d}{e}']\n",
    "        gaussian_model = np.load(f'/data/LLMs/data_processed/{d}/acts/X_gaussian.npz')[f'layer_{best_gaussian_value}']\n",
    "        \n",
    "        print(gaussian_model.shape)\n",
    "        \n",
    "        for fe in feature_extraction:\n",
    "            \n",
    "            gpt2xl_pereira = np.load(f'/data/LLMs/data_processed/{d}/acts/X_gpt2-xl{fe}.npz')\n",
    "            \n",
    "            best_gpt2xl_layer = best_gpt2xl_layer_dict[f'{d}{e}_out_of_sample_r2_shuffled{fe}']\n",
    "        \n",
    "            gpt2xl_best_layer_acts =  gpt2xl_pereira[f\"layer_{best_gpt2xl_layer}\"]\n",
    "            \n",
    "            print(gpt2xl_best_layer_acts.shape)\n",
    "            \n",
    "            gpt2xl_OASM_stacked = np.hstack((gpt2xl_best_layer_acts, OASM_best_sigma))\n",
    "            \n",
    "            gaussian_OASM_stacked = np.hstack((gaussian_model, OASM_best_sigma))\n",
    "            \n",
    "            np.savez(f'/data/LLMs/data_processed/{d}/acts/X_gpt2-xl{fe}_OASM{e}', **{'layer1': gpt2xl_OASM_stacked})\n",
    "            np.savez(f'/data/LLMs/data_processed/{d}/acts/X_gaussian_OASM{e}', **{'layer1': gaussian_OASM_stacked})"
   ]
  },
  {
   "cell_type": "code",
   "execution_count": 23,
   "metadata": {},
   "outputs": [
    {
     "data": {
      "text/plain": [
       "(array([  6.,  41., 109., 240., 359., 371., 285., 140.,  40.,   9.]),\n",
       " array([-3.19613168, -2.57115111, -1.94617053, -1.32118996, -0.69620939,\n",
       "        -0.07122881,  0.55375176,  1.17873234,  1.80371291,  2.42869349,\n",
       "         3.05367406]),\n",
       " <BarContainer object of 10 artists>)"
      ]
     },
     "execution_count": 23,
     "metadata": {},
     "output_type": "execute_result"
    },
    {
     "data": {
      "image/png": "[encoded data removed]",
      "text/plain": [
       "<Figure size 640x480 with 1 Axes>"
      ]
     },
     "metadata": {},
     "output_type": "display_data"
    }
   ],
   "source": [
    "from matplotlib import pyplot as plt\n",
    "plt.hist(gaussian_model[0])"
   ]
  },
  {
   "cell_type": "code",
   "execution_count": 16,
   "metadata": {},
   "outputs": [
    {
     "data": {
      "text/plain": [
       "(627, 2227)"
      ]
     },
     "execution_count": 16,
     "metadata": {},
     "output_type": "execute_result"
    }
   ],
   "source": [
    "np.load(f'/data/LLMs/data_processed/{d}/acts/X_gaussian_OASM{e}.npz')['layer1'].shape"
   ]
  },
  {
   "cell_type": "code",
   "execution_count": 12,
   "metadata": {},
   "outputs": [
    {
     "name": "stdout",
     "output_type": "stream",
     "text": [
      "0.011170632 GB\n"
     ]
    }
   ],
   "source": [
    "print(gpt2xl_OASM_stacked.nbytes / 1e9, \"GB\")"
   ]
  },
  {
   "cell_type": "code",
   "execution_count": null,
   "metadata": {},
   "outputs": [],
   "source": []
  }
 ],
 "metadata": {
  "kernelspec": {
   "display_name": "llm_brain",
   "language": "python",
   "name": "python3"
  },
  "language_info": {
   "codemirror_mode": {
    "name": "ipython",
    "version": 3
   },
   "file_extension": ".py",
   "mimetype": "text/x-python",
   "name": "python",
   "nbconvert_exporter": "python",
   "pygments_lexer": "ipython3",
   "version": "3.11.4"
  },
  "orig_nbformat": 4
 },
 "nbformat": 4,
 "nbformat_minor": 2
}
