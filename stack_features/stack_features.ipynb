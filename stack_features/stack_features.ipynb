{
 "cells": [
  {
   "cell_type": "code",
   "execution_count": 1,
   "metadata": {},
   "outputs": [],
   "source": [
    "import numpy as np\n",
    "import sys\n",
    "sys.path.append('analyze_results/figures_code/')"
   ]
  },
  {
   "cell_type": "code",
   "execution_count": 2,
   "metadata": {},
   "outputs": [],
   "source": [
    "feature_extraction = ['', '-mp', '-sp']"
   ]
  },
  {
   "cell_type": "code",
   "execution_count": 3,
   "metadata": {},
   "outputs": [],
   "source": [
    "best_sigma_dict = np.load('/home2/ebrahim/beyond-brainscore/analyze_results/figures_code/best_layer_sigma_info/best_sigma.npz')\n",
    "best_gpt2xl_layer_dict = np.load('/home2/ebrahim/beyond-brainscore/analyze_results/figures_code/best_layer_sigma_info/best_gpt2xl_layer.npz')"
   ]
  },
  {
   "cell_type": "code",
   "execution_count": 6,
   "metadata": {},
   "outputs": [
    {
     "name": "stdout",
     "output_type": "stream",
     "text": [
      "(627, 2227)\n",
      "(627, 2227)\n",
      "(627, 2227)\n",
      "(627, 2227)\n",
      "(627, 2227)\n",
      "(627, 2227)\n",
      "(416, 2016)\n",
      "(416, 2016)\n",
      "(416, 2016)\n",
      "(1317, 2917)\n",
      "(1317, 2917)\n",
      "(1317, 2917)\n"
     ]
    }
   ],
   "source": [
    "datasets = ['pereira', 'fedorenko', 'blank']\n",
    "for d in datasets:\n",
    "    \n",
    "    if d == 'pereira':\n",
    "        exp = ['_384', '_243']\n",
    "    else:\n",
    "        exp = ['']\n",
    "        \n",
    "    for e in exp:\n",
    "        \n",
    "        best_sigma_value = str(best_sigma_dict[f'{d}{e}_out_of_sample_r2_shuffled_ridge'])\n",
    "        OASM_acts = np.load(f'/data/LLMs/data_processed/{d}/acts/X_OASM-all-sigma.npz')\n",
    "        OASM_best_sigma = OASM_acts[best_sigma_value]\n",
    "\n",
    "        for fe in feature_extraction:\n",
    "            \n",
    "            gpt2xl_pereira = np.load(f'/data/LLMs/data_processed/{d}/acts/X_gpt2-xl{fe}.npz')\n",
    "            \n",
    "            best_gpt2xl_layer = best_gpt2xl_layer_dict[f'{d}{e}_out_of_sample_r2_shuffled_ridge{fe}']\n",
    "        \n",
    "            gpt2xl_best_layer_acts =  gpt2xl_pereira[f\"layer_{best_gpt2xl_layer}\"]\n",
    "            \n",
    "            gpt2xl_OASM_stacked = np.hstack((gpt2xl_best_layer_acts, OASM_best_sigma))\n",
    "            \n",
    "            print(gpt2xl_OASM_stacked.shape)\n",
    "    \n",
    "            np.savez(f'/data/LLMs/data_processed/{d}/acts/X_gpt2-xl{fe}_OASM', **{'layer1': gpt2xl_OASM_stacked})\n"
   ]
  },
  {
   "cell_type": "code",
   "execution_count": null,
   "metadata": {},
   "outputs": [],
   "source": []
  },
  {
   "cell_type": "code",
   "execution_count": 27,
   "metadata": {},
   "outputs": [
    {
     "name": "stdout",
     "output_type": "stream",
     "text": [
      "X_glove-mp_positional+WN (627, 305)\n",
      "X_glove-sp_positional+WN (627, 305)\n",
      "X_glove-mp_positional+WN (627, 305)\n",
      "X_glove-sp_positional+WN (627, 305)\n"
     ]
    }
   ],
   "source": [
    "datasets = ['pereira', 'fedorenko']\n",
    "\n",
    "pereira_simple_model = np.load(\"/data/LLMs/data_processed/pereira/acts/X_positional_WN.npz\")['layer1']\n",
    "fedorenko_simple_model = np.load(\"/data/LLMs/data_processed/fedorenko/acts/X_soft+grow.npz\")['layer1']\n",
    "\n",
    "feature_extraction = ['-mp', '-sp']\n",
    "for d in datasets:\n",
    "    \n",
    "    if d == 'pereira':\n",
    "        exp = ['_384', '_243']\n",
    "    else:\n",
    "        exp = ['']\n",
    "        \n",
    "    for e in exp:\n",
    "            \n",
    "        for fe in feature_extraction:\n",
    "        \n",
    "            gpt2xl_pereira = np.load(f'/data/LLMs/data_processed/{d}/acts/X_gpt2-xl{fe}.npz')\n",
    "            best_gpt2xl_layer = best_gpt2xl_layer_dict[f'{d}{e}_out_of_sample_r2_shuffled{fe}']\n",
    "            \n",
    "            glove_acts = np.load(f'/data/LLMs/data_processed/{d}/acts/X_glove{fe}.npz')['layer_0']\n",
    "        \n",
    "            gpt2xl_best_layer_acts =  gpt2xl_pereira[f\"layer_{best_gpt2xl_layer}\"]\n",
    "\n",
    "            if d == 'pereira':\n",
    "                gpt2xl_simple_model = np.hstack((gpt2xl_best_layer_acts, pereira_simple_model))\n",
    "                glove_simple_model = np.hstack((glove_acts, pereira_simple_model))\n",
    "                np.savez(f'/data/LLMs/data_processed/{d}/acts/X_gpt2-xl{fe}_positional+WN', **{'layer1': gpt2xl_simple_model})\n",
    "                print(f\"X_glove{fe}_positional+WN\", glove_simple_model.shape)\n",
    "                np.savez(f'/data/LLMs/data_processed/{d}/acts/X_glove{fe}_positional+WN', **{'layer1': glove_simple_model})\n",
    "                \n",
    "            if d == 'fedorenko':\n",
    "                gpt2xl_simple_model = np.hstack((gpt2xl_best_layer_acts, fedorenko_simple_model))\n",
    "                np.savez(f'/data/LLMs/data_processed/{d}/acts/X_gpt2-xl{fe}_soft+grow', **{'layer1': gpt2xl_simple_model})\n",
    "                "
   ]
  },
  {
   "cell_type": "code",
   "execution_count": null,
   "metadata": {},
   "outputs": [],
   "source": []
  }
 ],
 "metadata": {
  "kernelspec": {
   "display_name": "llm_brain",
   "language": "python",
   "name": "python3"
  },
  "language_info": {
   "codemirror_mode": {
    "name": "ipython",
    "version": 3
   },
   "file_extension": ".py",
   "mimetype": "text/x-python",
   "name": "python",
   "nbconvert_exporter": "python",
   "pygments_lexer": "ipython3",
   "version": "3.11.4"
  },
  "orig_nbformat": 4
 },
 "nbformat": 4,
 "nbformat_minor": 2
}
