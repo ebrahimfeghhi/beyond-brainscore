{
 "cells": [
  {
   "cell_type": "code",
   "execution_count": 1,
   "metadata": {},
   "outputs": [],
   "source": [
    "import sys\n",
    "sys.path.append('/home2/ebrahim/beyond-brainscore/analyze_results/figures_code/')\n",
    "from trained_untrained_results_funcs import find_best_layer,load_mean_sem_perf, loop_through_datasets\n",
    "import numpy as np\n",
    "from matplotlib import pyplot as plt\n"
   ]
  },
  {
   "cell_type": "code",
   "execution_count": 2,
   "metadata": {},
   "outputs": [],
   "source": [
    "exp = ['243', '384']\n",
    "\n",
    "br_labels_dict = {}\n",
    "num_vox_dict = {}\n",
    "subjects_dict = {}\n",
    "\n",
    "data_processed_folder_pereira = f'/data/LLMs/data_processed/pereira/dataset'\n",
    "data_processed_folder_fed = f'/data/LLMs/data_processed/fedorenko/dataset'\n",
    "data_processed_folder_blank = f'/data/LLMs/data_processed/blank/dataset'\n",
    "\n",
    "subjects_storage = {}\n",
    "network_labels_storage = {}\n",
    "lang_indices = {}\n",
    "\n",
    "for e in exp:\n",
    "\n",
    "    bre = np.load(f'{data_processed_folder_pereira}/networks_{e}.npy', allow_pickle=True)\n",
    "    network_labels_storage[f\"pereira{e}\"]  = bre.squeeze()\n",
    "    num_vox_dict[e] = bre.shape[0]\n",
    "    subjects_storage[f\"pereira{e}\"] = np.load(f\"{data_processed_folder_pereira}/subjects_{e}.npy\", allow_pickle=True).squeeze()\n",
    "    lang_indices[e] = np.argwhere(bre=='language').squeeze()\n",
    "\n",
    "subjects_storage['fedorenko']  = np.load(f\"{data_processed_folder_fed}/subjects.npy\", allow_pickle=True)\n",
    "subjects_storage['blank'] = np.load(f\"{data_processed_folder_blank}/subjects.npy\", allow_pickle=True)\n",
    "\n",
    "network_labels_storage['fedorenko'] = None\n",
    "network_labels_storage['blank'] = None\n",
    "\n",
    "subjects_arr_pereira = np.load(f\"{data_processed_folder_pereira}/subjects_complete.npy\", allow_pickle=True)\n",
    "networks_arr_pereira = np.load(f\"{data_processed_folder_pereira}/network_complete.npy\", allow_pickle=True)\n",
    "\n",
    "resultsPath_base = '/data/LLMs/brainscore/'\n",
    "                    "
   ]
  },
  {
   "attachments": {},
   "cell_type": "markdown",
   "metadata": {},
   "source": [
    "### For GPT2 and OASM, the best layer is found in the figure1.py file and saved into a dictionary for future use\n",
    "### For the Pereira2018 PWR model, there is no selection of layers."
   ]
  },
  {
   "cell_type": "code",
   "execution_count": 17,
   "metadata": {},
   "outputs": [
    {
     "name": "stdout",
     "output_type": "stream",
     "text": [
      "pereira _243\n",
      "0.016240908388800095 0.0028673114162520307\n",
      "pereira _384\n",
      "0.010924025079621973 0.01246861708365666\n",
      "fedorenko \n",
      "0.02748019368014525 0.026349217245011974\n",
      "blank \n",
      "-0.0010923773725976748 -0.0010197856989986116\n"
     ]
    }
   ],
   "source": [
    "for d, fe, exp, subjects, network in loop_through_datasets(['pereira', 'fedorenko', 'blank'], ['']):\n",
    "\n",
    "  \n",
    "    if d == 'pereira':\n",
    "        lang_indices = np.argwhere(network=='language').squeeze()\n",
    "    else:\n",
    "        lang_indices = None\n",
    "        \n",
    "    e = exp.strip('_')\n",
    "    layer_perf_dict_blank_glove_sp, _, _  = find_best_layer([0], '', exp=exp, resultsPath=f'/data/LLMs/brainscore/results_{d}/', \n",
    "                                                                        subjects=subjects_storage[f'{d}{e}'], dataset=d, perf='out_of_sample_r2', \n",
    "                        selected_network_indices = lang_indices, feature_extraction = '', model_name='glove-sp', seed_number=None, \n",
    "                        return_SE=False, niter=1)\n",
    "\n",
    "    layer_perf_dict_blank_glove_mp, _, _ = find_best_layer([0], '', exp=exp, resultsPath=f'/data/LLMs/brainscore/results_{d}/', \n",
    "                                                                        subjects=subjects_storage[f'{d}{e}'], dataset=f'{d}', perf='out_of_sample_r2', \n",
    "                        selected_network_indices = lang_indices, feature_extraction = '', model_name='glove-mp', seed_number=None, \n",
    "                        return_SE=False, niter=1)\n",
    "\n",
    "    print(d, exp)\n",
    "    print(layer_perf_dict_blank_glove_sp[0], layer_perf_dict_blank_glove_mp[0])"
   ]
  },
  {
   "cell_type": "code",
   "execution_count": 6,
   "metadata": {},
   "outputs": [
    {
     "name": "stdout",
     "output_type": "stream",
     "text": [
      "Best layer Blank simple feature space:  12\n"
     ]
    }
   ],
   "source": [
    "layer_perf_dict, best_layer_blank, layer_perf_best  = find_best_layer(np.arange(3,51), '', '', resultsPath='/data/LLMs/brainscore/results_blank/', subjects=subjects_storage['blank'], dataset='blank', perf='pearson_r', \n",
    "                    selected_network_indices = None, feature_extraction = '', model_name='pos-WN', seed_number=None, \n",
    "                    return_SE=False, niter=1)\n",
    "\n",
    "print(\"Best layer Blank simple feature space: \", best_layer_blank)"
   ]
  },
  {
   "cell_type": "code",
   "execution_count": 52,
   "metadata": {},
   "outputs": [
    {
     "name": "stdout",
     "output_type": "stream",
     "text": [
      "Best layer Fed feature space:  4.7\n"
     ]
    },
    {
     "data": {
      "image/png": "[encoded data removed]",
      "text/plain": [
       "<Figure size 640x480 with 1 Axes>"
      ]
     },
     "metadata": {},
     "output_type": "display_data"
    }
   ],
   "source": [
    "# Due to an indexing error, layer 4.6 was accidently used for Fed, but as is evident from the bar plot \n",
    "# the difference in performance is very small so computations were not rerun with layer 4.7\n",
    "layer_perf_pos_fed = []\n",
    "for i in np.round(np.arange(0, 4.8, 0.1),2):\n",
    "    perf_mean = load_mean_sem_perf('pos', 'fedorenko', '', i, niter=1, return_mean=True, print_res=False)\n",
    "    layer_perf_pos_fed.append(perf_mean)\n",
    "\n",
    "plt.bar(np.arange(len(layer_perf_pos_fed)), layer_perf_pos_fed)\n",
    "print(\"Best layer Fed feature space: \", np.round(np.arange(0, 4.8, 0.1),2)[np.argmax(layer_perf_pos_fed)])"
   ]
  },
  {
   "cell_type": "code",
   "execution_count": 9,
   "metadata": {},
   "outputs": [],
   "source": [
    "import pandas as pd\n",
    "\n",
    "\n",
    "def load_perf(filepath, perf, clip_zero=False, return_SE=False, shape_pereira_full=None, non_nan_indices_dict=None, exp='', dataset=None):\n",
    "    \n",
    "    perf_arr = np.nan_to_num(np.load(filepath)[perf])\n",
    "    \n",
    "    if clip_zero:\n",
    "        return np.clip(perf_arr, 0, np.inf)\n",
    "    \n",
    "    if return_SE:\n",
    "        \n",
    "        se = compute_squared_error(np.load(filepath)['y_hat'], dataset, exp)\n",
    "        \n",
    "        if len(exp)>0:\n",
    "            \n",
    "            exp = exp.strip('_')\n",
    "            \n",
    "            se_full = np.full(shape_pereira_full, fill_value=np.nan)\n",
    "            \n",
    "            if '243' in exp:\n",
    "                se_full[:243, non_nan_indices_dict[exp]] = se\n",
    "                \n",
    "            else:\n",
    "                se_full[243:, non_nan_indices_dict[exp]] = se\n",
    "                \n",
    "            return perf_arr, se_full\n",
    "                \n",
    "        else:\n",
    "            \n",
    "            return perf_arr, se\n",
    "    \n",
    "    return perf_arr\n",
    "    \n",
    "def load_mean_sem_perf(model_name, dataset, feature_extraction, layer_num, \n",
    "                       resultsPath='/data/LLMs/brainscore/', seed_str='', noL2_str='', niter=1, perf='out_of_sample_r2', median=False, \n",
    "                       var_par_naming=False, return_perf=False, return_mean=False, print_res=True, clip_res=True, shuffled=False):\n",
    "\n",
    "   if dataset == 'pereira':\n",
    "      subjects_perf_pd = {'perf': [], 'subjects': [], 'Exp': []}\n",
    "   else:\n",
    "      subjects_perf_pd = {'perf': [], 'subjects': []}\n",
    "      \n",
    "   if shuffled: \n",
    "       shuffled_str = 'shuffled/'\n",
    "   else:\n",
    "       shuffled_str = ''\n",
    "\n",
    "   for d, fe, exp, subjects, network in loop_through_datasets([dataset], [feature_extraction]):\n",
    "\n",
    "      lang_indices = np.argwhere(network=='language')\n",
    "\n",
    "      if var_par_naming:\n",
    "         model_name_replaced= model_name.replace('EXP', exp)\n",
    "         layer_perf = load_perf(f'{resultsPath}/results_{dataset}/{shuffled_str}{dataset}_{model_name_replaced}{feature_extraction}{seed_str}_{niter}{noL2_str}{exp}.npz', perf, clip_zero=clip_res)\n",
    "      else:\n",
    "         layer_perf = load_perf(f'{resultsPath}/results_{dataset}/{shuffled_str}{dataset}_{model_name}{feature_extraction}{seed_str}_{layer_num}_{niter}{noL2_str}{exp}.npz', perf, clip_zero=clip_res)\n",
    "\n",
    "      subjects_perf_pd['perf'].extend(layer_perf[lang_indices].squeeze())\n",
    "      subjects_perf_pd['subjects'].extend(subjects[lang_indices].squeeze())\n",
    "\n",
    "      if len(exp) > 0:\n",
    "         subjects_perf_pd['Exp'].extend(np.repeat(exp, len(lang_indices)))\n",
    "\n",
    "   subjects_perf_pd = pd.DataFrame(subjects_perf_pd)\n",
    "      \n",
    "   if median:\n",
    "      if dataset == 'pereira':\n",
    "            subject_avg_pd = subjects_perf_pd.groupby(['subjects', 'Exp']).median()\n",
    "            subject_avg_pd = subject_avg_pd.groupby(['subjects']).mean() # mean across experiments \n",
    "      else:\n",
    "            subject_avg_pd = subjects_perf_pd.groupby(['subjects']).median()\n",
    "      \n",
    "   else:\n",
    "      if dataset == 'pereira':\n",
    "            subject_avg_pd = subjects_perf_pd.groupby(['subjects', 'Exp']).mean()\n",
    "            subject_avg_pd = subject_avg_pd.groupby(['subjects']).mean() # mean across experiments \n",
    "      else:\n",
    "            subject_avg_pd = subjects_perf_pd.groupby(['subjects']).mean()\n",
    "            \n",
    "   \n",
    "   if print_res:\n",
    "      print(model_name, f\"{float(subject_avg_pd.mean().iloc[0]):.2g}\", f\"{float(subject_avg_pd.std().iloc[0] / np.sqrt(len(subject_avg_pd))):.2g}\")\n",
    "\n",
    "   if return_perf:\n",
    "      if dataset == 'pereira':\n",
    "         subjects_perf_384 = subjects_perf_pd.loc[subjects_perf_pd['Exp']=='_384']['perf']\n",
    "         subjects_perf_243 = subjects_perf_pd.loc[subjects_perf_pd['Exp']=='_243']['perf']\n",
    "         return subjects_perf_384, subjects_perf_243\n",
    "      else:\n",
    "         return subjects_perf_pd['perf']\n",
    "   \n",
    "   if return_mean:\n",
    "      return float(subject_avg_pd.mean().iloc[0])\n"
   ]
  },
  {
   "cell_type": "code",
   "execution_count": 16,
   "metadata": {},
   "outputs": [
    {
     "name": "stdout",
     "output_type": "stream",
     "text": [
      "Best layer Fed feature space:  0.1\n"
     ]
    },
    {
     "data": {
      "image/png": "[encoded data removed]",
      "text/plain": [
       "<Figure size 640x480 with 1 Axes>"
      ]
     },
     "metadata": {},
     "output_type": "display_data"
    }
   ],
   "source": [
    "layer_perf_pos_fed = []\n",
    "for i in np.round(np.arange(0.1, 4.8, 0.1),2):\n",
    "    perf_mean = load_mean_sem_perf('OASM-all-sigma', 'pereira', '', i, niter=1, return_mean=True, print_res=False, shuffled=True, perf='pearson_r', clip_res=False)\n",
    "    layer_perf_pos_fed.append(perf_mean)\n",
    "\n",
    "plt.bar(np.arange(len(layer_perf_pos_fed)), layer_perf_pos_fed)\n",
    "print(\"Best layer Fed feature space: \", np.round(np.arange(0, 4.8, 0.1),2)[np.argmax(layer_perf_pos_fed)])"
   ]
  },
  {
   "cell_type": "code",
   "execution_count": null,
   "metadata": {},
   "outputs": [],
   "source": [
    " pereira_OASM-all-sigma_0.1_1_243.npz"
   ]
  }
 ],
 "metadata": {
  "kernelspec": {
   "display_name": "llm_brain",
   "language": "python",
   "name": "python3"
  },
  "language_info": {
   "codemirror_mode": {
    "name": "ipython",
    "version": 3
   },
   "file_extension": ".py",
   "mimetype": "text/x-python",
   "name": "python",
   "nbconvert_exporter": "python",
   "pygments_lexer": "ipython3",
   "version": "3.11.4"
  },
  "orig_nbformat": 4
 },
 "nbformat": 4,
 "nbformat_minor": 2
}
