{
 "cells": [
  {
   "cell_type": "code",
   "execution_count": 1,
   "metadata": {},
   "outputs": [],
   "source": [
    "import sys\n",
    "sys.path.append('/home2/ebrahim/beyond-brainscore/analyze_results/figures_code/')\n",
    "from trained_untrained_results_funcs import find_best_layer,load_mean_sem_perf, loop_through_datasets\n",
    "import numpy as np\n",
    "from matplotlib import pyplot as plt\n"
   ]
  },
  {
   "cell_type": "code",
   "execution_count": 2,
   "metadata": {},
   "outputs": [],
   "source": [
    "exp = ['243', '384']\n",
    "\n",
    "br_labels_dict = {}\n",
    "num_vox_dict = {}\n",
    "subjects_dict = {}\n",
    "\n",
    "data_processed_folder_pereira = f'/data/LLMs/data_processed/pereira/dataset'\n",
    "data_processed_folder_fed = f'/data/LLMs/data_processed/fedorenko/dataset'\n",
    "data_processed_folder_blank = f'/data/LLMs/data_processed/blank/dataset'\n",
    "\n",
    "subjects_storage = {}\n",
    "network_labels_storage = {}\n",
    "lang_indices = {}\n",
    "\n",
    "for e in exp:\n",
    "\n",
    "    bre = np.load(f'{data_processed_folder_pereira}/networks_{e}.npy', allow_pickle=True)\n",
    "    network_labels_storage[f\"pereira{e}\"]  = bre.squeeze()\n",
    "    num_vox_dict[e] = bre.shape[0]\n",
    "    subjects_storage[f\"pereira{e}\"] = np.load(f\"{data_processed_folder_pereira}/subjects_{e}.npy\", allow_pickle=True).squeeze()\n",
    "    lang_indices[e] = np.argwhere(bre=='language').squeeze()\n",
    "\n",
    "subjects_storage['fedorenko']  = np.load(f\"{data_processed_folder_fed}/subjects.npy\", allow_pickle=True)\n",
    "subjects_storage['blank'] = np.load(f\"{data_processed_folder_blank}/subjects.npy\", allow_pickle=True)\n",
    "\n",
    "network_labels_storage['fedorenko'] = None\n",
    "network_labels_storage['blank'] = None\n",
    "\n",
    "subjects_arr_pereira = np.load(f\"{data_processed_folder_pereira}/subjects_complete.npy\", allow_pickle=True)\n",
    "networks_arr_pereira = np.load(f\"{data_processed_folder_pereira}/network_complete.npy\", allow_pickle=True)\n",
    "\n",
    "resultsPath_base = '/data/LLMs/brainscore/'\n",
    "\n",
    "metrics = ['pearson_r', 'out_of_sample_r2']"
   ]
  },
  {
   "attachments": {},
   "cell_type": "markdown",
   "metadata": {},
   "source": [
    "### For GPT2 and OASM, the best layer is found in the figure1.py file and saved into a dictionary for future use"
   ]
  },
  {
   "attachments": {},
   "cell_type": "markdown",
   "metadata": {},
   "source": [
    "# Pereira"
   ]
  },
  {
   "cell_type": "code",
   "execution_count": 42,
   "metadata": {},
   "outputs": [
    {
     "name": "stdout",
     "output_type": "stream",
     "text": [
      " 243\n",
      "15\n",
      " 384\n",
      "21\n",
      "-mp 243\n",
      "16\n",
      "-mp 384\n",
      "21\n",
      "-sp 243\n",
      "16\n",
      "-sp 384\n",
      "16\n"
     ]
    }
   ],
   "source": [
    "best_gpt2xl = np.load('/home2/ebrahim/beyond-brainscore/analyze_results/figures_code/best_layer_sigma_info/best_gpt2xl_layer.npz')\n",
    "for fe in ['', '-mp', '-sp']:\n",
    "    for exp in ['243', '384']:\n",
    "        print(fe, exp)\n",
    "        print(best_gpt2xl[f'pereira_{exp}_pearson_r_contig{fe}'])"
   ]
  },
  {
   "cell_type": "code",
   "execution_count": 11,
   "metadata": {},
   "outputs": [],
   "source": [
    "def find_best_layer_pereira(model_name, layer_arr, feature_extraction_arr, metrics_arr, \n",
    "                            resultsPath_pereira='/data/LLMs/brainscore/results_pereira/',\n",
    "                            niter=1, lang_only=False, save_path=\"/home2/ebrahim/beyond-brainscore/analyze_results/figures_code/best_layer_sigma_info\"):\n",
    "    \n",
    "    \n",
    "    save_best_layer_dict = {}\n",
    "    for d, fe, exp, subjects, network in loop_through_datasets(['pereira', 'fedorenko', 'blank'], feature_extraction_arr, lang_only=lang_only):\n",
    "\n",
    "        for m in metrics_arr:\n",
    "            for fe in feature_extraction_arr:\n",
    "            \n",
    "                lang_indices = np.argwhere(network=='language').squeeze()\n",
    "                \n",
    "                _, best_layer, _ = find_best_layer(layer_arr, exp=exp, resultsPath=f'/data/LLMs/brainscore/results_{d}/', subjects=subjects, dataset=d, perf=m, \n",
    "                                    selected_network_indices = lang_indices, feature_extraction = fe, model_name=model_name, seed_number=None, \n",
    "                                    return_SE=False, niter=niter)\n",
    "                \n",
    "                save_best_layer_dict[f\"{d}{exp}_{m}_contig{fe}\"] = best_layer\n",
    "                \n",
    "    \n",
    "    np.savez(f\"{save_path}/{model_name}\", **save_best_layer_dict)\n",
    "    \n",
    "find_best_layer_pereira('roberta-large', np.arange(25), ['', '-mp', '-sp'], ['pearson_r', 'out_of_sample_r2'], lang_only=True)\n",
    "find_best_layer_pereira('Llama-3.2-3B-Instruct', np.arange(29), ['', '-mp', '-sp'], ['pearson_r', 'out_of_sample_r2'], lang_only=True)\n",
    "find_best_layer_pereira('rwkv-4-3b-pile', np.arange(33), ['', '-mp', '-sp'], ['pearson_r', 'out_of_sample_r2'], lang_only=True)"
   ]
  },
  {
   "cell_type": "code",
   "execution_count": 45,
   "metadata": {},
   "outputs": [],
   "source": [
    "store_perf_pereira = {}\n",
    "metrics = ['out_of_sample_r2']\n",
    "for d, fe, exp, subjects, network in loop_through_datasets(['pereira'], ['', '-mp', '-sp']):\n",
    "\n",
    "    for m in metrics:\n",
    "        \n",
    "        if d == 'pereira':\n",
    "            lang_indices = np.argwhere(network=='language').squeeze()\n",
    "        else:\n",
    "            lang_indices = None\n",
    "            \n",
    "        e = exp.strip('_')\n",
    "        \n",
    "            \n",
    "        pwr_values = np.round(np.arange(0, 4.8, 0.1),2)\n",
    "        pwr_values[0] = 0.0\n",
    "\n",
    "        layer_perf_dict_PWR, bl, _  = find_best_layer(pwr_values, '', exp=exp, resultsPath=f'/data/LLMs/brainscore/results_{d}/', \n",
    "                                                                            subjects=subjects_storage[f'{d}{e}'], dataset=d, perf=m, \n",
    "                            selected_network_indices = lang_indices, feature_extraction = '', model_name='position', seed_number=None, \n",
    "                            return_SE=False, niter=1)\n",
    "        \n",
    "        store_perf_pereira[f\"PWR_{m}_{e}\"] = bl\n",
    "\n",
    "        e = exp.strip('_')\n",
    "\n",
    "        if fe != '':\n",
    "            layer_perf_dict_glove, bl, _ = find_best_layer([0], '', exp=exp, resultsPath=f'/data/LLMs/brainscore/results_{d}/', \n",
    "                                                                                subjects=subjects_storage[f'{d}{e}'], dataset=f'{d}', perf=m, \n",
    "                                selected_network_indices = lang_indices, feature_extraction = '', model_name=f'glove{fe}', seed_number=None, \n",
    "                                return_SE=False, niter=1)\n",
    "            \n",
    "            store_perf_pereira[f\"Glove_{m}_{e}_{fe}\"] = layer_perf_dict_glove[0]\n",
    "        \n",
    "        \n",
    "        layer_perf_dict_gpt2xl_syntax, bl_syntax, _ = find_best_layer(np.arange(48), '', exp=exp, resultsPath=f'/data/LLMs/brainscore/results_{d}/', \n",
    "                                                                            subjects=subjects_storage[f'{d}{e}'], dataset=f'{d}', perf=m, \n",
    "                            selected_network_indices = lang_indices, feature_extraction = '', model_name=f'gpt2xl-syntax{fe}', seed_number=None, \n",
    "                            return_SE=False, niter=1)\n",
    "        \n",
    "        store_perf_pereira[f\"GPT2XL-syntax_{m}_{e}{fe}\"] = bl_syntax\n",
    "\n",
    "        '''\n",
    "        layer_perf_dict_gpt2xl_decontext, bl_decontext, _ = find_best_layer(np.arange(48), '', exp=exp, resultsPath=f'/data/LLMs/brainscore/results_{d}/', \n",
    "                                                                            subjects=subjects_storage[f'{d}{e}'], dataset=f'{d}', perf=m, \n",
    "                            selected_network_indices = lang_indices, feature_extraction = '', model_name=f'gpt2-xl-decontext{fe}', seed_number=None, \n",
    "                            return_SE=False, niter=1)\n",
    "\n",
    "        layer_perf_dict_reg_decontext_banded, _, _ = find_best_layer([1], '', exp=exp, resultsPath=f'/data/LLMs/brainscore/results_{d}/', \n",
    "                                                                    subjects=subjects_storage[f'{d}{e}'], dataset=f'{d}', perf=m, \n",
    "                    selected_network_indices = lang_indices, feature_extraction = '', model_name=f'gpt2xl-decontext_position{exp}{fe}_pearsonr', seed_number=None, \n",
    "                    return_SE=False, niter=1000)\n",
    "        \n",
    "        layer_perf_dict_reg, bl_reg, _ = find_best_layer(np.arange(48), '', exp=exp, resultsPath=f'/data/LLMs/brainscore/results_{d}/', \n",
    "                                                                            subjects=subjects_storage[f'{d}{e}'], dataset=f'{d}', perf=m, \n",
    "                            selected_network_indices = lang_indices, feature_extraction = '', model_name=f'gpt2-xl{fe}', seed_number=None, \n",
    "                            return_SE=False, niter=1)\n",
    "                            \n",
    "        \n",
    "        \n",
    "        '''\n",
    "        \n",
    "\n",
    "       "
   ]
  },
  {
   "cell_type": "code",
   "execution_count": 46,
   "metadata": {},
   "outputs": [
    {
     "data": {
      "text/plain": [
       "{'PWR_out_of_sample_r2_243': 2.9,\n",
       " 'GPT2XL-syntax_out_of_sample_r2_243': 12,\n",
       " 'PWR_out_of_sample_r2_384': 3.4,\n",
       " 'GPT2XL-syntax_out_of_sample_r2_384': 19,\n",
       " 'Glove_out_of_sample_r2_243_-mp': 0.0028673114162520307,\n",
       " 'GPT2XL-syntax_out_of_sample_r2_243-mp': 12,\n",
       " 'Glove_out_of_sample_r2_384_-mp': 0.01246861708365666,\n",
       " 'GPT2XL-syntax_out_of_sample_r2_384-mp': 16,\n",
       " 'Glove_out_of_sample_r2_243_-sp': 0.016240908388800095,\n",
       " 'GPT2XL-syntax_out_of_sample_r2_243-sp': 7,\n",
       " 'Glove_out_of_sample_r2_384_-sp': 0.010924025079621973,\n",
       " 'GPT2XL-syntax_out_of_sample_r2_384-sp': 16}"
      ]
     },
     "execution_count": 46,
     "metadata": {},
     "output_type": "execute_result"
    }
   ],
   "source": [
    "store_perf_pereira"
   ]
  },
  {
   "cell_type": "code",
   "execution_count": 13,
   "metadata": {},
   "outputs": [],
   "source": [
    "np.savez(\"/home2/ebrahim/beyond-brainscore/analyze_results/figures_code/best_layer_sigma_info/best_layer_other_pereira\", **store_perf_pereira)"
   ]
  },
  {
   "cell_type": "code",
   "execution_count": 25,
   "metadata": {},
   "outputs": [
    {
     "name": "stdout",
     "output_type": "stream",
     "text": [
      "0.09362826641129338 0.11273166127412376\n"
     ]
    }
   ],
   "source": [
    "print((0.08551417674953365 + 0.1017423560730531)/2, (0.12656432497725298 + 0.09889899757099453)/2)"
   ]
  },
  {
   "attachments": {},
   "cell_type": "markdown",
   "metadata": {},
   "source": [
    "# Fedorenko"
   ]
  },
  {
   "cell_type": "code",
   "execution_count": 12,
   "metadata": {},
   "outputs": [
    {
     "name": "stdout",
     "output_type": "stream",
     "text": [
      "Best layer Fed feature space:  4.3\n"
     ]
    },
    {
     "data": {
      "image/png": "[encoded data removed]",
      "text/plain": [
       "<Figure size 640x480 with 1 Axes>"
      ]
     },
     "metadata": {},
     "output_type": "display_data"
    },
    {
     "name": "stdout",
     "output_type": "stream",
     "text": [
      "Best layer Fed feature space:  4.7\n"
     ]
    },
    {
     "data": {
      "image/png": "[encoded data removed]",
      "text/plain": [
       "<Figure size 640x480 with 1 Axes>"
      ]
     },
     "metadata": {},
     "output_type": "display_data"
    }
   ],
   "source": [
    "layer_perf_pos_fed = []\n",
    "for i in np.round(np.arange(0, 4.8, 0.1),2):\n",
    "    perf_mean = load_mean_sem_perf('pos', 'fedorenko', '', i, niter=1, return_mean=True, print_res=False, perf='pearson_r')\n",
    "    layer_perf_pos_fed.append(perf_mean)\n",
    "\n",
    "plt.bar(np.arange(len(layer_perf_pos_fed)), layer_perf_pos_fed)\n",
    "print(\"Best layer Fed feature space: \", np.round(np.arange(0, 4.8, 0.1),2)[np.argmax(layer_perf_pos_fed)])\n",
    "plt.show()\n",
    "\n",
    "layer_perf_pos_fed = []\n",
    "for i in np.round(np.arange(0, 4.8, 0.1),2):\n",
    "    perf_mean = load_mean_sem_perf('pos', 'fedorenko', '', i, niter=1, return_mean=True, print_res=False, perf='out_of_sample_r2')\n",
    "    layer_perf_pos_fed.append(perf_mean)\n",
    "\n",
    "plt.bar(np.arange(len(layer_perf_pos_fed)), layer_perf_pos_fed)\n",
    "print(\"Best layer Fed feature space: \", np.round(np.arange(0, 4.8, 0.1),2)[np.argmax(layer_perf_pos_fed)])"
   ]
  },
  {
   "cell_type": "code",
   "execution_count": 17,
   "metadata": {},
   "outputs": [
    {
     "name": "stdout",
     "output_type": "stream",
     "text": [
      "\n",
      "25\n",
      "-mp\n",
      "25\n",
      "-sp\n",
      "21\n"
     ]
    }
   ],
   "source": [
    "for fe in ['', '-mp', '-sp']:\n",
    "    print(fe)\n",
    "    print(best_gpt2xl[f'fedorenko_pearson_r_contig{fe}'])"
   ]
  },
  {
   "attachments": {},
   "cell_type": "markdown",
   "metadata": {},
   "source": [
    "# Blank"
   ]
  },
  {
   "cell_type": "code",
   "execution_count": 13,
   "metadata": {},
   "outputs": [
    {
     "name": "stdout",
     "output_type": "stream",
     "text": [
      "Best layer Blank simple feature space:  11\n",
      "Best layer Blank simple feature space:  12\n"
     ]
    }
   ],
   "source": [
    "layer_perf_dict, best_layer_blank, layer_perf_best  = find_best_layer(np.arange(3,51), '', '', resultsPath='/data/LLMs/brainscore/results_blank/', subjects=subjects_storage['blank'],\n",
    "                        dataset='blank', perf='out_of_sample_r2', \n",
    "                    selected_network_indices = None, feature_extraction = '', model_name='pos-WN', seed_number=None, \n",
    "                    return_SE=False, niter=1)\n",
    "\n",
    "print(\"Best layer Blank simple feature space: \", best_layer_blank)\n",
    "\n",
    "layer_perf_dict, best_layer_blank, layer_perf_best  = find_best_layer(np.arange(3,51), '', '', resultsPath='/data/LLMs/brainscore/results_blank/', subjects=subjects_storage['blank'],\n",
    "                        dataset='blank', perf='pearson_r', \n",
    "                    selected_network_indices = None, feature_extraction = '', model_name='pos-WN', seed_number=None, \n",
    "                    return_SE=False, niter=1)\n",
    "\n",
    "print(\"Best layer Blank simple feature space: \", best_layer_blank)"
   ]
  },
  {
   "cell_type": "code",
   "execution_count": 18,
   "metadata": {},
   "outputs": [
    {
     "name": "stdout",
     "output_type": "stream",
     "text": [
      "\n",
      "2\n",
      "-mp\n",
      "3\n",
      "-sp\n",
      "2\n"
     ]
    }
   ],
   "source": [
    "for fe in ['', '-mp', '-sp']:\n",
    "    print(fe)\n",
    "    print(best_gpt2xl[f'blank_pearson_r_contig{fe}'])"
   ]
  },
  {
   "cell_type": "code",
   "execution_count": null,
   "metadata": {},
   "outputs": [],
   "source": []
  }
 ],
 "metadata": {
  "kernelspec": {
   "display_name": "llm_brain",
   "language": "python",
   "name": "python3"
  },
  "language_info": {
   "codemirror_mode": {
    "name": "ipython",
    "version": 3
   },
   "file_extension": ".py",
   "mimetype": "text/x-python",
   "name": "python",
   "nbconvert_exporter": "python",
   "pygments_lexer": "ipython3",
   "version": "3.11.4"
  },
  "orig_nbformat": 4
 },
 "nbformat": 4,
 "nbformat_minor": 2
}
