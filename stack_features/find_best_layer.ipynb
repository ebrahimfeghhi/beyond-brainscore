{
 "cells": [
  {
   "cell_type": "code",
   "execution_count": 3,
   "metadata": {},
   "outputs": [],
   "source": [
    "import sys\n",
    "sys.path.append('/home2/ebrahim/beyond-brainscore/analyze_results/figures_code/')\n",
    "from trained_untrained_results_funcs import find_best_layer,load_mean_sem_perf\n",
    "import numpy as np\n",
    "from matplotlib import pyplot as plt\n"
   ]
  },
  {
   "cell_type": "code",
   "execution_count": 39,
   "metadata": {},
   "outputs": [],
   "source": [
    "exp = ['243', '384']\n",
    "\n",
    "br_labels_dict = {}\n",
    "num_vox_dict = {}\n",
    "subjects_dict = {}\n",
    "\n",
    "data_processed_folder_pereira = f'/data/LLMs/data_processed/pereira/dataset'\n",
    "data_processed_folder_fed = f'/data/LLMs/data_processed/fedorenko/dataset'\n",
    "data_processed_folder_blank = f'/data/LLMs/data_processed/blank/dataset'\n",
    "\n",
    "subjects_storage = {}\n",
    "network_labels_storage = {}\n",
    "lang_indices = {}\n",
    "\n",
    "for e in exp:\n",
    "\n",
    "    bre = np.load(f'{data_processed_folder_pereira}/networks_{e}.npy', allow_pickle=True)\n",
    "    network_labels_storage[f\"pereira{e}\"]  = bre.squeeze()\n",
    "    num_vox_dict[e] = bre.shape[0]\n",
    "    subjects_storage[f\"pereira{e}\"] = np.load(f\"{data_processed_folder_pereira}/subjects_{e}.npy\", allow_pickle=True).squeeze()\n",
    "    lang_indices[e] = np.argwhere(bre=='language').squeeze()\n",
    "\n",
    "subjects_storage['fedorenko']  = np.load(f\"{data_processed_folder_fed}/subjects.npy\", allow_pickle=True)\n",
    "subjects_storage['blank'] = np.load(f\"{data_processed_folder_blank}/subjects.npy\", allow_pickle=True)\n",
    "\n",
    "network_labels_storage['fedorenko'] = None\n",
    "network_labels_storage['blank'] = None\n",
    "\n",
    "subjects_arr_pereira = np.load(f\"{data_processed_folder_pereira}/subjects_complete.npy\", allow_pickle=True)\n",
    "networks_arr_pereira = np.load(f\"{data_processed_folder_pereira}/network_complete.npy\", allow_pickle=True)\n",
    "\n",
    "resultsPath_base = '/data/LLMs/brainscore/'\n",
    "                    "
   ]
  },
  {
   "attachments": {},
   "cell_type": "markdown",
   "metadata": {},
   "source": [
    "### For GPT2 and OASM, the best layer is found in the figure1.py file and saved into a dictionary for future use\n",
    "### For the Pereira2018 PWR model, there is no selection of layers."
   ]
  },
  {
   "cell_type": "code",
   "execution_count": 51,
   "metadata": {},
   "outputs": [
    {
     "name": "stdout",
     "output_type": "stream",
     "text": [
      "Best layer Blank simple feature space:  12\n"
     ]
    }
   ],
   "source": [
    "layer_perf_dict, best_layer_blank, layer_perf_best  = find_best_layer(np.arange(3,51), '', '', resultsPath='/data/LLMs/brainscore/results_blank/', subjects=subjects_storage['blank'], dataset='blank', perf='out_of_sample_r2', \n",
    "                    selected_network_indices = None, feature_extraction = '', model_name='pos-WN', seed_number=None, \n",
    "                    return_SE=False, niter=1)\n",
    "\n",
    "print(\"Best layer Blank simple feature space: \", best_layer_blank)"
   ]
  },
  {
   "cell_type": "code",
   "execution_count": 52,
   "metadata": {},
   "outputs": [
    {
     "name": "stdout",
     "output_type": "stream",
     "text": [
      "Best layer Fed feature space:  4.7\n"
     ]
    },
    {
     "data": {
      "image/png": "[encoded data removed]",
      "text/plain": [
       "<Figure size 640x480 with 1 Axes>"
      ]
     },
     "metadata": {},
     "output_type": "display_data"
    }
   ],
   "source": [
    "# Due to an indexing error, layer 4.6 was accidently used for Fed, but as is evident from the bar plot \n",
    "# the difference in performance is very small so computations were not rerun with layer 4.7\n",
    "layer_perf_pos_fed = []\n",
    "for i in np.round(np.arange(0, 4.8, 0.1),2):\n",
    "    perf_mean = load_mean_sem_perf('pos', 'fedorenko', '', i, niter=1, return_mean=True, print_res=False)\n",
    "    layer_perf_pos_fed.append(perf_mean)\n",
    "\n",
    "plt.bar(np.arange(len(layer_perf_pos_fed)), layer_perf_pos_fed)\n",
    "print(\"Best layer Fed feature space: \", np.round(np.arange(0, 4.8, 0.1),2)[np.argmax(layer_perf_pos_fed)])"
   ]
  },
  {
   "cell_type": "code",
   "execution_count": 46,
   "metadata": {},
   "outputs": [
    {
     "name": "stdout",
     "output_type": "stream",
     "text": [
      "Best layer Pereira (384) simple feature space:  0\n",
      "Best layer Pereira (243) simple feature space:  45\n",
      "Best layer Fedorenko simple feature space:  39\n",
      "Best layer Blank simple feature space:  13\n"
     ]
    }
   ],
   "source": [
    "best_layer_pereira_dict_384, best_layer_pereira_gaussian, _  = find_best_layer(np.arange(0,48), '', '_384', \n",
    "                        resultsPath='/data/LLMs/brainscore/results_pereira/', subjects=subjects_storage['pereira384'], dataset='pereira', perf='out_of_sample_r2', \n",
    "                    selected_network_indices = lang_indices['384'], feature_extraction = '', model_name='gaussian', seed_number=None, \n",
    "                    return_SE=False, niter=1)\n",
    "print(\"Best layer Pereira (384) simple feature space: \", best_layer_pereira_gaussian)\n",
    "\n",
    "best_layer_pereira_dict_243, best_layer_pereira_gaussian, _  = find_best_layer(np.arange(0,48), '', '_243', resultsPath='/data/LLMs/brainscore/results_pereira/', \n",
    "                                                            subjects=subjects_storage['pereira243'], dataset='pereira', perf='out_of_sample_r2', \n",
    "                                                            selected_network_indices = lang_indices['243'], feature_extraction = '', model_name='gaussian', seed_number=None, \n",
    "                                                             return_SE=False, niter=1)\n",
    "print(\"Best layer Pereira (243) simple feature space: \", best_layer_pereira_gaussian)\n",
    "\n",
    "\n",
    "_, best_layer_fedorenko_gaussian, _  = find_best_layer(np.arange(0,48), '', '', resultsPath='/data/LLMs/brainscore/results_fedorenko/', subjects=subjects_storage['fedorenko'], dataset='fedorenko', perf='out_of_sample_r2', \n",
    "                    selected_network_indices = None, feature_extraction = '', model_name='gaussian', seed_number=None, \n",
    "                    return_SE=False, niter=1)\n",
    "print(\"Best layer Fedorenko simple feature space: \", best_layer_fedorenko_gaussian)\n",
    "\n",
    "\n",
    "_, best_layer_blank_gaussian, _  = find_best_layer(np.arange(0,48), '', '', resultsPath='/data/LLMs/brainscore/results_blank/', subjects=subjects_storage['blank'], dataset='blank', perf='out_of_sample_r2', \n",
    "                    selected_network_indices = None, feature_extraction = '', model_name='gaussian', seed_number=None, \n",
    "                    return_SE=False, niter=1)\n",
    "print(\"Best layer Blank simple feature space: \", best_layer_blank_gaussian)\n"
   ]
  },
  {
   "cell_type": "code",
   "execution_count": 4,
   "metadata": {},
   "outputs": [],
   "source": [
    "gaussian_best_layer = {'pereira_384': 0, 'pereira_243': 45, 'fedorenko': 39, 'blank': 13}\n",
    "np.savez('/home2/ebrahim/beyond-brainscore/analyze_results/figures_code/best_layer_sigma_info/best_gaussian', **gaussian_best_layer)"
   ]
  },
  {
   "cell_type": "code",
   "execution_count": null,
   "metadata": {},
   "outputs": [],
   "source": []
  }
 ],
 "metadata": {
  "kernelspec": {
   "display_name": "llm_brain",
   "language": "python",
   "name": "python3"
  },
  "language_info": {
   "codemirror_mode": {
    "name": "ipython",
    "version": 3
   },
   "file_extension": ".py",
   "mimetype": "text/x-python",
   "name": "python",
   "nbconvert_exporter": "python",
   "pygments_lexer": "ipython3",
   "version": "3.11.4"
  },
  "orig_nbformat": 4
 },
 "nbformat": 4,
 "nbformat_minor": 2
}
