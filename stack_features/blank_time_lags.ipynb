{
 "cells": [
  {
   "cell_type": "code",
   "execution_count": 32,
   "metadata": {},
   "outputs": [],
   "source": [
    "import sys\n",
    "sys.path.append('/home3/ebrahim2/beyond-brainscore/analyze_results/figures_code/')\n",
    "from trained_untrained_results_funcs import find_best_layer,load_mean_sem_perf, loop_through_datasets\n",
    "import numpy as np\n",
    "from matplotlib import pyplot as plt"
   ]
  },
  {
   "cell_type": "code",
   "execution_count": 28,
   "metadata": {},
   "outputs": [],
   "source": [
    "gpt2_xl_mp = np.load('/data/LLMs/data_processed/blank/acts/X_gpt2-xl-mp.npz')\n",
    "data_labels = np.load('/data/LLMs/data_processed/blank/dataset/data_labels_blank.npy')\n"
   ]
  },
  {
   "cell_type": "code",
   "execution_count": 25,
   "metadata": {},
   "outputs": [],
   "source": [
    "def shift_model_activations(model_acts, story_labels):\n",
    "\n",
    "    samples = model_acts.shape[0]\n",
    "    features = model_acts.shape[1]\n",
    "\n",
    "    shifted_versions = np.zeros((samples, features*4))\n",
    "    \n",
    "    zero_pad = np.zeros(features)\n",
    "        \n",
    "    stories = np.unique(story_labels)\n",
    "    for story in stories:\n",
    "        story_idxs = np.argwhere(story_labels==story)\n",
    "            \n",
    "        model_acts_story = model_acts[story_idxs].squeeze()\n",
    "        model_acts_story_2 = np.vstack((model_acts_story[1:, :], zero_pad)) # 2 second lag\n",
    "        model_acts_story_6 = np.vstack((zero_pad, model_acts_story[:-1, :])) # 6 second lag\n",
    "        model_acts_story_8 = np.vstack((zero_pad, zero_pad, model_acts_story[:-2, :])) # 8 second lag\n",
    "        \n",
    "        model_acts_time_lagged_story = np.hstack((model_acts_story_2, model_acts_story, model_acts_story_6, model_acts_story_8))\n",
    "        \n",
    "        shifted_versions[story_idxs.squeeze()] = model_acts_time_lagged_story\n",
    "        \n",
    "    return shifted_versions\n",
    "    "
   ]
  },
  {
   "cell_type": "code",
   "execution_count": 29,
   "metadata": {},
   "outputs": [],
   "source": [
    "gpt2_xl_mp_stacked = {}\n",
    "for layer_name, layer in gpt2_xl_mp.items():\n",
    "    \n",
    "    gpt2_xl_mp_stacked[layer_name] = shift_model_activations(layer, data_labels)\n",
    "    "
   ]
  },
  {
   "cell_type": "code",
   "execution_count": 30,
   "metadata": {},
   "outputs": [],
   "source": [
    "np.savez(\"/data/LLMs/data_processed/blank/acts/X_timelagged-gpt2-xl-mp.npz\", **gpt2_xl_mp_stacked)"
   ]
  },
  {
   "cell_type": "code",
   "execution_count": 33,
   "metadata": {},
   "outputs": [
    {
     "ename": "FileNotFoundError",
     "evalue": "[Errno 2] No such file or directory: '/data/LLMs/data_processed/blank/subjects.npy'",
     "output_type": "error",
     "traceback": [
      "\u001b[31m---------------------------------------------------------------------------\u001b[39m",
      "\u001b[31mFileNotFoundError\u001b[39m                         Traceback (most recent call last)",
      "\u001b[36mCell\u001b[39m\u001b[36m \u001b[39m\u001b[32mIn[33]\u001b[39m\u001b[32m, line 2\u001b[39m\n\u001b[32m      1\u001b[39m subjects_storage = {}\n\u001b[32m----> \u001b[39m\u001b[32m2\u001b[39m subjects_storage[\u001b[33m'\u001b[39m\u001b[33mblank\u001b[39m\u001b[33m'\u001b[39m] = \u001b[43mnp\u001b[49m\u001b[43m.\u001b[49m\u001b[43mload\u001b[49m\u001b[43m(\u001b[49m\u001b[33;43mf\u001b[39;49m\u001b[33;43m\"\u001b[39;49m\u001b[33;43m/data/LLMs/data_processed/blank/subjects.npy\u001b[39;49m\u001b[33;43m\"\u001b[39;49m\u001b[43m,\u001b[49m\u001b[43m \u001b[49m\u001b[43mallow_pickle\u001b[49m\u001b[43m=\u001b[49m\u001b[38;5;28;43;01mTrue\u001b[39;49;00m\u001b[43m)\u001b[49m\n\u001b[32m      4\u001b[39m layer_perf_dict, best_layer_blank, layer_perf_best  = find_best_layer(np.arange(\u001b[32m49\u001b[39m), \u001b[33m'\u001b[39m\u001b[33m'\u001b[39m, \u001b[33m'\u001b[39m\u001b[33m'\u001b[39m, resultsPath=\u001b[33m'\u001b[39m\u001b[33m/data/LLMs/brainscore/results_blank/\u001b[39m\u001b[33m'\u001b[39m, \n\u001b[32m      5\u001b[39m                     subjects=subjects_storage[\u001b[33m'\u001b[39m\u001b[33mblank\u001b[39m\u001b[33m'\u001b[39m],\n\u001b[32m      6\u001b[39m                     dataset=\u001b[33m'\u001b[39m\u001b[33mblank\u001b[39m\u001b[33m'\u001b[39m, perf=\u001b[33m'\u001b[39m\u001b[33mpearson_r\u001b[39m\u001b[33m'\u001b[39m, \n\u001b[32m      7\u001b[39m                     selected_network_indices = \u001b[38;5;28;01mNone\u001b[39;00m, feature_extraction = \u001b[33m'\u001b[39m\u001b[33m-mp\u001b[39m\u001b[33m'\u001b[39m, model_name=\u001b[33m'\u001b[39m\u001b[33mtimelagged-gpt2-xl\u001b[39m\u001b[33m'\u001b[39m, seed_number=\u001b[38;5;28;01mNone\u001b[39;00m, \n\u001b[32m      8\u001b[39m                     return_SE=\u001b[38;5;28;01mFalse\u001b[39;00m, niter=\u001b[32m1\u001b[39m)\n",
      "\u001b[36mFile \u001b[39m\u001b[32m~/miniconda3/envs/llm_brain_new/lib/python3.11/site-packages/numpy/lib/npyio.py:427\u001b[39m, in \u001b[36mload\u001b[39m\u001b[34m(file, mmap_mode, allow_pickle, fix_imports, encoding, max_header_size)\u001b[39m\n\u001b[32m    425\u001b[39m     own_fid = \u001b[38;5;28;01mFalse\u001b[39;00m\n\u001b[32m    426\u001b[39m \u001b[38;5;28;01melse\u001b[39;00m:\n\u001b[32m--> \u001b[39m\u001b[32m427\u001b[39m     fid = stack.enter_context(\u001b[38;5;28mopen\u001b[39m(os_fspath(file), \u001b[33m\"\u001b[39m\u001b[33mrb\u001b[39m\u001b[33m\"\u001b[39m))\n\u001b[32m    428\u001b[39m     own_fid = \u001b[38;5;28;01mTrue\u001b[39;00m\n\u001b[32m    430\u001b[39m \u001b[38;5;66;03m# Code to distinguish from NumPy binary files and pickles.\u001b[39;00m\n",
      "\u001b[31mFileNotFoundError\u001b[39m: [Errno 2] No such file or directory: '/data/LLMs/data_processed/blank/subjects.npy'"
     ]
    }
   ],
   "source": [
    "subjects_storage = {}\n",
    "subjects_storage['blank'] = np.load(f\"'/data/LLMs/data_processed/blank/dataset/subjects.npy\", allow_pickle=True)\n",
    "\n",
    "layer_perf_dict, best_layer_blank, layer_perf_best  = find_best_layer(np.arange(49), '', '', resultsPath='/data/LLMs/brainscore/results_blank/', \n",
    "                    subjects=subjects_storage['blank'],\n",
    "                    dataset='blank', perf='pearson_r', \n",
    "                    selected_network_indices = None, feature_extraction = '-mp', model_name='timelagged-gpt2-xl', seed_number=None, \n",
    "                    return_SE=False, niter=1)"
   ]
  },
  {
   "cell_type": "code",
   "execution_count": null,
   "metadata": {},
   "outputs": [],
   "source": []
  }
 ],
 "metadata": {
  "kernelspec": {
   "display_name": "llm_brain_new",
   "language": "python",
   "name": "python3"
  },
  "language_info": {
   "codemirror_mode": {
    "name": "ipython",
    "version": 3
   },
   "file_extension": ".py",
   "mimetype": "text/x-python",
   "name": "python",
   "nbconvert_exporter": "python",
   "pygments_lexer": "ipython3",
   "version": "3.11.13"
  },
  "orig_nbformat": 4
 },
 "nbformat": 4,
 "nbformat_minor": 2
}
