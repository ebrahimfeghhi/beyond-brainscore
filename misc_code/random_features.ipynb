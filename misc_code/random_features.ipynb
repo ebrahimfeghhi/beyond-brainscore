{
 "cells": [
  {
   "cell_type": "code",
   "execution_count": 1,
   "metadata": {},
   "outputs": [],
   "source": [
    "import numpy as np"
   ]
  },
  {
   "cell_type": "code",
   "execution_count": 8,
   "metadata": {},
   "outputs": [],
   "source": [
    "dl = np.load('/home3/ebrahim/what-is-brainscore/temp_data_all/data_labels_pereira.npy')\n",
    "first_sent_in_384 = np.zeros(627)\n",
    "for idx, d in enumerate(dl):\n",
    "    if '384' in d:\n",
    "        # if not the same label as the previous \n",
    "        # passage, it's the first sentence\n",
    "        if d != dl[idx-1]:\n",
    "            first_sent_in_384[idx] = 1"
   ]
  },
  {
   "cell_type": "code",
   "execution_count": 9,
   "metadata": {},
   "outputs": [],
   "source": [
    "np.savez('/home3/ebrahim/what-is-brainscore/temp_data_all/temp_data_pereira/X_first-sent-384',\n",
    "         **{'layer1': np.expand_dims(first_sent_in_384,axis=-1)})"
   ]
  },
  {
   "cell_type": "code",
   "execution_count": 10,
   "metadata": {},
   "outputs": [
    {
     "data": {
      "text/plain": [
       "(627,)"
      ]
     },
     "execution_count": 10,
     "metadata": {},
     "output_type": "execute_result"
    }
   ],
   "source": [
    "first_sent_in_384.shape"
   ]
  },
  {
   "cell_type": "code",
   "execution_count": null,
   "metadata": {},
   "outputs": [],
   "source": []
  }
 ],
 "metadata": {
  "kernelspec": {
   "display_name": "llama",
   "language": "python",
   "name": "python3"
  },
  "language_info": {
   "codemirror_mode": {
    "name": "ipython",
    "version": 3
   },
   "file_extension": ".py",
   "mimetype": "text/x-python",
   "name": "python",
   "nbconvert_exporter": "python",
   "pygments_lexer": "ipython3",
   "version": "3.11.4"
  },
  "orig_nbformat": 4
 },
 "nbformat": 4,
 "nbformat_minor": 2
}
