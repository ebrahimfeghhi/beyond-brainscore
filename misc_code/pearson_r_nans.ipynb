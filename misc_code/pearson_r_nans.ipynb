{
 "cells": [
  {
   "attachments": {},
   "cell_type": "markdown",
   "metadata": {},
   "source": [
    "When the L2 penalty is high, the weights are sometimes set to very close to 0 values. This leads to basically constant predictions,  \n",
    "which results in a pearson r value of nan. To avoid this from occurring, we run a separate regression where the L2 penalty is capped\n",
    "to a smaller value. \n",
    "\n",
    "In this script, we replace the nan pearson r voxels with the pearson r values generated with the clipped models.\n"
   ]
  },
  {
   "cell_type": "code",
   "execution_count": 3,
   "metadata": {},
   "outputs": [],
   "source": [
    "import numpy as np"
   ]
  },
  {
   "cell_type": "code",
   "execution_count": 24,
   "metadata": {},
   "outputs": [],
   "source": [
    "def replace_nan_pearsonr(uncapped_models, capped_models, resultsPath):\n",
    "    '''\n",
    "    Loops through uncapped_models and capped_models, and loads their pearson_r values.\n",
    "    Checks to make sure there are no NaN values in capped_model (cm).\n",
    "    If this check is satisfied, replaces all the NaN pearson_r values in uncapped_model (um)\n",
    "    with the values from the same indices from cm. Then resaves this updated data into the um filepath.\n",
    "    '''\n",
    "    for um, cm in zip(uncapped_models, capped_models):\n",
    "        # Construct file paths\n",
    "        um_path = f\"{resultsPath}{um}\"\n",
    "        cm_path = f\"{resultsPath}{cm}\"\n",
    "        \n",
    "        # Load .npz files\n",
    "        um_data = np.load(um_path)\n",
    "        cm_data = np.load(cm_path)\n",
    "        \n",
    "        # Convert NpzFile to a mutable dictionary\n",
    "        um_dict = {key: um_data[key] for key in um_data}\n",
    "        cm_pearsonr = cm_data['pearson_r']\n",
    "        \n",
    "        # Check for NaN values in capped_model\n",
    "        if np.isnan(cm_pearsonr).any():\n",
    "            raise ValueError(f\"NaN values found in capped model {cm}\")\n",
    "        \n",
    "        # Replace NaN values in uncapped_model's pearson_r\n",
    "        um_pearsonr = um_dict['pearson_r']\n",
    "        nan_indices = np.isnan(um_pearsonr)\n",
    "        um_pearsonr[nan_indices] = cm_pearsonr[nan_indices]\n",
    "        \n",
    "        # Update the dictionary with modified pearson_r\n",
    "        um_dict['pearson_r'] = um_pearsonr\n",
    "        \n",
    "        um_mod_path = um_path.replace('.npz', '_mod.npz')\n",
    "        np.savez(um_mod_path, **um_dict)"
   ]
  },
  {
   "cell_type": "code",
   "execution_count": 31,
   "metadata": {},
   "outputs": [],
   "source": [
    "resultsPath_pereira = \"/data/LLMs/brainscore/results_pereira/\"\n",
    "nan_models = ['pereira_trained-var-par_384_pos+WN_1_384.npz', \n",
    "              'pereira_trained-var-par_243_pos+WN_1_243.npz', \n",
    "              'pereira_trained-var-par_384_pos_1_384.npz', \n",
    "              'pereira_trained-var-par_243_pos_1_243.npz']\n",
    "\n",
    "capped_models = ['pereira_positional_WN_smooth_layer_1.2_1_L2-capped_384.npz', \n",
    "                 'pereira_positional_WN_smooth_layer_0.5_1_L2-capped_243.npz', \n",
    "                'pereira_position_layer_1.2_1_L2-capped_384.npz', \n",
    "                'pereira_position_layer_0.5_1_L2-capped_243.npz']\n",
    "\n",
    "replace_nan_pearsonr(nan_models, capped_models, resultsPath_pereira)"
   ]
  },
  {
   "cell_type": "code",
   "execution_count": 30,
   "metadata": {},
   "outputs": [],
   "source": [
    "resultsPath_fedorenko = \"/data/LLMs/brainscore/results_fedorenko/\"\n",
    "nan_models = ['fedorenko_trained-var-par_WP_1.npz']\n",
    "capped_models = ['fedorenko_pos_layer_4.7_1_L2-capped.npz']\n",
    "replace_nan_pearsonr(nan_models, capped_models, resultsPath_fedorenko)"
   ]
  },
  {
   "cell_type": "code",
   "execution_count": null,
   "metadata": {},
   "outputs": [],
   "source": []
  }
 ],
 "metadata": {
  "kernelspec": {
   "display_name": "llm_brain",
   "language": "python",
   "name": "python3"
  },
  "language_info": {
   "codemirror_mode": {
    "name": "ipython",
    "version": 3
   },
   "file_extension": ".py",
   "mimetype": "text/x-python",
   "name": "python",
   "nbconvert_exporter": "python",
   "pygments_lexer": "ipython3",
   "version": "3.11.4"
  },
  "orig_nbformat": 4
 },
 "nbformat": 4,
 "nbformat_minor": 2
}
