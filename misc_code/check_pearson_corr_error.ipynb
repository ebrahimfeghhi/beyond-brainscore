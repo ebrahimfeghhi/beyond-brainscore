{
 "cells": [
  {
   "cell_type": "code",
   "execution_count": 4,
   "metadata": {},
   "outputs": [],
   "source": [
    "from scipy._lib._array_api import (\n",
    "    _asarray,\n",
    "    array_namespace,\n",
    ")\n",
    "\n",
    "import numpy as np"
   ]
  },
  {
   "cell_type": "code",
   "execution_count": 13,
   "metadata": {},
   "outputs": [
    {
     "ename": "AttributeError",
     "evalue": "'numpy.ndarray' object has no attribute 'to'",
     "output_type": "error",
     "traceback": [
      "\u001b[0;31m---------------------------------------------------------------------------\u001b[0m",
      "\u001b[0;31mAttributeError\u001b[0m                            Traceback (most recent call last)",
      "Cell \u001b[0;32mIn[13], line 2\u001b[0m\n\u001b[1;32m      1\u001b[0m x \u001b[39m=\u001b[39m np\u001b[39m.\u001b[39marray([\u001b[39m0\u001b[39m,\u001b[39m0.1\u001b[39m,\u001b[39m0.4\u001b[39m,\u001b[39m0.8\u001b[39m,\u001b[39m1.2\u001b[39m])\n\u001b[0;32m----> 2\u001b[0m y \u001b[39m=\u001b[39m np\u001b[39m.\u001b[39;49marray([\u001b[39m0.5\u001b[39;49m, \u001b[39m0.8\u001b[39;49m, \u001b[39m2.0\u001b[39;49m, \u001b[39m-\u001b[39;49m\u001b[39m1.0\u001b[39;49m])\u001b[39m.\u001b[39;49mto(\u001b[39m'\u001b[39m\u001b[39mfloat32\u001b[39m\u001b[39m'\u001b[39m)\n\u001b[1;32m      3\u001b[0m xp \u001b[39m=\u001b[39m array_namespace(x,y)\n\u001b[1;32m      4\u001b[0m dtype \u001b[39m=\u001b[39m xp\u001b[39m.\u001b[39mresult_type(x\u001b[39m.\u001b[39mdtype, y\u001b[39m.\u001b[39mdtype)\n",
      "\u001b[0;31mAttributeError\u001b[0m: 'numpy.ndarray' object has no attribute 'to'"
     ]
    }
   ],
   "source": [
    "x = np.array([0,0.1,0.4,0.8,1.2]).astype(np.float32)\n",
    "y = np.array([0.5, 0.8, 2.0, -1.0]).astype(np.float32)\n",
    "xp = array_namespace(x,y)\n",
    "dtype = xp.result_type(x.dtype, y.dtype)\n",
    "threshold = xp.finfo(dtype).eps ** 0.75"
   ]
  },
  {
   "cell_type": "code",
   "execution_count": 12,
   "metadata": {},
   "outputs": [
    {
     "data": {
      "text/plain": [
       "1.8189894035458565e-12"
      ]
     },
     "execution_count": 12,
     "metadata": {},
     "output_type": "execute_result"
    }
   ],
   "source": [
    "threshold"
   ]
  },
  {
   "cell_type": "code",
   "execution_count": null,
   "metadata": {},
   "outputs": [],
   "source": []
  }
 ],
 "metadata": {
  "kernelspec": {
   "display_name": "llm_brain",
   "language": "python",
   "name": "python3"
  },
  "language_info": {
   "codemirror_mode": {
    "name": "ipython",
    "version": 3
   },
   "file_extension": ".py",
   "mimetype": "text/x-python",
   "name": "python",
   "nbconvert_exporter": "python",
   "pygments_lexer": "ipython3",
   "version": "3.11.4"
  },
  "orig_nbformat": 4
 },
 "nbformat": 4,
 "nbformat_minor": 2
}
