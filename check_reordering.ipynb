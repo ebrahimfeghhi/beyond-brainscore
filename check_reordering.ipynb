{
 "cells": [
  {
   "cell_type": "code",
   "execution_count": 14,
   "metadata": {},
   "outputs": [],
   "source": [
    "import numpy as np\n",
    "import pandas as spd\n",
    "from netCDF4 import Dataset"
   ]
  },
  {
   "attachments": {},
   "cell_type": "markdown",
   "metadata": {},
   "source": [
    "I used code in the legacy folder to order the text and neural data. Basically, run_LLM.py and run_funcs.py\n",
    "in the activations folder are used to save model activations in a pickle file format. Each pickle file\n",
    "is labeled according to the expriment, passage category, and passage label. The reason I did this is because\n",
    "that's how data in Schrimpf was saved (and I originally wanted to maintain consistency). Next, each pickle file is\n",
    "loaded, and the passage category and label in the file are used to index the neural data. This is done \n",
    "in saving_data.py and saving_funcs.py. I saved the indices into reordered_idxs.npy. "
   ]
  },
  {
   "cell_type": "code",
   "execution_count": 31,
   "metadata": {},
   "outputs": [],
   "source": [
    "nc_file = 'no_share/Pereira_data.nc'\n",
    "pereira_data_orig = Dataset(nc_file, mode='r')"
   ]
  },
  {
   "cell_type": "code",
   "execution_count": 16,
   "metadata": {},
   "outputs": [],
   "source": [
    "reordered_idxs = np.load('reordered_idxs.npy')"
   ]
  },
  {
   "cell_type": "code",
   "execution_count": 17,
   "metadata": {},
   "outputs": [],
   "source": [
    "y_ordered = np.load('/home3/ebrahim/what-is-brainscore/data_processed/pereira/y_pereira_both.npy')"
   ]
  },
  {
   "cell_type": "code",
   "execution_count": 28,
   "metadata": {},
   "outputs": [
    {
     "data": {
      "text/plain": [
       "True"
      ]
     },
     "execution_count": 28,
     "metadata": {},
     "output_type": "execute_result"
    }
   ],
   "source": [
    "np.array_equal(pereira_data['data'][reordered_idxs], y_ordered)"
   ]
  },
  {
   "cell_type": "code",
   "execution_count": 29,
   "metadata": {},
   "outputs": [
    {
     "data": {
      "text/plain": [
       "(627, 49760)"
      ]
     },
     "execution_count": 29,
     "metadata": {},
     "output_type": "execute_result"
    }
   ],
   "source": [
    "pereira_data['data'][reordered_idxs].shape"
   ]
  },
  {
   "cell_type": "code",
   "execution_count": 34,
   "metadata": {},
   "outputs": [],
   "source": [
    "nc_file = 'no_share/pereira_all.nc'\n",
    "pereira_data = Dataset(nc_file, mode='r')"
   ]
  },
  {
   "cell_type": "code",
   "execution_count": 70,
   "metadata": {},
   "outputs": [
    {
     "data": {
      "text/plain": [
       "<class 'netCDF4.Dataset'>\n",
       "root group (NETCDF4 data model, file format HDF5):\n",
       "    version: base\n",
       "    class_module: brainio_base.assemblies\n",
       "    class_name: NeuroidAssembly\n",
       "    stimulus_set_name: Pereira2018\n",
       "    dimensions(sizes): presentation(627), neuroid(103900)\n",
       "    variables(dimensions): int64 stimulus_num(presentation), int64 passage_index(presentation), <class 'str'> passage_label(presentation), <class 'str'> passage_category(presentation), <class 'str'> stimulus_id(presentation), <class 'str'> story(presentation), <class 'str'> experiment(presentation), <class 'str'> subject(neuroid), int64 voxel_num(neuroid), <class 'str'> atlas(neuroid), <class 'str'> filter_strategy(neuroid), <class 'str'> atlas_selection(neuroid), <class 'str'> roi(neuroid), int64 indices_in_3d(neuroid), int64 col_to_coord_1(neuroid), int64 col_to_coord_2(neuroid), int64 col_to_coord_3(neuroid), <class 'str'> neuroid_id(neuroid), float64 data(presentation, neuroid)\n",
       "    groups: "
      ]
     },
     "execution_count": 70,
     "metadata": {},
     "output_type": "execute_result"
    }
   ],
   "source": [
    "pereira_data"
   ]
  },
  {
   "cell_type": "code",
   "execution_count": 76,
   "metadata": {},
   "outputs": [],
   "source": [
    "np.save('/data/LLMs/data_processed/pereira/dataset/subjects_complete', np.array(pereira_data['subject']))\n",
    "np.save('/data/LLMs/data_processed/pereira/dataset/network_complete', np.array(pereira_data['atlas']))"
   ]
  },
  {
   "cell_type": "code",
   "execution_count": 37,
   "metadata": {},
   "outputs": [
    {
     "name": "stdout",
     "output_type": "stream",
     "text": [
      "(627, 103900)\n"
     ]
    }
   ],
   "source": [
    "y_all = pereira_data['data']"
   ]
  },
  {
   "cell_type": "code",
   "execution_count": 40,
   "metadata": {},
   "outputs": [],
   "source": [
    "y_all = y_all[reordered_idxs]"
   ]
  },
  {
   "cell_type": "code",
   "execution_count": null,
   "metadata": {},
   "outputs": [],
   "source": [
    "np.where(np.isnan(y_all))"
   ]
  },
  {
   "cell_type": "code",
   "execution_count": 79,
   "metadata": {},
   "outputs": [],
   "source": [
    "y_all_243 = y_all[:243]\n",
    "\n",
    "y_all_384 = y_all[243:]\n",
    "\n",
    "#nan_indices_384 = np.where(np.isnan(y_all_384[0]))[0]\n",
    "\n",
    "# Find indices in y_all_243 where values are not NaN\n",
    "non_nan_indices_243 = np.where(~np.isnan(y_all_243[0]))[0]\n",
    "\n",
    "# Find indices in y_all_384 where values are not NaN\n",
    "non_nan_indices_384 = np.where(~np.isnan(y_all_384[0]))[0]\n"
   ]
  },
  {
   "cell_type": "code",
   "execution_count": 83,
   "metadata": {},
   "outputs": [],
   "source": [
    "np.save('/data/LLMs/data_processed/pereira/dataset/non_nan_indices_243', non_nan_indices_243)\n",
    "np.save('/data/LLMs/data_processed/pereira/dataset/non_nan_indices_384', non_nan_indices_384)"
   ]
  },
  {
   "cell_type": "code",
   "execution_count": 57,
   "metadata": {},
   "outputs": [
    {
     "data": {
      "text/plain": [
       "60100"
      ]
     },
     "execution_count": 57,
     "metadata": {},
     "output_type": "execute_result"
    }
   ],
   "source": [
    "y_all.shape[1] - nan_indices_243.shape[0]"
   ]
  },
  {
   "cell_type": "code",
   "execution_count": 54,
   "metadata": {},
   "outputs": [
    {
     "data": {
      "text/plain": [
       "(11360,)"
      ]
     },
     "execution_count": 54,
     "metadata": {},
     "output_type": "execute_result"
    }
   ],
   "source": [
    "nan_indices_384.shape"
   ]
  },
  {
   "cell_type": "code",
   "execution_count": 43,
   "metadata": {},
   "outputs": [
    {
     "name": "stdout",
     "output_type": "stream",
     "text": [
      "(43800,) (11360,)\n"
     ]
    }
   ],
   "source": [
    "print(nan_indices_243.shape, nan_indices_384.shape)"
   ]
  },
  {
   "cell_type": "code",
   "execution_count": 15,
   "metadata": {},
   "outputs": [],
   "source": [
    "y_all_243 = y_all[:243]\n",
    "nan_indices = np.where(np.isnan(y_all_243[0]))[0]\n",
    "cleaned_array_243 = np.delete(y_all_243, nan_indices, axis=1)\n",
    "subjects_all_243 = np.delete(subjects_all, nan_indices)\n",
    "networks_all_243 = np.delete(networks_all, nan_indices)\n",
    "col_to_coord1_243 = np.delete(col_to_coord1, nan_indices)\n",
    "col_to_coord2_243 = np.delete(col_to_coord2, nan_indices)\n",
    "col_to_coord3_243 = np.delete(col_to_coord3, nan_indices)\n",
    "np.save('/home3/ebrahim/what-is-brainscore/data_processed/pereira/y_pereira_243.npy', cleaned_array_243)\n",
    "np.save('/home3/ebrahim/what-is-brainscore/data_processed/pereira/subjects_243.npy', subjects_all_243)\n",
    "np.save('/home3/ebrahim/what-is-brainscore/data_processed/pereira/networks_243.npy', networks_all_243)\n",
    "np.save('/home3/ebrahim/what-is-brainscore/data_processed/pereira/col_to_coord_1_243.npy', col_to_coord1_243)\n",
    "np.save('/home3/ebrahim/what-is-brainscore/data_processed/pereira/col_to_coord_2_243.npy', col_to_coord2_243)\n",
    "np.save('/home3/ebrahim/what-is-brainscore/data_processed/pereira/col_to_coord_3_243.npy', col_to_coord3_243)\n"
   ]
  },
  {
   "cell_type": "code",
   "execution_count": 16,
   "metadata": {},
   "outputs": [],
   "source": [
    "y_all_384 = y_all[243:]\n",
    "nan_indices = np.where(np.isnan(y_all_384[0]))[0]\n",
    "cleaned_array_384 = np.delete(y_all_384, nan_indices, axis=1)\n",
    "subjects_all_384 = np.delete(subjects_all, nan_indices)\n",
    "networks_all_384 = np.delete(networks_all, nan_indices)\n",
    "col_to_coord1_384 = np.delete(col_to_coord1, nan_indices)\n",
    "col_to_coord2_384 = np.delete(col_to_coord2, nan_indices)\n",
    "col_to_coord3_384 = np.delete(col_to_coord3, nan_indices)\n",
    "np.save('/home3/ebrahim/what-is-brainscore/data_processed/pereira/y_pereira_384.npy', cleaned_array_384)\n",
    "np.save('/home3/ebrahim/what-is-brainscore/data_processed/pereira/subjects_384.npy', subjects_all_384)\n",
    "np.save('/home3/ebrahim/what-is-brainscore/data_processed/pereira/networks_384.npy', networks_all_384)\n",
    "np.save('/home3/ebrahim/what-is-brainscore/data_processed/pereira/col_to_coord_1_384.npy', col_to_coord1_384)\n",
    "np.save('/home3/ebrahim/what-is-brainscore/data_processed/pereira/col_to_coord_2_384.npy', col_to_coord2_384)\n",
    "np.save('/home3/ebrahim/what-is-brainscore/data_processed/pereira/col_to_coord_3_384.npy', col_to_coord3_384)\n"
   ]
  },
  {
   "cell_type": "code",
   "execution_count": 101,
   "metadata": {},
   "outputs": [
    {
     "data": {
      "text/plain": [
       "array(['018', '215', '288', '289', '296', '426'], dtype=object)"
      ]
     },
     "execution_count": 101,
     "metadata": {},
     "output_type": "execute_result"
    }
   ],
   "source": [
    "np.unique(subjects_all_243)"
   ]
  },
  {
   "cell_type": "code",
   "execution_count": 102,
   "metadata": {},
   "outputs": [
    {
     "data": {
      "text/plain": [
       "array(['018', '199', '288', '289', '296', '343', '366', '407', '426'],\n",
       "      dtype=object)"
      ]
     },
     "execution_count": 102,
     "metadata": {},
     "output_type": "execute_result"
    }
   ],
   "source": [
    "np.unique(subjects_all_384)"
   ]
  },
  {
   "cell_type": "code",
   "execution_count": 83,
   "metadata": {},
   "outputs": [],
   "source": [
    "y_both = np.load('/home3/ebrahim/what-is-brainscore/data_processed/pereira/y_pereira.npy')"
   ]
  },
  {
   "cell_type": "code",
   "execution_count": 104,
   "metadata": {},
   "outputs": [
    {
     "data": {
      "text/plain": [
       "True"
      ]
     },
     "execution_count": 104,
     "metadata": {},
     "output_type": "execute_result"
    }
   ],
   "source": [
    "np.array_equal(y_both[:243,0], y_all_243[:243,0])"
   ]
  }
 ],
 "metadata": {
  "kernelspec": {
   "display_name": "llama",
   "language": "python",
   "name": "python3"
  },
  "language_info": {
   "codemirror_mode": {
    "name": "ipython",
    "version": 3
   },
   "file_extension": ".py",
   "mimetype": "text/x-python",
   "name": "python",
   "nbconvert_exporter": "python",
   "pygments_lexer": "ipython3",
   "version": "3.9.18"
  },
  "orig_nbformat": 4
 },
 "nbformat": 4,
 "nbformat_minor": 2
}
