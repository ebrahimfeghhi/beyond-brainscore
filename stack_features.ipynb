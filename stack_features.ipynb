{
 "cells": [
  {
   "cell_type": "code",
   "execution_count": 2,
   "metadata": {},
   "outputs": [],
   "source": [
    "import numpy as np\n",
    "import sys\n",
    "sys.path.append('analyze_results/figures_code/')"
   ]
  },
  {
   "cell_type": "code",
   "execution_count": 3,
   "metadata": {},
   "outputs": [],
   "source": [
    "feature_extraction = ['', '-mp', '-sp']"
   ]
  },
  {
   "cell_type": "code",
   "execution_count": 4,
   "metadata": {},
   "outputs": [],
   "source": [
    "best_sigma_dict = np.load('/home2/ebrahim/beyond-brainscore/analyze_results/figures_code/best_layer_sigma_info/best_sigma.npz')\n",
    "best_gpt2xl_layer_dict = np.load('/home2/ebrahim/beyond-brainscore/analyze_results/figures_code/best_layer_sigma_info/best_gpt2xl_layer.npz')"
   ]
  },
  {
   "cell_type": "code",
   "execution_count": 5,
   "metadata": {},
   "outputs": [
    {
     "ename": "NameError",
     "evalue": "name 'best_gpt2xl_layer' is not defined",
     "output_type": "error",
     "traceback": [
      "\u001b[0;31m---------------------------------------------------------------------------\u001b[0m",
      "\u001b[0;31mNameError\u001b[0m                                 Traceback (most recent call last)",
      "Cell \u001b[0;32mIn[5], line 1\u001b[0m\n\u001b[0;32m----> 1\u001b[0m best_gpt2xl_layer[\u001b[39mf\u001b[39m\u001b[39m'\u001b[39m\u001b[39m{\u001b[39;00md\u001b[39m}\u001b[39;00m\u001b[39m_\u001b[39m\u001b[39m{\u001b[39;00me\u001b[39m}\u001b[39;00m\u001b[39m_out_of_sample_r2_shuffled_ridge\u001b[39m\u001b[39m{\u001b[39;00mfe\u001b[39m}\u001b[39;00m\u001b[39m'\u001b[39m]\n",
      "\u001b[0;31mNameError\u001b[0m: name 'best_gpt2xl_layer' is not defined"
     ]
    }
   ],
   "source": [
    "best_gpt2xl_layer[f'{d}_{e}_out_of_sample_r2_shuffled_ridge{fe}']"
   ]
  },
  {
   "cell_type": "code",
   "execution_count": 6,
   "metadata": {},
   "outputs": [
    {
     "name": "stdout",
     "output_type": "stream",
     "text": [
      "(627, 2227)\n",
      "(627, 2227)\n",
      "(627, 2227)\n",
      "(627, 2227)\n",
      "(627, 2227)\n",
      "(627, 2227)\n",
      "(416, 2016)\n",
      "(416, 2016)\n",
      "(416, 2016)\n",
      "(1317, 2917)\n",
      "(1317, 2917)\n",
      "(1317, 2917)\n"
     ]
    }
   ],
   "source": [
    "datasets = ['pereira', 'fedorenko', 'blank']\n",
    "for d in datasets:\n",
    "    \n",
    "    if d == 'pereira':\n",
    "        exp = ['_384', '_243']\n",
    "    else:\n",
    "        exp = ['']\n",
    "        \n",
    "    for e in exp:\n",
    "        \n",
    "        best_sigma_value = str(best_sigma_dict[f'{d}{e}_out_of_sample_r2_shuffled_ridge'])\n",
    "        OASM_acts = np.load(f'/data/LLMs/data_processed/{d}/acts/X_OASM-all-sigma.npz')\n",
    "        OASM_best_sigma = OASM_acts[best_sigma_value]\n",
    "\n",
    "        for fe in feature_extraction:\n",
    "            gpt2xl_pereira = np.load(f'/data/LLMs/data_processed/{d}/acts/X_gpt2-xl{fe}.npz')\n",
    "            best_gpt2xl_layer = best_gpt2xl_layer_dict[f'{d}{e}_out_of_sample_r2_shuffled_ridge{fe}']\n",
    "        \n",
    "            gpt2xl_best_layer_acts =  gpt2xl_pereira[f\"layer_{best_gpt2xl_layer}\"]\n",
    "            \n",
    "            gpt2xl_OASM_stacked = np.hstack((gpt2xl_best_layer_acts, OASM_best_sigma))\n",
    "            \n",
    "            print(gpt2xl_OASM_stacked.shape)\n",
    "    \n",
    "            np.savez(f'/data/LLMs/data_processed/{d}/acts/X_gpt2-xl{fe}_OASM', **{'layer1': gpt2xl_OASM_stacked})\n"
   ]
  },
  {
   "cell_type": "code",
   "execution_count": 8,
   "metadata": {},
   "outputs": [
    {
     "data": {
      "text/plain": [
       "416"
      ]
     },
     "execution_count": 8,
     "metadata": {},
     "output_type": "execute_result"
    }
   ],
   "source": [
    "2016 - 1600"
   ]
  },
  {
   "cell_type": "code",
   "execution_count": null,
   "metadata": {},
   "outputs": [],
   "source": []
  }
 ],
 "metadata": {
  "kernelspec": {
   "display_name": "llm_brain",
   "language": "python",
   "name": "python3"
  },
  "language_info": {
   "codemirror_mode": {
    "name": "ipython",
    "version": 3
   },
   "file_extension": ".py",
   "mimetype": "text/x-python",
   "name": "python",
   "nbconvert_exporter": "python",
   "pygments_lexer": "ipython3",
   "version": "3.11.4"
  },
  "orig_nbformat": 4
 },
 "nbformat": 4,
 "nbformat_minor": 2
}
