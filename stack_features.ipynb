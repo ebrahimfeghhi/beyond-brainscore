{
 "cells": [
  {
   "cell_type": "code",
   "execution_count": 28,
   "metadata": {},
   "outputs": [],
   "source": [
    "import numpy as np\n",
    "import sys\n",
    "sys.path.append('analyze_results/figures_code/')"
   ]
  },
  {
   "cell_type": "code",
   "execution_count": 29,
   "metadata": {},
   "outputs": [],
   "source": [
    "feature_extraction = ['', '-mp', '-sp']"
   ]
  },
  {
   "cell_type": "code",
   "execution_count": 62,
   "metadata": {},
   "outputs": [],
   "source": [
    "best_sigma_dict = np.load('/home2/ebrahim/beyond-brainscore/analyze_results/figures_code/best_layer_sigma_info/best_sigma.npz')\n",
    "best_gpt2xl_layer_dict = np.load('/home2/ebrahim/beyond-brainscore/analyze_results/figures_code/best_layer_sigma_info/best_gpt2xl_layer.npz')"
   ]
  },
  {
   "cell_type": "code",
   "execution_count": 61,
   "metadata": {},
   "outputs": [
    {
     "data": {
      "text/plain": [
       "array(48)"
      ]
     },
     "execution_count": 61,
     "metadata": {},
     "output_type": "execute_result"
    }
   ],
   "source": [
    "best_gpt2xl_layer[f'{d}_{e}_out_of_sample_r2_shuffled_ridge{fe}']"
   ]
  },
  {
   "cell_type": "code",
   "execution_count": 70,
   "metadata": {},
   "outputs": [],
   "source": [
    "datasets = ['pereira', 'fedorenko', 'blank']\n",
    "for d in datasets:\n",
    "    \n",
    "    if d == 'pereira':\n",
    "        exp = ['_384', '_243']\n",
    "    else:\n",
    "        exp = ['']\n",
    "        \n",
    "    for e in exp:\n",
    "        \n",
    "        best_sigma_value = str(best_sigma_dict[f'{d}{e}_out_of_sample_r2_shuffled_ridge'])\n",
    "        OASM_acts = np.load(f'/data/LLMs/data_processed/{d}/acts/X_OASM-all-sigma.npz')\n",
    "        OASM_best_sigma = OASM_acts[best_sigma_value]\n",
    "\n",
    "        for fe in feature_extraction:\n",
    "            gpt2xl_pereira = np.load(f'/data/LLMs/data_processed/{d}/acts/X_gpt2-xl{fe}.npz')\n",
    "            best_gpt2xl_layer = best_gpt2xl_layer_dict[f'{d}{e}_out_of_sample_r2_shuffled_ridge{fe}']\n",
    "        \n",
    "            gpt2xl_best_layer_acts =  gpt2xl_pereira[f\"layer_{best_gpt2xl_layer}\"]\n",
    "            \n",
    "            gpt2xl_OASM_stacked = np.hstack((gpt2xl_best_layer_acts, OASM_best_sigma))\n",
    "    \n",
    "            np.savez(f'/data/LLMs/data_processed/{d}/acts/X_gpt2-xl{fe}_OASM', **{'layer1': gpt2xl_OASM_stacked})\n"
   ]
  },
  {
   "cell_type": "code",
   "execution_count": 43,
   "metadata": {},
   "outputs": [
    {
     "name": "stdout",
     "output_type": "stream",
     "text": [
      "layer_0\n",
      "layer_1\n",
      "layer_2\n",
      "layer_3\n",
      "layer_4\n",
      "layer_5\n",
      "layer_6\n",
      "layer_7\n",
      "layer_8\n",
      "layer_9\n",
      "layer_10\n",
      "layer_11\n",
      "layer_12\n",
      "layer_13\n",
      "layer_14\n",
      "layer_15\n",
      "layer_16\n",
      "layer_17\n",
      "layer_18\n",
      "layer_19\n",
      "layer_20\n",
      "layer_21\n",
      "layer_22\n",
      "layer_23\n",
      "layer_24\n",
      "layer_25\n",
      "layer_26\n",
      "layer_27\n",
      "layer_28\n",
      "layer_29\n",
      "layer_30\n",
      "layer_31\n",
      "layer_32\n",
      "layer_33\n",
      "layer_34\n",
      "layer_35\n",
      "layer_36\n",
      "layer_37\n",
      "layer_38\n",
      "layer_39\n",
      "layer_40\n",
      "layer_41\n",
      "layer_42\n",
      "layer_43\n",
      "layer_44\n",
      "layer_45\n",
      "layer_46\n",
      "layer_47\n",
      "layer_48\n"
     ]
    }
   ],
   "source": [
    "for key in gpt2xl_pereira.keys():\n",
    "    print(key)"
   ]
  },
  {
   "cell_type": "code",
   "execution_count": 22,
   "metadata": {},
   "outputs": [
    {
     "data": {
      "text/plain": [
       "NpzFile '/home2/ebrahim/beyond-brainscore/analyze_results/figures_code/best_layer_sigma_info/best_gpt2xl_layer.npz' with keys: pereira_384_pearson_r_contig_ridge_-lt, pereira_243_pearson_r_contig_ridge_-lt, pereira_384_pearson_r_contig_ridge_-sp, pereira_243_pearson_r_contig_ridge_-sp, pereira_384_pearson_r_contig_ridge_-mp..."
      ]
     },
     "execution_count": 22,
     "metadata": {},
     "output_type": "execute_result"
    }
   ],
   "source": [
    "best_gpt2xl_layer"
   ]
  },
  {
   "cell_type": "code",
   "execution_count": null,
   "metadata": {},
   "outputs": [],
   "source": []
  }
 ],
 "metadata": {
  "kernelspec": {
   "display_name": "llm_brain",
   "language": "python",
   "name": "python3"
  },
  "language_info": {
   "codemirror_mode": {
    "name": "ipython",
    "version": 3
   },
   "file_extension": ".py",
   "mimetype": "text/x-python",
   "name": "python",
   "nbconvert_exporter": "python",
   "pygments_lexer": "ipython3",
   "version": "3.11.4"
  },
  "orig_nbformat": 4
 },
 "nbformat": 4,
 "nbformat_minor": 2
}
